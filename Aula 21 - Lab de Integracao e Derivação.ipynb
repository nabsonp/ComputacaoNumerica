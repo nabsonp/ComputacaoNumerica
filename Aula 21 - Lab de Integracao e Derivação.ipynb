{
 "cells": [
  {
   "cell_type": "markdown",
   "metadata": {},
   "source": [
    "# Integração\n",
    "\n",
    "Newton cotes: aproxima a função por um polinômio de newton e calcula a integral.\n",
    "\n",
    "### Trapézio: ###\n",
    "\n",
    "Aproxima a função f(x) por um trapézio (2 pontos)\n",
    "\n",
    "$$ I_1 = \\frac{h}{2}(y_0+y_1)$$\n",
    "\n",
    "### 1/3 de Simpson: ###\n",
    "\n",
    "Aproxima a função f(x) por uma parábola (3 pontos)\n",
    "\n",
    "$$ I_2 = \\frac{h}{3}(y_0+4y_1+y_2) $$\n",
    "\n",
    "\n",
    "### 3/8 de Simpson: ###\n",
    "\n",
    "Aproxima a função f(x) por uma hipérbole (4 pontos)\n",
    "\n",
    "$$ I_3 = \\frac{3h}{8}(y_0+3y_1+3y_2+y_3) $$\n",
    "\n",
    "Onde h é a distância entre dois pontos (equidistantes)"
   ]
  },
  {
   "cell_type": "code",
   "execution_count": 36,
   "metadata": {},
   "outputs": [],
   "source": [
    "import numpy as np\n",
    "import matplotlib.pyplot as plt\n",
    "\n",
    "def trapezio(y,h):\n",
    "    return (y[0]+y[1])*h/2.0\n",
    "\n",
    "def umtercosimpson(y,h):\n",
    "    return (h*(y[0]+4*y[1]+y[2]))/3.0\n",
    "\n",
    "def tresoitavos(y,h):\n",
    "    return (3.0*h*(y[0]+3*y[1]+3*y[2]+y[3]))/8.0"
   ]
  },
  {
   "cell_type": "markdown",
   "metadata": {},
   "source": [
    "## Vamos testar?\n",
    "\n",
    "$$ \\int_0^1 e^{-x} dx$$\n",
    "\n",
    "$$ \\int_0^1 x^{2} dx$$\n",
    "\n",
    "$$ \\int_0^1 x^{3} dx$$\n",
    "\n",
    "$$ \\int_0^1 xe^{-x^2} dx$$\n",
    "\n",
    "$$ \\int_0^1 \\frac{1}{x^{2}+1} dx$$\n",
    "\n",
    "\n",
    "Faça os três métodos acima, e compare o erro absoluto e relativo com as integrais exatas (use o wolphram alpha)"
   ]
  },
  {
   "cell_type": "code",
   "execution_count": 48,
   "metadata": {},
   "outputs": [],
   "source": [
    "def integral(f,x):\n",
    "    h = x[1]-x[0]\n",
    "    print(\"\\tTrapézio:\",trapezio(f(x),h))\n",
    "    print(\"\\tUm Terço:\",umtercosimpson(f(np.linspace(x[0],x[1],3)),h/2.0))\n",
    "    print(\"\\tTrês oitavos:\",tresoitavos(f(np.linspace(x[0],x[1],4)),h/3.0))"
   ]
  },
  {
   "cell_type": "code",
   "execution_count": 53,
   "metadata": {},
   "outputs": [
    {
     "name": "stdout",
     "output_type": "stream",
     "text": [
      "-> Função  1 = 0.68\n",
      "\tTrapézio: 0.6839397205857212\n",
      "\tUm Terço: 0.6323336800036626\n",
      "\tTrês oitavos: 0.6322155912488232\n",
      "----------------------------------\n",
      "-> Função  2 = 0.3...\n",
      "\tTrapézio: 0.5\n",
      "\tUm Terço: 0.3333333333333333\n",
      "\tTrês oitavos: 0.3333333333333333\n",
      "----------------------------------\n",
      "-> Função  3 = 0.25\n",
      "\tTrapézio: 0.5\n",
      "\tUm Terço: 0.25\n",
      "\tTrês oitavos: 0.24999999999999994\n",
      "----------------------------------\n",
      "-> Função  4 = 0.31606...\n",
      "\tTrapézio: 0.18393972058572117\n",
      "\tUm Terço: 0.320913501219042\n",
      "\tTrês oitavos: 0.31813494185571517\n",
      "----------------------------------\n",
      "-> Função  5 = 0.78540\n",
      "\tTrapézio: 0.75\n",
      "\tUm Terço: 0.7833333333333333\n",
      "\tTrês oitavos: 0.7846153846153845\n"
     ]
    }
   ],
   "source": [
    "x = np.array([0,1])\n",
    "print(\"-> Função  1 = 0.68\")\n",
    "integral(lambda x:np.exp(-x),x)\n",
    "print('----------------------------------')\n",
    "print(\"-> Função  2 = 0.3...\")\n",
    "integral(lambda x:np.power(x,2),x)\n",
    "print('----------------------------------')\n",
    "print(\"-> Função  3 = 0.25\")\n",
    "integral(lambda x:np.power(x,3),x)\n",
    "print('----------------------------------')\n",
    "print(\"-> Função  4 = 0.31606...\")\n",
    "integral(lambda x:x*np.exp(-x*x),x)\n",
    "print('----------------------------------')\n",
    "print(\"-> Função  5 = 0.78540\")\n",
    "integral(lambda x:1.0/(x*x+1),x)"
   ]
  },
  {
   "cell_type": "markdown",
   "metadata": {},
   "source": [
    "# Integração Composta\n",
    "\n",
    "### Trapézio Composto:\n",
    "\n",
    "$$ I_1 = \\frac{h}{2}(y_0+2y_1+2y_2+...+2y_{n-1}+y_n)$$\n",
    "\n",
    "Funciona para qualquer numero de pontos $>=2$.\n",
    "\n",
    "### 1/3 de Simpson\n",
    "\n",
    "$$ I_2 = \\frac{h}{3}(y_0+4y_1+2y_2+4y_3+2y_4+...+2y_{n-2}+4y_{n-1}+y_n) $$\n",
    "\n",
    "Funciona para $3+2n$ pontos, com $n>=0$\n",
    "\n",
    "### 3/8 de Simpson\n",
    "\n",
    "$$ I_3 = \\frac{3h}{8}(y_0+3y_1+3y_2+2y_3+...+2y_{n-3}+3y_{n-2}+3y_{n-1}+y_n)$$\n",
    "\n",
    "Funciona para $4+3n$ pontos, com $n>=0$\n"
   ]
  },
  {
   "cell_type": "code",
   "execution_count": 96,
   "metadata": {},
   "outputs": [],
   "source": [
    "def trapezioc(y,h):\n",
    "    return (y[0]+(2*y[1:-1]).sum()+y[-1])*h/2.0\n",
    "\n",
    "def umtercosimpsonc(y,h):\n",
    "    print([y[i]+4*y[i+1]+y[i+2] for i in range(len(y)-2,2)])\n",
    "    return sum([y[i]+4*y[i+1]+y[i+2] for i in range(len(y)-2,2)])*h/3.0\n",
    "\n",
    "def tresoitavosc(y,h):\n",
    "    return sum([y[i]+3*y[i+1]+3*y[i+2]+y[i+3] for i in range(len(y)-3,3)])*3.0*h/8.0\n",
    "\n",
    "def integralComposta(f,x,n):\n",
    "    y = np.linspace(x[0],x[1],n)\n",
    "    print(\"\\tTrapézio:\",trapezioc(f(y),y[1]-y[0]))\n",
    "    y = np.linspace(x[0],x[1],3+2*n)\n",
    "    print(\"\\tUm terço:\",umtercosimpsonc(f(y),y[1]-y[0]))\n",
    "    y = np.linspace(x[0],x[1],4+3*n)\n",
    "    print(\"\\tTrês oitavos:\",tresoitavosc(f(y),y[1]-y[0]))"
   ]
  },
  {
   "cell_type": "markdown",
   "metadata": {},
   "source": [
    "Vamos testar? Use as integrais acima, mas com mais pontos.\n",
    "\n",
    "\n"
   ]
  },
  {
   "cell_type": "code",
   "execution_count": 97,
   "metadata": {},
   "outputs": [
    {
     "name": "stdout",
     "output_type": "stream",
     "text": [
      "-> Função  1 = 0.68\n",
      "\tTrapézio: 0.6452351901491773\n",
      "[]\n",
      "\tUm terço: 0.0\n",
      "\tTrês oitavos: 0.0\n",
      "----------------------------------\n",
      "-> Função  2 = 0.3...\n",
      "\tTrapézio: 0.375\n",
      "[]\n",
      "\tUm terço: 0.0\n",
      "\tTrês oitavos: 0.0\n",
      "----------------------------------\n",
      "-> Função  3 = 0.25\n",
      "\tTrapézio: 0.3125\n",
      "[]\n",
      "\tUm terço: 0.0\n",
      "\tTrês oitavos: 0.0\n",
      "----------------------------------\n",
      "-> Função  4 = 0.31606...\n",
      "\tTrapézio: 0.28667005606071183\n",
      "[]\n",
      "\tUm terço: 0.0\n",
      "\tTrês oitavos: 0.0\n",
      "----------------------------------\n",
      "-> Função  5 = 0.78540\n",
      "\tTrapézio: 0.775\n",
      "[]\n",
      "\tUm terço: 0.0\n",
      "\tTrês oitavos: 0.0\n"
     ]
    }
   ],
   "source": [
    "x = np.array([0,1])\n",
    "print(\"-> Função  1 = 0.68\")\n",
    "integralComposta((lambda x:np.exp(-x)),x,3)\n",
    "print('----------------------------------')\n",
    "print(\"-> Função  2 = 0.3...\")\n",
    "integralComposta((lambda x:np.power(x,2)),x,3)\n",
    "print('----------------------------------')\n",
    "print(\"-> Função  3 = 0.25\")\n",
    "integralComposta((lambda x:np.power(x,3)),x,3)\n",
    "print('----------------------------------')\n",
    "print(\"-> Função  4 = 0.31606...\")\n",
    "integralComposta((lambda x:x*np.exp(-x*x)),x,3)\n",
    "print('----------------------------------')\n",
    "print(\"-> Função  5 = 0.78540\")\n",
    "integralComposta((lambda x:1.0/(x*x+1)),x,3)"
   ]
  },
  {
   "cell_type": "markdown",
   "metadata": {},
   "source": [
    "# Derivação #\n",
    "\n",
    "Derivação, como sabemos bem, é uma técnica poderosa para inferir o comportamento de funçÕes e o relacionamento de fórmulas com os dados. Apesar da maior parte das equações ser diferenciável analiticamente, muitas vezes temos funções mais complexas geradas por dados de experimentos e afins que não são trivialmente diferenciáveis.\n",
    "\n",
    "Assim, é importante ter uma abordagem numérica para derivar __qualquer__ função.\n",
    "\n",
    "## Aproximação por diferenças finitas ##\n",
    "\n",
    "O método das diferenças finitas é utilizado quando se quer saber a derivada de _f(x)_ com relação a um valor/intervalo pequeno de _x_.\n",
    "\n",
    "Quando estas diferenças tem tamanho fixo, a diferença $\\Delta x$ é normalmente chamada de _h_, ou tamanho do passo.\n",
    "\n",
    "Ou seja, dada uma função e um intervalo [A,B], deseja-se saber a derivada da função:"
   ]
  },
  {
   "cell_type": "code",
   "execution_count": null,
   "metadata": {
    "scrolled": true
   },
   "outputs": [],
   "source": [
    "import matplotlib.pyplot as plt\n",
    "import numpy as np\n",
    "%matplotlib inline\n",
    "\n",
    "\n",
    "f = lambda x: x**2-2*x+2\n",
    "x = np.linspace(-1,1,100)\n",
    "y = f(x)\n",
    "\n",
    "xd = np.array([-0.3,0.3])\n",
    "yd =f(xd)\n",
    "\n",
    "plt.xticks(xd,[r'$x_i$', r'$x_{i+1}$'])\n",
    "plt.yticks(yd,[r'$f(x_i)$',r'$f(x_{i+1})$'])\n",
    "plt.xlim(-1.2,1.2)\n",
    "plt.ylim(0,5.2)\n",
    "\n",
    "plt.plot(x,y,linewidth=2)\n",
    "plt.plot(xd,yd,'r-')\n",
    "plt.plot([-1.2,xd[0]],[yd[0],yd[0]],'r--',linewidth=1)\n",
    "plt.plot([-1.2,xd[1]],[yd[1],yd[1]],'r--',linewidth=1)\n",
    "plt.plot([xd[0],xd[0]],[0,yd[0]],'r--',linewidth=1)\n",
    "plt.plot([xd[1],xd[1]],[0,yd[1]],'r--',linewidth=1)\n",
    "plt.plot([xd[0],xd[1]],[0.5,0.5],'b--',linewidth=1.5)\n",
    "plt.annotate('A',xy=(xd[0],yd[0]),xytext=(xd[0],yd[0]+0.1),color=\"black\",fontsize=12)\n",
    "plt.annotate('B',xy=(xd[1],yd[1]),xytext=(xd[1],yd[1]+0.1),color=\"black\",fontsize=12)\n",
    "plt.annotate('h',xy=((xd[0]+xd[1])/2,0.5),xytext=((xd[0]+xd[1])/2,0.6),color=\"black\",fontsize=12)"
   ]
  },
  {
   "cell_type": "markdown",
   "metadata": {},
   "source": [
    "A forma mais simples de derivar é se achar a inclunação da reta AB, que é aproximadamente igual à da tangente da curva no meio do intervalo entre $x_i$ e $x_{i+1}$. Assim, quanto menor o intervalo, mais próximo do real é o valor obtido.\n",
    "\n",
    "A teoria por trás das diferenças definidas vem da expansão da série de Taylor de $f(x)$. A expansão para $f(x_{i+1})$ pode ser descrita como:\n",
    "\n",
    "$$ f(x_{i+1}) = f(x_i)+f'(x_i)h +\\frac{f''(x_i)}{2!}h^2+\\frac{f'''(x_i)}{3!}h^3+...$$\n",
    "\n",
    "Logo:\n",
    "\n",
    "$$ f'(x_{i}) = \\frac{f(x_{i+1})-f(x_i)}{h} - \\frac{f''(x_i)}{2!}h-\\frac{f'''(x_i)}{3!}h^2+...$$\n",
    "\n",
    "Como as segundas derivadas em diante são divididas por fatoriais e seu valor fica cada vez menor, elas podem ser omitidas, oque nos dá:\n",
    "\n",
    "$$ f'(x_{i}) = \\frac{f(x_{i+1})-f(x_i)}{h} + O(h) $$\n",
    "\n",
    "Esta fórmula é conhecida como _diferença dividida progressiva_, pois o segundo ponto é escolhido após $x_i$, ou seja, $h>0$. O(h) representa o erro advindo da truncagem da série de taylor (descartando termos com segundas derivadas em diante). Então na prática, a diferença dividida progressiva é:\n",
    "\n",
    "$$ f'(x_{i}) = \\frac{f(x_{i}+h)-f(x_i)}{h} $$\n",
    "\n",
    "Reaplicando a fórmula em $f'$, pode-se encontrar derivadas segundas, terceiras, etc:\n",
    "\n",
    "$$ f''(x_{i}) = \\frac{f(x_{i}+2h)-2f(x_{i}+h)+f(x_i)}{h^2} $$\n",
    "\n",
    "$$ f'''(x_{i}) = \\frac{f(x+3h)-3f(x_{i}+2h)+3f(x_{i}+h)-f(x_i)}{h^3}$$\n",
    "\n",
    "\n",
    "### Diferenças divididas regressivas ###\n",
    "\n",
    "De forma similar, podemos ter _diferenças divididas regressivas_, ou seja, quando o segundo ponto para gerar a reta tem um x anterior a $x_i$, ou seja, usa-se um $h<0$ ou multiplica-se h por -1:\n",
    "\n",
    "$$ f'(x_{i}) = \\frac{f(x_{i})-f(x_i-h)}{h} + O(h) $$\n",
    "\n",
    "$$ f''(x_{i}) = \\frac{f(x_{i})-2f(x_{i}-h)+f(x_i-2h)}{h^2} $$\n",
    "\n",
    "$$ f'''(x_{i}) = \\frac{f(x)-3f(x_{i}-h)+3f(x_{i}-2h)-f(x_i-3h)}{h^3}$$\n",
    "\n",
    "\n",
    "### Diferenças divididas centrais ###\n",
    "\n",
    "Diferenças progressivas ou regressivas podem ser utilizadas de acordo com o contexto, se há uma preocupação com o futuro ou o passado no resultado. Contudo, muitas vezes a preocupação é simplesmente a derivada em um dado ponto. Desta forma, o ideal seria colocar o ponto desejado __no meio__ do intervalo, ou seja, fazendo uma reta com os x no intervalo $[x-$h/2$,x+h/2]$.\n",
    "\n",
    "Desta forma, podemos calcular as diferenças divididas centrais como:\n",
    "\n",
    "$$ f'(x_{i}) = \\frac{f(x_{i}+h)-f(x_i-h)}{2h} $$\n",
    "\n",
    "De forma similar, podemos gerar as outras derivadas:\n",
    "\n",
    "$$ f''(x_{i}) = \\frac{f(x_{i}+h)-2f(x_{i})+f(x_i-h)}{h^2} $$\n",
    "\n",
    "$$ f'''(x_{i}) = \\frac{f(x+2h)-2f(x_{i}+h)+2f(x_{i}-h)-f(x_i-2h)}{2h^3}$$\n",
    "\n",
    "\n",
    "Complicado né? Vamos ver um exemplo para entender melhor:\n",
    "\n",
    "## Exemplo ##\n",
    "\n",
    "Vamos descobrir a primeira e a segunda derivada do polinomio abaixo no ponto 0.1:\n",
    "\n",
    "$f(x) = 0.1x^5 - 0.2x^3 + 0.1x - 0.2$\n",
    "\n",
    "Qual a solução analítica para a primeira e a segunda derivada?"
   ]
  },
  {
   "cell_type": "code",
   "execution_count": null,
   "metadata": {},
   "outputs": [],
   "source": [
    "f = lambda x: 0.1*x**5 - 0.2*x**3 + 0.1*x - 0.2\n",
    "fd1 = lambda x:0.5*x**4 - 0.6*x**2 + 0.1\n",
    "fd2 = lambda x:2*x**3-1.2*x\n",
    "\n",
    "print(\"f'(0.1):\",fd1(0.1),\"f''(0.1):\",fd2(0.1))"
   ]
  },
  {
   "cell_type": "markdown",
   "metadata": {},
   "source": [
    "Agora vamos tentar aproximar estes valores numericamente utilizando diferenças definidas progressivas usando um h de 0.05:"
   ]
  },
  {
   "cell_type": "code",
   "execution_count": null,
   "metadata": {},
   "outputs": [],
   "source": [
    "def d1prog(f,x,h):\n",
    "    return (f(x+h)-f(x))/h\n",
    "\n",
    "d1prog(f,0.1,0.05)"
   ]
  },
  {
   "cell_type": "markdown",
   "metadata": {},
   "source": [
    "Implemente as diferenças regressivas e centrais para a primeira e segunda derivada:"
   ]
  },
  {
   "cell_type": "code",
   "execution_count": null,
   "metadata": {
    "collapsed": true
   },
   "outputs": [],
   "source": [
    "def d2prog(f,x,h):\n",
    "    return \n",
    "\n",
    "def d1reg(f,x,h):\n",
    "    return \n",
    "\n",
    "def d2reg(f,x,h):\n",
    "    return \n",
    "\n",
    "def d1cen(f,x,h):\n",
    "    return \n",
    "\n",
    "def d2cen(f,x,h):\n",
    "    return "
   ]
  },
  {
   "cell_type": "markdown",
   "metadata": {},
   "source": [
    "Agora verifique qual dos três tem o menor erro para a primeira e segunda derivada:"
   ]
  },
  {
   "cell_type": "code",
   "execution_count": null,
   "metadata": {},
   "outputs": [],
   "source": [
    "print(\"Derivada analitica:\",fd1(0.1),'Progressiva:',d1prog(f,0.1,0.05),\"Regressiva:\",d1reg(f,0.1,0.05),\"Central:\",d1cen(f,0.1,0.05))\n",
    "print(\"Derivada segunda analitica:\",fd2(0.1),'Progressiva:',d2prog(f,0.1,0.05),\"Regressiva:\",d2reg(f,0.1,0.05),\"Central:\",d2cen(f,0.1,0.05))\n",
    "\n",
    "\n",
    "xis = np.linspace(0,0.5,100)\n",
    "plt.plot(xis,f(xis))\n",
    "plt.plot(xis,fd1(xis),'r--')\n",
    "plt.plot(xis,d1prog(f,xis,0.05),'g--')\n",
    "plt.plot(xis,d1cen(f,xis,0.05),'y--')"
   ]
  },
  {
   "cell_type": "markdown",
   "metadata": {},
   "source": [
    "### Exercício ###\n",
    "\n",
    "Ache o valor da primeira e segunda derivada da função $f(x)=\\frac{2}{x^3+5}$ no ponto 1, com h=0.1, usando os três métodos e diga qual obteve o menor erro."
   ]
  },
  {
   "cell_type": "code",
   "execution_count": null,
   "metadata": {},
   "outputs": [],
   "source": []
  },
  {
   "cell_type": "markdown",
   "metadata": {},
   "source": [
    "Mas e se eu não possuo a função $f$, como proceder? Ora, é simples: desde que você tenha pontos igualmente espaçados no eixo x (de preferência em um intervalo pequeno) você pode calcular as diferenças divididas diretamente!\n",
    "\n",
    "### Exemplo/Exercício ###\n",
    "\n",
    "Dada a tabela abaixo de valores de uma função _v_:\n",
    "\n",
    "|valor de $t_i$|0|60|120|180|240|300|\n",
    "|--------|-|-|-|-|-|-|-|-|\n",
    "|$v(t_i)$|0|0.0824|0.2747|0.6502|1.3851|3.229|\n",
    "\n",
    "1. Determine uma aproximação para v'(180) usando: i. Diferenças Progressivas ii. Regressivas iii. Centrais\n",
    "2. Como poderia proceder para determinar uma aproximação para v'(300)?"
   ]
  },
  {
   "cell_type": "code",
   "execution_count": null,
   "metadata": {},
   "outputs": [],
   "source": []
  }
 ],
 "metadata": {
  "kernelspec": {
   "display_name": "Python 3",
   "language": "python",
   "name": "python3"
  },
  "language_info": {
   "codemirror_mode": {
    "name": "ipython",
    "version": 3
   },
   "file_extension": ".py",
   "mimetype": "text/x-python",
   "name": "python",
   "nbconvert_exporter": "python",
   "pygments_lexer": "ipython3",
   "version": "3.6.4"
  }
 },
 "nbformat": 4,
 "nbformat_minor": 2
}
