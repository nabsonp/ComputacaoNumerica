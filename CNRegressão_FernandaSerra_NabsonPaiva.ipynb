{
 "cells": [
  {
   "cell_type": "code",
   "execution_count": 1,
   "metadata": {},
   "outputs": [],
   "source": [
    "import numpy as np\n",
    "import matplotlib.pyplot as plt\n",
    "import pandas as pd\n",
    "%matplotlib inline"
   ]
  },
  {
   "cell_type": "code",
   "execution_count": 39,
   "metadata": {},
   "outputs": [
    {
     "name": "stderr",
     "output_type": "stream",
     "text": [
      "/usr/local/lib/python3.6/site-packages/IPython/core/interactiveshell.py:2728: DtypeWarning: Columns (7,8,9,27,28,29) have mixed types. Specify dtype option on import or set low_memory=False.\n",
      "  interactivity=interactivity, compiler=compiler, result=result)\n"
     ]
    }
   ],
   "source": [
    "base = pd.read_csv(\"MICRODADOS_ENEM_ESCOLA.csv\",delimiter=',',encoding=\"iso-8859-1\")"
   ]
  },
  {
   "cell_type": "code",
   "execution_count": 40,
   "metadata": {},
   "outputs": [
    {
     "data": {
      "text/html": [
       "<div>\n",
       "<style scoped>\n",
       "    .dataframe tbody tr th:only-of-type {\n",
       "        vertical-align: middle;\n",
       "    }\n",
       "\n",
       "    .dataframe tbody tr th {\n",
       "        vertical-align: top;\n",
       "    }\n",
       "\n",
       "    .dataframe thead th {\n",
       "        text-align: right;\n",
       "    }\n",
       "</style>\n",
       "<table border=\"1\" class=\"dataframe\">\n",
       "  <thead>\n",
       "    <tr style=\"text-align: right;\">\n",
       "      <th></th>\n",
       "      <th>NU_ANO</th>\n",
       "      <th>CO_UF_ESCOLA</th>\n",
       "      <th>SG_UF_ESCOLA</th>\n",
       "      <th>CO_MUNICIPIO_ESCOLA</th>\n",
       "      <th>NO_MUNICIPIO_ESCOLA</th>\n",
       "      <th>CO_ESCOLA_EDUCACENSO</th>\n",
       "      <th>NO_ESCOLA_EDUCACENSO</th>\n",
       "      <th>TP_DEPENDENCIA_ADM_ESCOLA</th>\n",
       "      <th>TP_LOCALIZACAO_ESCOLA</th>\n",
       "      <th>NU_MATRICULAS</th>\n",
       "      <th>...</th>\n",
       "      <th>INSE</th>\n",
       "      <th>PC_FORMACAO_DOCENTE</th>\n",
       "      <th>NU_TAXA_PERMANENCIA</th>\n",
       "      <th>NU_TAXA_APROVACAO</th>\n",
       "      <th>NU_TAXA_REPROVACAO</th>\n",
       "      <th>NU_TAXA_ABANDONO</th>\n",
       "      <th>PORTE_ESCOLA</th>\n",
       "      <th>Unnamed: 27</th>\n",
       "      <th>Unnamed: 28</th>\n",
       "      <th>Unnamed: 29</th>\n",
       "    </tr>\n",
       "  </thead>\n",
       "  <tbody>\n",
       "    <tr>\n",
       "      <th>172300</th>\n",
       "      <td>2013</td>\n",
       "      <td>53</td>\n",
       "      <td>DF</td>\n",
       "      <td>5300108</td>\n",
       "      <td>Brasï¿½lia</td>\n",
       "      <td>53068181</td>\n",
       "      <td>CED 310 DE SANTA MARIA</td>\n",
       "      <td>2</td>\n",
       "      <td>1</td>\n",
       "      <td>213</td>\n",
       "      <td>...</td>\n",
       "      <td>NaN</td>\n",
       "      <td>91.8</td>\n",
       "      <td>NaN</td>\n",
       "      <td>83.1</td>\n",
       "      <td>9.1</td>\n",
       "      <td>7.8</td>\n",
       "      <td>Maior que 90 alunos</td>\n",
       "      <td>NaN</td>\n",
       "      <td>NaN</td>\n",
       "      <td>NaN</td>\n",
       "    </tr>\n",
       "    <tr>\n",
       "      <th>172301</th>\n",
       "      <td>2014</td>\n",
       "      <td>53</td>\n",
       "      <td>DF</td>\n",
       "      <td>5300108</td>\n",
       "      <td>Brasï¿½lia</td>\n",
       "      <td>53068181</td>\n",
       "      <td>CED 310 DE SANTA MARIA</td>\n",
       "      <td>2</td>\n",
       "      <td>1</td>\n",
       "      <td>138</td>\n",
       "      <td>...</td>\n",
       "      <td>NaN</td>\n",
       "      <td>72.0</td>\n",
       "      <td>82.00</td>\n",
       "      <td>81.2</td>\n",
       "      <td>17.5</td>\n",
       "      <td>1.3</td>\n",
       "      <td>Maior que 90 alunos</td>\n",
       "      <td>NaN</td>\n",
       "      <td>NaN</td>\n",
       "      <td>NaN</td>\n",
       "    </tr>\n",
       "    <tr>\n",
       "      <th>172302</th>\n",
       "      <td>2015</td>\n",
       "      <td>53</td>\n",
       "      <td>DF</td>\n",
       "      <td>5300108</td>\n",
       "      <td>Brasï¿½lia</td>\n",
       "      <td>53068181</td>\n",
       "      <td>CED 310 DE SANTA MARIA</td>\n",
       "      <td>2</td>\n",
       "      <td>1</td>\n",
       "      <td>198</td>\n",
       "      <td>...</td>\n",
       "      <td>Grupo 3</td>\n",
       "      <td>83.3</td>\n",
       "      <td>76.32</td>\n",
       "      <td>78.9</td>\n",
       "      <td>10.1</td>\n",
       "      <td>11.0</td>\n",
       "      <td>Maior que 90 alunos</td>\n",
       "      <td>NaN</td>\n",
       "      <td>NaN</td>\n",
       "      <td>NaN</td>\n",
       "    </tr>\n",
       "    <tr>\n",
       "      <th>172303</th>\n",
       "      <td>2014</td>\n",
       "      <td>53</td>\n",
       "      <td>DF</td>\n",
       "      <td>5300108</td>\n",
       "      <td>Brasï¿½lia</td>\n",
       "      <td>53082001</td>\n",
       "      <td>COL IMPACTO</td>\n",
       "      <td>4</td>\n",
       "      <td>1</td>\n",
       "      <td>12</td>\n",
       "      <td>...</td>\n",
       "      <td>NaN</td>\n",
       "      <td>69.2</td>\n",
       "      <td>NaN</td>\n",
       "      <td>91.4</td>\n",
       "      <td>8.6</td>\n",
       "      <td>0.0</td>\n",
       "      <td>De 1 a 30 alunos</td>\n",
       "      <td>NaN</td>\n",
       "      <td>NaN</td>\n",
       "      <td>NaN</td>\n",
       "    </tr>\n",
       "    <tr>\n",
       "      <th>172304</th>\n",
       "      <td>2015</td>\n",
       "      <td>53</td>\n",
       "      <td>DF</td>\n",
       "      <td>5300108</td>\n",
       "      <td>Brasï¿½lia</td>\n",
       "      <td>53082001</td>\n",
       "      <td>COL IMPACTO</td>\n",
       "      <td>4</td>\n",
       "      <td>1</td>\n",
       "      <td>28</td>\n",
       "      <td>...</td>\n",
       "      <td>Grupo 5</td>\n",
       "      <td>57.1</td>\n",
       "      <td>75.00</td>\n",
       "      <td>95.0</td>\n",
       "      <td>5.0</td>\n",
       "      <td>0.0</td>\n",
       "      <td>De 1 a 30 alunos</td>\n",
       "      <td>NaN</td>\n",
       "      <td>NaN</td>\n",
       "      <td>NaN</td>\n",
       "    </tr>\n",
       "  </tbody>\n",
       "</table>\n",
       "<p>5 rows × 30 columns</p>\n",
       "</div>"
      ],
      "text/plain": [
       "        NU_ANO  CO_UF_ESCOLA SG_UF_ESCOLA  CO_MUNICIPIO_ESCOLA  \\\n",
       "172300    2013            53           DF              5300108   \n",
       "172301    2014            53           DF              5300108   \n",
       "172302    2015            53           DF              5300108   \n",
       "172303    2014            53           DF              5300108   \n",
       "172304    2015            53           DF              5300108   \n",
       "\n",
       "       NO_MUNICIPIO_ESCOLA  CO_ESCOLA_EDUCACENSO    NO_ESCOLA_EDUCACENSO  \\\n",
       "172300          Brasï¿½lia              53068181  CED 310 DE SANTA MARIA   \n",
       "172301          Brasï¿½lia              53068181  CED 310 DE SANTA MARIA   \n",
       "172302          Brasï¿½lia              53068181  CED 310 DE SANTA MARIA   \n",
       "172303          Brasï¿½lia              53082001             COL IMPACTO   \n",
       "172304          Brasï¿½lia              53082001             COL IMPACTO   \n",
       "\n",
       "       TP_DEPENDENCIA_ADM_ESCOLA TP_LOCALIZACAO_ESCOLA NU_MATRICULAS  \\\n",
       "172300                         2                     1           213   \n",
       "172301                         2                     1           138   \n",
       "172302                         2                     1           198   \n",
       "172303                         4                     1            12   \n",
       "172304                         4                     1            28   \n",
       "\n",
       "           ...          INSE  PC_FORMACAO_DOCENTE  NU_TAXA_PERMANENCIA  \\\n",
       "172300     ...           NaN                 91.8                  NaN   \n",
       "172301     ...           NaN                 72.0                82.00   \n",
       "172302     ...       Grupo 3                 83.3                76.32   \n",
       "172303     ...           NaN                 69.2                  NaN   \n",
       "172304     ...       Grupo 5                 57.1                75.00   \n",
       "\n",
       "        NU_TAXA_APROVACAO  NU_TAXA_REPROVACAO  NU_TAXA_ABANDONO  \\\n",
       "172300               83.1                 9.1               7.8   \n",
       "172301               81.2                17.5               1.3   \n",
       "172302               78.9                10.1              11.0   \n",
       "172303               91.4                 8.6               0.0   \n",
       "172304               95.0                 5.0               0.0   \n",
       "\n",
       "               PORTE_ESCOLA  Unnamed: 27  Unnamed: 28  Unnamed: 29  \n",
       "172300  Maior que 90 alunos          NaN          NaN          NaN  \n",
       "172301  Maior que 90 alunos          NaN          NaN          NaN  \n",
       "172302  Maior que 90 alunos          NaN          NaN          NaN  \n",
       "172303     De 1 a 30 alunos          NaN          NaN          NaN  \n",
       "172304     De 1 a 30 alunos          NaN          NaN          NaN  \n",
       "\n",
       "[5 rows x 30 columns]"
      ]
     },
     "execution_count": 40,
     "metadata": {},
     "output_type": "execute_result"
    }
   ],
   "source": [
    "base.tail()"
   ]
  },
  {
   "cell_type": "code",
   "execution_count": 4,
   "metadata": {
    "scrolled": false
   },
   "outputs": [
    {
     "name": "stdout",
     "output_type": "stream",
     "text": [
      "<class 'pandas.core.frame.DataFrame'>\n",
      "RangeIndex: 172305 entries, 0 to 172304\n",
      "Data columns (total 30 columns):\n",
      "NU_ANO                       172305 non-null int64\n",
      "CO_UF_ESCOLA                 172305 non-null int64\n",
      "SG_UF_ESCOLA                 172305 non-null object\n",
      "CO_MUNICIPIO_ESCOLA          172305 non-null int64\n",
      "NO_MUNICIPIO_ESCOLA          172305 non-null object\n",
      "CO_ESCOLA_EDUCACENSO         172305 non-null int64\n",
      "NO_ESCOLA_EDUCACENSO         172305 non-null object\n",
      "TP_DEPENDENCIA_ADM_ESCOLA    172302 non-null object\n",
      "TP_LOCALIZACAO_ESCOLA        172305 non-null object\n",
      "NU_MATRICULAS                172305 non-null object\n",
      "NU_PARTICIPANTES_NEC_ESP     48226 non-null float64\n",
      "NU_PARTICIPANTES             169454 non-null float64\n",
      "NU_TAXA_PARTICIPACAO         107539 non-null float64\n",
      "NU_MEDIA_CN                  104706 non-null float64\n",
      "NU_MEDIA_CH                  104688 non-null float64\n",
      "NU_MEDIA_LP                  104687 non-null float64\n",
      "NU_MEDIA_MT                  104687 non-null float64\n",
      "NU_MEDIA_RED                 123450 non-null float64\n",
      "NU_MEDIA_OBJ                 19144 non-null float64\n",
      "NU_MEDIA_TOT                 45605 non-null float64\n",
      "INSE                         18447 non-null object\n",
      "PC_FORMACAO_DOCENTE          45339 non-null float64\n",
      "NU_TAXA_PERMANENCIA          30876 non-null float64\n",
      "NU_TAXA_APROVACAO            153760 non-null float64\n",
      "NU_TAXA_REPROVACAO           155213 non-null float64\n",
      "NU_TAXA_ABANDONO             155225 non-null float64\n",
      "PORTE_ESCOLA                 170900 non-null object\n",
      "Unnamed: 27                  2864 non-null object\n",
      "Unnamed: 28                  20 non-null object\n",
      "Unnamed: 29                  1 non-null object\n",
      "dtypes: float64(15), int64(4), object(11)\n",
      "memory usage: 39.4+ MB\n"
     ]
    }
   ],
   "source": [
    "base.info()"
   ]
  },
  {
   "cell_type": "code",
   "execution_count": 5,
   "metadata": {},
   "outputs": [],
   "source": [
    "for c in base.columns:\n",
    "    if c[:2] == 'CO' or c[:2] == 'Un':\n",
    "        base.drop(c,axis=1,inplace=True)"
   ]
  },
  {
   "cell_type": "code",
   "execution_count": 6,
   "metadata": {},
   "outputs": [
    {
     "name": "stdout",
     "output_type": "stream",
     "text": [
      "<class 'pandas.core.frame.DataFrame'>\n",
      "RangeIndex: 172305 entries, 0 to 172304\n",
      "Data columns (total 24 columns):\n",
      "Ano                    172305 non-null int64\n",
      "UF                     172305 non-null object\n",
      "Municipio              172305 non-null object\n",
      "Escola                 172305 non-null object\n",
      "Dependencia_ADM        172302 non-null object\n",
      "Localizacao            172305 non-null object\n",
      "Matriculas             172305 non-null object\n",
      "Participantes_PCD      48226 non-null float64\n",
      "Participantes          169454 non-null float64\n",
      "Taxa_Participacao      107539 non-null float64\n",
      "Media_Naturais         104706 non-null float64\n",
      "Media_Humanas          104688 non-null float64\n",
      "Media_Linguagens       104687 non-null float64\n",
      "Media_Matematica       104687 non-null float64\n",
      "Media_Redacao          123450 non-null float64\n",
      "Media_ProvaObjetiva    19144 non-null float64\n",
      "Media_Total            45605 non-null float64\n",
      "INSE                   18447 non-null object\n",
      "IAFD                   45339 non-null float64\n",
      "Taxa_Permanencia       30876 non-null float64\n",
      "Taxa_Aprovacao         153760 non-null float64\n",
      "Taxa_Reprovacao        155213 non-null float64\n",
      "Taxa_Abandono          155225 non-null float64\n",
      "Porte                  170900 non-null object\n",
      "dtypes: float64(15), int64(1), object(8)\n",
      "memory usage: 31.6+ MB\n"
     ]
    }
   ],
   "source": [
    "base.columns = ['Ano','UF','Municipio','Escola','Dependencia_ADM','Localizacao','Matriculas','Participantes_PCD','Participantes','Taxa_Participacao','Media_Naturais','Media_Humanas','Media_Linguagens','Media_Matematica','Media_Redacao','Media_ProvaObjetiva','Media_Total','INSE','IAFD','Taxa_Permanencia','Taxa_Aprovacao','Taxa_Reprovacao','Taxa_Abandono','Porte']\n",
    "base.info()"
   ]
  },
  {
   "cell_type": "code",
   "execution_count": 7,
   "metadata": {},
   "outputs": [],
   "source": [
    "base.Participantes_PCD.fillna(0,inplace=True)\n",
    "base.Participantes.fillna(0,inplace=True)"
   ]
  },
  {
   "cell_type": "code",
   "execution_count": 8,
   "metadata": {},
   "outputs": [
    {
     "data": {
      "text/html": [
       "<div>\n",
       "<style scoped>\n",
       "    .dataframe tbody tr th:only-of-type {\n",
       "        vertical-align: middle;\n",
       "    }\n",
       "\n",
       "    .dataframe tbody tr th {\n",
       "        vertical-align: top;\n",
       "    }\n",
       "\n",
       "    .dataframe thead th {\n",
       "        text-align: right;\n",
       "    }\n",
       "</style>\n",
       "<table border=\"1\" class=\"dataframe\">\n",
       "  <thead>\n",
       "    <tr style=\"text-align: right;\">\n",
       "      <th></th>\n",
       "      <th>Ano</th>\n",
       "      <th>Participantes_PCD</th>\n",
       "      <th>Participantes</th>\n",
       "      <th>Taxa_Participacao</th>\n",
       "      <th>Media_Naturais</th>\n",
       "      <th>Media_Humanas</th>\n",
       "      <th>Media_Linguagens</th>\n",
       "      <th>Media_Matematica</th>\n",
       "      <th>Media_Redacao</th>\n",
       "      <th>Media_ProvaObjetiva</th>\n",
       "      <th>Media_Total</th>\n",
       "      <th>IAFD</th>\n",
       "      <th>Taxa_Permanencia</th>\n",
       "      <th>Taxa_Aprovacao</th>\n",
       "      <th>Taxa_Reprovacao</th>\n",
       "      <th>Taxa_Abandono</th>\n",
       "    </tr>\n",
       "  </thead>\n",
       "  <tbody>\n",
       "    <tr>\n",
       "      <th>count</th>\n",
       "      <td>172305.000000</td>\n",
       "      <td>172305.000000</td>\n",
       "      <td>172305.000000</td>\n",
       "      <td>107539.000000</td>\n",
       "      <td>104706.000000</td>\n",
       "      <td>104688.000000</td>\n",
       "      <td>104687.000000</td>\n",
       "      <td>104687.000000</td>\n",
       "      <td>123450.000000</td>\n",
       "      <td>19144.000000</td>\n",
       "      <td>45605.000000</td>\n",
       "      <td>45339.000000</td>\n",
       "      <td>30876.000000</td>\n",
       "      <td>153760.000000</td>\n",
       "      <td>155213.000000</td>\n",
       "      <td>155225.000000</td>\n",
       "    </tr>\n",
       "    <tr>\n",
       "      <th>mean</th>\n",
       "      <td>2009.805659</td>\n",
       "      <td>2.049691</td>\n",
       "      <td>54.296097</td>\n",
       "      <td>64.063865</td>\n",
       "      <td>531.668709</td>\n",
       "      <td>490.908473</td>\n",
       "      <td>509.955970</td>\n",
       "      <td>512.976072</td>\n",
       "      <td>479.773414</td>\n",
       "      <td>40.381016</td>\n",
       "      <td>47.081692</td>\n",
       "      <td>60.349215</td>\n",
       "      <td>77.009162</td>\n",
       "      <td>82.765425</td>\n",
       "      <td>10.536644</td>\n",
       "      <td>7.348968</td>\n",
       "    </tr>\n",
       "    <tr>\n",
       "      <th>std</th>\n",
       "      <td>3.154137</td>\n",
       "      <td>21.254974</td>\n",
       "      <td>56.520287</td>\n",
       "      <td>24.460217</td>\n",
       "      <td>55.625860</td>\n",
       "      <td>51.838448</td>\n",
       "      <td>48.105396</td>\n",
       "      <td>73.124845</td>\n",
       "      <td>194.619663</td>\n",
       "      <td>9.884216</td>\n",
       "      <td>8.836499</td>\n",
       "      <td>17.114111</td>\n",
       "      <td>37.248237</td>\n",
       "      <td>13.260439</td>\n",
       "      <td>10.577856</td>\n",
       "      <td>9.032516</td>\n",
       "    </tr>\n",
       "    <tr>\n",
       "      <th>min</th>\n",
       "      <td>2005.000000</td>\n",
       "      <td>0.000000</td>\n",
       "      <td>0.000000</td>\n",
       "      <td>2.000000</td>\n",
       "      <td>10.000000</td>\n",
       "      <td>20.000000</td>\n",
       "      <td>319.260000</td>\n",
       "      <td>357.980000</td>\n",
       "      <td>29.380000</td>\n",
       "      <td>17.310000</td>\n",
       "      <td>16.010000</td>\n",
       "      <td>0.000000</td>\n",
       "      <td>0.000000</td>\n",
       "      <td>0.000000</td>\n",
       "      <td>0.000000</td>\n",
       "      <td>0.000000</td>\n",
       "    </tr>\n",
       "    <tr>\n",
       "      <th>25%</th>\n",
       "      <td>2007.000000</td>\n",
       "      <td>0.000000</td>\n",
       "      <td>20.000000</td>\n",
       "      <td>50.700000</td>\n",
       "      <td>492.390000</td>\n",
       "      <td>453.630000</td>\n",
       "      <td>475.640000</td>\n",
       "      <td>458.560000</td>\n",
       "      <td>462.640000</td>\n",
       "      <td>33.490000</td>\n",
       "      <td>40.740000</td>\n",
       "      <td>49.700000</td>\n",
       "      <td>69.680000</td>\n",
       "      <td>74.000000</td>\n",
       "      <td>3.700000</td>\n",
       "      <td>0.000000</td>\n",
       "    </tr>\n",
       "    <tr>\n",
       "      <th>50%</th>\n",
       "      <td>2010.000000</td>\n",
       "      <td>0.000000</td>\n",
       "      <td>36.000000</td>\n",
       "      <td>65.380000</td>\n",
       "      <td>527.775000</td>\n",
       "      <td>478.000000</td>\n",
       "      <td>504.870000</td>\n",
       "      <td>494.300000</td>\n",
       "      <td>540.250000</td>\n",
       "      <td>37.650000</td>\n",
       "      <td>45.570000</td>\n",
       "      <td>61.800000</td>\n",
       "      <td>80.530000</td>\n",
       "      <td>85.100000</td>\n",
       "      <td>8.000000</td>\n",
       "      <td>3.900000</td>\n",
       "    </tr>\n",
       "    <tr>\n",
       "      <th>75%</th>\n",
       "      <td>2013.000000</td>\n",
       "      <td>0.000000</td>\n",
       "      <td>68.000000</td>\n",
       "      <td>83.330000</td>\n",
       "      <td>567.930000</td>\n",
       "      <td>521.210000</td>\n",
       "      <td>542.930000</td>\n",
       "      <td>554.610000</td>\n",
       "      <td>598.500000</td>\n",
       "      <td>44.200000</td>\n",
       "      <td>51.960000</td>\n",
       "      <td>72.900000</td>\n",
       "      <td>88.890000</td>\n",
       "      <td>93.900000</td>\n",
       "      <td>14.400000</td>\n",
       "      <td>12.000000</td>\n",
       "    </tr>\n",
       "    <tr>\n",
       "      <th>max</th>\n",
       "      <td>2015.000000</td>\n",
       "      <td>1564.000000</td>\n",
       "      <td>1190.000000</td>\n",
       "      <td>864.000000</td>\n",
       "      <td>758.040000</td>\n",
       "      <td>755.160000</td>\n",
       "      <td>712.350000</td>\n",
       "      <td>873.650000</td>\n",
       "      <td>930.000000</td>\n",
       "      <td>82.960000</td>\n",
       "      <td>82.970000</td>\n",
       "      <td>100.000000</td>\n",
       "      <td>5822.000000</td>\n",
       "      <td>100.000000</td>\n",
       "      <td>100.000000</td>\n",
       "      <td>100.000000</td>\n",
       "    </tr>\n",
       "  </tbody>\n",
       "</table>\n",
       "</div>"
      ],
      "text/plain": [
       "                 Ano  Participantes_PCD  Participantes  Taxa_Participacao  \\\n",
       "count  172305.000000      172305.000000  172305.000000      107539.000000   \n",
       "mean     2009.805659           2.049691      54.296097          64.063865   \n",
       "std         3.154137          21.254974      56.520287          24.460217   \n",
       "min      2005.000000           0.000000       0.000000           2.000000   \n",
       "25%      2007.000000           0.000000      20.000000          50.700000   \n",
       "50%      2010.000000           0.000000      36.000000          65.380000   \n",
       "75%      2013.000000           0.000000      68.000000          83.330000   \n",
       "max      2015.000000        1564.000000    1190.000000         864.000000   \n",
       "\n",
       "       Media_Naturais  Media_Humanas  Media_Linguagens  Media_Matematica  \\\n",
       "count   104706.000000  104688.000000     104687.000000     104687.000000   \n",
       "mean       531.668709     490.908473        509.955970        512.976072   \n",
       "std         55.625860      51.838448         48.105396         73.124845   \n",
       "min         10.000000      20.000000        319.260000        357.980000   \n",
       "25%        492.390000     453.630000        475.640000        458.560000   \n",
       "50%        527.775000     478.000000        504.870000        494.300000   \n",
       "75%        567.930000     521.210000        542.930000        554.610000   \n",
       "max        758.040000     755.160000        712.350000        873.650000   \n",
       "\n",
       "       Media_Redacao  Media_ProvaObjetiva   Media_Total          IAFD  \\\n",
       "count  123450.000000         19144.000000  45605.000000  45339.000000   \n",
       "mean      479.773414            40.381016     47.081692     60.349215   \n",
       "std       194.619663             9.884216      8.836499     17.114111   \n",
       "min        29.380000            17.310000     16.010000      0.000000   \n",
       "25%       462.640000            33.490000     40.740000     49.700000   \n",
       "50%       540.250000            37.650000     45.570000     61.800000   \n",
       "75%       598.500000            44.200000     51.960000     72.900000   \n",
       "max       930.000000            82.960000     82.970000    100.000000   \n",
       "\n",
       "       Taxa_Permanencia  Taxa_Aprovacao  Taxa_Reprovacao  Taxa_Abandono  \n",
       "count      30876.000000   153760.000000    155213.000000  155225.000000  \n",
       "mean          77.009162       82.765425        10.536644       7.348968  \n",
       "std           37.248237       13.260439        10.577856       9.032516  \n",
       "min            0.000000        0.000000         0.000000       0.000000  \n",
       "25%           69.680000       74.000000         3.700000       0.000000  \n",
       "50%           80.530000       85.100000         8.000000       3.900000  \n",
       "75%           88.890000       93.900000        14.400000      12.000000  \n",
       "max         5822.000000      100.000000       100.000000     100.000000  "
      ]
     },
     "execution_count": 8,
     "metadata": {},
     "output_type": "execute_result"
    }
   ],
   "source": [
    "base.describe()"
   ]
  },
  {
   "cell_type": "code",
   "execution_count": 9,
   "metadata": {},
   "outputs": [
    {
     "data": {
      "text/plain": [
       "<matplotlib.axes._subplots.AxesSubplot at 0x7f59e4417198>"
      ]
     },
     "execution_count": 9,
     "metadata": {},
     "output_type": "execute_result"
    },
    {
     "data": {
      "image/png": "[encoded data removed]",
      "text/plain": [
       "<Figure size 1152x360 with 1 Axes>"
      ]
     },
     "metadata": {},
     "output_type": "display_data"
    }
   ],
   "source": [
    "base.boxplot(rot=90,figsize=(16,5))"
   ]
  },
  {
   "cell_type": "code",
   "execution_count": 10,
   "metadata": {},
   "outputs": [
    {
     "data": {
      "text/html": [
       "<div>\n",
       "<style scoped>\n",
       "    .dataframe tbody tr th:only-of-type {\n",
       "        vertical-align: middle;\n",
       "    }\n",
       "\n",
       "    .dataframe tbody tr th {\n",
       "        vertical-align: top;\n",
       "    }\n",
       "\n",
       "    .dataframe thead th {\n",
       "        text-align: right;\n",
       "    }\n",
       "</style>\n",
       "<table border=\"1\" class=\"dataframe\">\n",
       "  <thead>\n",
       "    <tr style=\"text-align: right;\">\n",
       "      <th></th>\n",
       "      <th>Ano</th>\n",
       "      <th>UF</th>\n",
       "      <th>Municipio</th>\n",
       "      <th>Escola</th>\n",
       "      <th>Dependencia_ADM</th>\n",
       "      <th>Localizacao</th>\n",
       "      <th>Matriculas</th>\n",
       "      <th>Participantes_PCD</th>\n",
       "      <th>Participantes</th>\n",
       "      <th>Taxa_Participacao</th>\n",
       "      <th>...</th>\n",
       "      <th>Media_Redacao</th>\n",
       "      <th>Media_ProvaObjetiva</th>\n",
       "      <th>Media_Total</th>\n",
       "      <th>INSE</th>\n",
       "      <th>IAFD</th>\n",
       "      <th>Taxa_Permanencia</th>\n",
       "      <th>Taxa_Aprovacao</th>\n",
       "      <th>Taxa_Reprovacao</th>\n",
       "      <th>Taxa_Abandono</th>\n",
       "      <th>Porte</th>\n",
       "    </tr>\n",
       "  </thead>\n",
       "  <tbody>\n",
       "    <tr>\n",
       "      <th>72217</th>\n",
       "      <td>2015</td>\n",
       "      <td>MG</td>\n",
       "      <td>Belo Horizonte</td>\n",
       "      <td>COLEGIO BERNOULLI - UNIDADE LOURDES</td>\n",
       "      <td>4</td>\n",
       "      <td>1</td>\n",
       "      <td>304</td>\n",
       "      <td>0.0</td>\n",
       "      <td>300.0</td>\n",
       "      <td>98.68</td>\n",
       "      <td>...</td>\n",
       "      <td>845.87</td>\n",
       "      <td>NaN</td>\n",
       "      <td>NaN</td>\n",
       "      <td>Grupo 6</td>\n",
       "      <td>70.1</td>\n",
       "      <td>5822.0</td>\n",
       "      <td>94.2</td>\n",
       "      <td>5.8</td>\n",
       "      <td>0.0</td>\n",
       "      <td>Maior que 90 alunos</td>\n",
       "    </tr>\n",
       "  </tbody>\n",
       "</table>\n",
       "<p>1 rows × 24 columns</p>\n",
       "</div>"
      ],
      "text/plain": [
       "        Ano  UF       Municipio                               Escola  \\\n",
       "72217  2015  MG  Belo Horizonte  COLEGIO BERNOULLI - UNIDADE LOURDES   \n",
       "\n",
       "      Dependencia_ADM Localizacao Matriculas  Participantes_PCD  \\\n",
       "72217               4           1        304                0.0   \n",
       "\n",
       "       Participantes  Taxa_Participacao         ...           Media_Redacao  \\\n",
       "72217          300.0              98.68         ...                  845.87   \n",
       "\n",
       "       Media_ProvaObjetiva  Media_Total     INSE  IAFD  Taxa_Permanencia  \\\n",
       "72217                  NaN          NaN  Grupo 6  70.1            5822.0   \n",
       "\n",
       "       Taxa_Aprovacao Taxa_Reprovacao  Taxa_Abandono                Porte  \n",
       "72217            94.2             5.8            0.0  Maior que 90 alunos  \n",
       "\n",
       "[1 rows x 24 columns]"
      ]
     },
     "execution_count": 10,
     "metadata": {},
     "output_type": "execute_result"
    }
   ],
   "source": [
    "base[base.Taxa_Permanencia > 1000]"
   ]
  },
  {
   "cell_type": "code",
   "execution_count": 11,
   "metadata": {},
   "outputs": [],
   "source": [
    "base.drop([72217],inplace=True)"
   ]
  },
  {
   "cell_type": "code",
   "execution_count": 12,
   "metadata": {},
   "outputs": [
    {
     "data": {
      "text/plain": [
       "<matplotlib.axes._subplots.AxesSubplot at 0x7f59b6f17b70>"
      ]
     },
     "execution_count": 12,
     "metadata": {},
     "output_type": "execute_result"
    },
    {
     "data": {
      "image/png": "[encoded data removed]",
      "text/plain": [
       "<Figure size 1152x360 with 1 Axes>"
      ]
     },
     "metadata": {},
     "output_type": "display_data"
    }
   ],
   "source": [
    "base[['Media_Naturais','Media_Humanas','Media_Linguagens', 'Media_Matematica',\n",
    "      'Media_ProvaObjetiva','Media_Total']].boxplot(fontsize=14,figsize=(16,5))"
   ]
  },
  {
   "cell_type": "code",
   "execution_count": 13,
   "metadata": {},
   "outputs": [
    {
     "data": {
      "text/plain": [
       "array([[<matplotlib.axes._subplots.AxesSubplot object at 0x7f59b6dd24a8>,\n",
       "        <matplotlib.axes._subplots.AxesSubplot object at 0x7f59b709b128>],\n",
       "       [<matplotlib.axes._subplots.AxesSubplot object at 0x7f59b6d9bbe0>,\n",
       "        <matplotlib.axes._subplots.AxesSubplot object at 0x7f59b6d4c2b0>],\n",
       "       [<matplotlib.axes._subplots.AxesSubplot object at 0x7f59b6cf4940>,\n",
       "        <matplotlib.axes._subplots.AxesSubplot object at 0x7f59b6cf4978>]],\n",
       "      dtype=object)"
      ]
     },
     "execution_count": 13,
     "metadata": {},
     "output_type": "execute_result"
    },
    {
     "data": {
      "image/png": "[encoded data removed]",
      "text/plain": [
       "<Figure size 1080x360 with 6 Axes>"
      ]
     },
     "metadata": {},
     "output_type": "display_data"
    }
   ],
   "source": [
    "base[['Media_Naturais','Media_Humanas','Media_Linguagens', 'Media_Matematica',\n",
    "      'Media_ProvaObjetiva','Media_Total']].hist(figsize=(15,5))"
   ]
  },
  {
   "cell_type": "code",
   "execution_count": 14,
   "metadata": {},
   "outputs": [
    {
     "data": {
      "text/plain": [
       "<matplotlib.axes._subplots.AxesSubplot at 0x7f59b6bb7fd0>"
      ]
     },
     "execution_count": 14,
     "metadata": {},
     "output_type": "execute_result"
    },
    {
     "data": {
      "image/png": "[encoded data removed]",
      "text/plain": [
       "<Figure size 1152x360 with 1 Axes>"
      ]
     },
     "metadata": {},
     "output_type": "display_data"
    }
   ],
   "source": [
    "base[['Taxa_Permanencia','Taxa_Abandono','Taxa_Aprovacao','Taxa_Reprovacao']].boxplot(figsize=(16,5),fontsize=14)"
   ]
  },
  {
   "cell_type": "code",
   "execution_count": 15,
   "metadata": {},
   "outputs": [
    {
     "data": {
      "text/plain": [
       "array([[<matplotlib.axes._subplots.AxesSubplot object at 0x7f59b6a827b8>,\n",
       "        <matplotlib.axes._subplots.AxesSubplot object at 0x7f59b6aaee10>],\n",
       "       [<matplotlib.axes._subplots.AxesSubplot object at 0x7f59b6a5e588>,\n",
       "        <matplotlib.axes._subplots.AxesSubplot object at 0x7f59b6a07ba8>]],\n",
       "      dtype=object)"
      ]
     },
     "execution_count": 15,
     "metadata": {},
     "output_type": "execute_result"
    },
    {
     "data": {
      "image/png": "[encoded data removed]",
      "text/plain": [
       "<Figure size 1080x360 with 4 Axes>"
      ]
     },
     "metadata": {},
     "output_type": "display_data"
    }
   ],
   "source": [
    "base[['Taxa_Permanencia','Taxa_Abandono','Taxa_Aprovacao','Taxa_Reprovacao']].hist(figsize=(15,5))"
   ]
  },
  {
   "cell_type": "code",
   "execution_count": 16,
   "metadata": {},
   "outputs": [
    {
     "data": {
      "text/plain": [
       "<matplotlib.axes._subplots.AxesSubplot at 0x7f59b69764a8>"
      ]
     },
     "execution_count": 16,
     "metadata": {},
     "output_type": "execute_result"
    },
    {
     "data": {
      "image/png": "[encoded data removed]",
      "text/plain": [
       "<Figure size 432x288 with 1 Axes>"
      ]
     },
     "metadata": {},
     "output_type": "display_data"
    }
   ],
   "source": [
    "base.Ano.hist(bins=21)"
   ]
  },
  {
   "cell_type": "code",
   "execution_count": 17,
   "metadata": {},
   "outputs": [],
   "source": [
    "def resolveTS(A,b): #A Triangular Superior\n",
    "    x = np.zeros(len(A))\n",
    "    for i in range(len(A)-1,-1,-1):\n",
    "        x[i] = (b[i] - (A[i][i+1:]*x[i+1:]).sum())/A[i][i]\n",
    "    return x\n",
    "\n",
    "def resolveTI(A,b): #A Triangular Inferior\n",
    "    x = np.zeros(len(b))\n",
    "    for i in range(len(b)):\n",
    "        x[i] = (b[i] - (A[i][:i]*x[:i]).sum())/A[i][i] # x[<intervalo_fechado>:<intervalo_aberto>]\n",
    "    return x\n",
    "\n",
    "def decompoeLU(A):\n",
    "    L = np.identity(len(A))\n",
    "    U = A.copy()\n",
    "    for i in range(len(A)-1):\n",
    "        L[i+1:,i] = U[i+1:,i]/U[i][i]\n",
    "        U[i+1:] -= L[i+1:,i].reshape((len(L[i+1:]),1))*U[i]\n",
    "    return L,U \n",
    "\n",
    "def resolveLU(L,U,b):\n",
    "    y = resolveTI(L,b)\n",
    "    return resolveTS(U,y)\n",
    "\n",
    "def verificaCholesky(A):\n",
    "    return (A == A.T).all() and (A.diagonal() > 0).all() and (np.linalg.eig(A)[0] > 0).all() and verificaPivot(A)\n",
    "\n",
    "def geraCholesky(A):\n",
    "    L = np.zeros(A.shape)\n",
    "    for j in range(len(A)):\n",
    "        L[j][j] = np.sqrt(A[j][j] - (np.power(L[j][:j],2).sum()))\n",
    "        for i in range(len(A)):\n",
    "            L[i,j] = (A[i,j]- (L[i,:j]*L[j,:j]).sum())/L[j,j]\n",
    "    j = len(A)-1\n",
    "    L[j,j] = np.sqrt(A[j,j]-(L[j][:j]**2).sum())\n",
    "    return L\n",
    "\n",
    "def cholesky(A,b):\n",
    "    L = geraCholesky(A)\n",
    "    return resolveLU(L,L.T,b)\n",
    "\n",
    "def regressaoLinear(x,y):\n",
    "    A = np.zeros((2,2))\n",
    "    b = np.zeros(2)\n",
    "    A[0,0] = len(x)\n",
    "    A[0,1] = A[1,0] = x.sum()\n",
    "    A[1,1] = (x*x).sum()\n",
    "    b[0] = y.sum()\n",
    "    b[1] = (x*y).sum()\n",
    "    return cholesky(A,b) # np.linalg.solve(A,b) - Eliminação Gaussiana no Numpy\n",
    "\n",
    "def regressaoLinearMultipla(x,y): #x é uma matriz ao invés de vetor\n",
    "    xs = np.vstack((np.ones(len(x[0])),x))\n",
    "    ys = xs.dot(y)\n",
    "    xs = xs.dot(xs.T)\n",
    "    return cholesky(xs,ys)\n",
    "\n",
    "def resolveLin(b,x):\n",
    "    return b[0] + (b[1:]*x).sum()"
   ]
  },
  {
   "cell_type": "code",
   "execution_count": 26,
   "metadata": {},
   "outputs": [
    {
     "data": {
      "text/plain": [
       "<matplotlib.collections.PathCollection at 0x7f59b520a7b8>"
      ]
     },
     "execution_count": 26,
     "metadata": {},
     "output_type": "execute_result"
    },
    {
     "data": {
      "image/png": "[encoded data removed]",
      "text/plain": [
       "<Figure size 432x288 with 1 Axes>"
      ]
     },
     "metadata": {},
     "output_type": "display_data"
    }
   ],
   "source": [
    "ordenado = base.sort_values(['Media_Humanas'])\n",
    "plt.scatter(ordenado.Media_Humanas,ordenado.Media_Redacao)"
   ]
  },
  {
   "cell_type": "code",
   "execution_count": 19,
   "metadata": {},
   "outputs": [
    {
     "data": {
      "text/plain": [
       "<matplotlib.collections.PathCollection at 0x7f59b57a3080>"
      ]
     },
     "execution_count": 19,
     "metadata": {},
     "output_type": "execute_result"
    },
    {
     "data": {
      "image/png": "[encoded data removed]",
      "text/plain": [
       "<Figure size 432x288 with 1 Axes>"
      ]
     },
     "metadata": {},
     "output_type": "display_data"
    }
   ],
   "source": [
    "plt.scatter(base.Media_Linguagens,base.Media_Redacao)"
   ]
  },
  {
   "cell_type": "code",
   "execution_count": 20,
   "metadata": {},
   "outputs": [
    {
     "data": {
      "text/plain": [
       "<matplotlib.collections.PathCollection at 0x7f59b675b6d8>"
      ]
     },
     "execution_count": 20,
     "metadata": {},
     "output_type": "execute_result"
    },
    {
     "data": {
      "image/png": "[encoded data removed]",
      "text/plain": [
       "<Figure size 432x288 with 1 Axes>"
      ]
     },
     "metadata": {},
     "output_type": "display_data"
    }
   ],
   "source": [
    "plt.scatter(base.Media_Linguagens,base.Media_Humanas)"
   ]
  }
 ],
 "metadata": {
  "kernelspec": {
   "display_name": "Python 3",
   "language": "python",
   "name": "python3"
  },
  "language_info": {
   "codemirror_mode": {
    "name": "ipython",
    "version": 3
   },
   "file_extension": ".py",
   "mimetype": "text/x-python",
   "name": "python",
   "nbconvert_exporter": "python",
   "pygments_lexer": "ipython3",
   "version": "3.6.4"
  }
 },
 "nbformat": 4,
 "nbformat_minor": 2
}
