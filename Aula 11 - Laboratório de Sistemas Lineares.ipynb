{
 "cells": [
  {
   "cell_type": "markdown",
   "metadata": {},
   "source": [
    "# Métodos para Resolução de Sistemas Lineares #\n",
    "\n",
    "Nesta aula, iremos implementar métodos para encontrar vetores de solução $x$ para sistemas lineares no formato $Ax=b$.\n",
    "\n",
    "# Preliminares #\n",
    "\n",
    "### Resolvendo sistemas triangulares ###\n",
    "\n",
    "Normalmente, para resolver sistemas lineares, precisamos chegar de alguma forma a sistemas triangulares (inferiores ou superiores). Por que? Porque eles podem ser resolvidos pelo método das substituições retroativas.\n",
    "\n",
    "\n",
    "\n",
    "$$ x_{i} = \\frac{b_{i}-\\sum\\limits_{j=1}^{i-1}{a_{ij}x_{j}}}{a_{ii}} $$\n",
    "\n",
    "e\n",
    "\n",
    "$$ x_{i} = \\frac{b_{i}-\\sum\\limits_{j=i+1}^{n}{a_{ij}x_{j}}}{a_{ii}} $$\n",
    "\n",
    "Faça duas funções, que recebendo como parâmetro uma matriz $A$ triangular (superior ou inferior) e um vetor $b$, retorne o vetor solução $X$:"
   ]
  },
  {
   "cell_type": "code",
   "execution_count": 1,
   "metadata": {},
   "outputs": [],
   "source": [
    "import numpy as np"
   ]
  },
  {
   "cell_type": "code",
   "execution_count": 64,
   "metadata": {},
   "outputs": [],
   "source": [
    "# Dão erro se tiver 0 na DP pq aí é indeterminado\n",
    "def resolveTS(A,b): #A Triangular Superior\n",
    "    x = np.zeros(len(A))\n",
    "    for i in range(len(A)-1,-1,-1):\n",
    "        x[i] = (b[i] - (A[i][i+1:]*x[i+1:]).sum())/A[i][i]\n",
    "    return x\n",
    "\n",
    "def resolveTI(A,b): #A Triangular Inferior\n",
    "    x = np.zeros(len(b))\n",
    "    for i in range(len(b)):\n",
    "        x[i] = (b[i] - (A[i][:i]*x[:i]).sum())/A[i][i] # x[<intervalo_fechado>:<intervalo_aberto>]\n",
    "    return x"
   ]
  },
  {
   "cell_type": "code",
   "execution_count": 65,
   "metadata": {},
   "outputs": [
    {
     "data": {
      "text/plain": [
       "array([ 1.,  2., -1.,  3.])"
      ]
     },
     "execution_count": 65,
     "metadata": {},
     "output_type": "execute_result"
    }
   ],
   "source": [
    "A = np.array([[1,1,-2,0],[0,4,0,1],[0,0,3,7/4],[0,0,0,-5/3]])\n",
    "b = [5,11,9/4,-5]\n",
    "resolveTS(A,b)"
   ]
  },
  {
   "cell_type": "code",
   "execution_count": 66,
   "metadata": {},
   "outputs": [
    {
     "data": {
      "text/plain": [
       "array([ 3., -1.,  2.,  1.])"
      ]
     },
     "execution_count": 66,
     "metadata": {},
     "output_type": "execute_result"
    }
   ],
   "source": [
    "A1 = np.flip(np.flip(A,0),1)\n",
    "b1 = np.flip(b,0)\n",
    "resolveTI(A1,b1)"
   ]
  },
  {
   "cell_type": "markdown",
   "metadata": {},
   "source": [
    "### Operações $l$-elementares ###\n",
    "\n",
    "Fazer operações $l$-elementares com matrizes numpy é bem simples: com `M[i]` você acessa a i-ésima linha:"
   ]
  },
  {
   "cell_type": "code",
   "execution_count": 68,
   "metadata": {},
   "outputs": [
    {
     "name": "stdout",
     "output_type": "stream",
     "text": [
      "[[ -2  -5  -2   5]\n",
      " [  1   2   9   7]\n",
      " [  9   4  -9   5]\n",
      " [  1 -10  -4 -10]]\n",
      "Subtraindo uma linha por outra multiplicada por uma constante:\n",
      "[[ -2  -5  -2   5]\n",
      " [  1   2   9   7]\n",
      " [  7   0 -27  -9]\n",
      " [  1 -10  -4 -10]]\n",
      "Trocar duas linhas:\n",
      "[[ -2  -5  -2   5]\n",
      " [  1 -10  -4 -10]\n",
      " [  7   0 -27  -9]\n",
      " [  1   2   9   7]]\n"
     ]
    }
   ],
   "source": [
    "import numpy as np\n",
    "\n",
    "M = np.random.randint(-10,10,(4,4))\n",
    "print(M)\n",
    "\n",
    "print(\"Subtraindo uma linha por outra multiplicada por uma constante:\")\n",
    "M[2] = M[2] - M[1]*2\n",
    "print(M)\n",
    "\n",
    "print(\"Trocar duas linhas:\")\n",
    "\n",
    "M[[1,3]] = M[[3,1]]\n",
    "print(M)\n"
   ]
  },
  {
   "cell_type": "code",
   "execution_count": 11,
   "metadata": {},
   "outputs": [
    {
     "name": "stdout",
     "output_type": "stream",
     "text": [
      "Achar o maior elemento da matriz:\n",
      "-1\n",
      "Achar o maior elemento da matriz em módulo:\n",
      "20\n",
      "7\n"
     ]
    }
   ],
   "source": [
    "print(\"Achar o maior elemento da matriz:\")\n",
    "print(M[1].max())\n",
    "\n",
    "print(\"Achar o maior elemento da matriz em módulo:\")\n",
    "print(abs(M[:][2]).max())\n",
    "\n",
    "# E PARA ACHAR O MAIOR ELEMENTO DE UMA LINHA?\n",
    "print(M[0][:].max())"
   ]
  },
  {
   "cell_type": "code",
   "execution_count": 12,
   "metadata": {},
   "outputs": [
    {
     "name": "stdout",
     "output_type": "stream",
     "text": [
      "Matriz transposta:\n",
      " [[ -1  20]\n",
      " [ -5 -19]\n",
      " [ -7  -4]\n",
      " [ -1   2]]\n",
      "Determinante de M:  -9399.999999999995\n",
      "Autovalores de uma matriz:\n",
      "[ 14.77990546 -18.54949633  -9.6932492   -3.53715994]\n"
     ]
    }
   ],
   "source": [
    "print(\"Matriz transposta:\\n\",M[1:3].T)\n",
    "\n",
    "print(\"Determinante de M: \",np.linalg.det(M))\n",
    "\n",
    "print(\"Autovalores de uma matriz:\")\n",
    "\n",
    "(a,_) = np.linalg.eig(M) \n",
    "print(a)"
   ]
  },
  {
   "cell_type": "markdown",
   "metadata": {},
   "source": [
    "# Métodos Exatos #\n",
    "\n",
    "## Eliminação gaussiana ##\n",
    "\n",
    "Para fazer a eliminação gaussiana deve-se usar os elementos da diagonal principal de A como pivos para zerar os elementos da mesma coluna.\n",
    "\n",
    "Implemente a eliminação gaussiana simples (sem pivotação parcial):"
   ]
  },
  {
   "cell_type": "code",
   "execution_count": 169,
   "metadata": {},
   "outputs": [],
   "source": [
    "def eliminacaoGaussianaSimples(A0,b):\n",
    "    M = np.zeros(A0.shape)\n",
    "    A = np.concatenate((A0,b.reshape(len(b),1)),axis=1)\n",
    "    for i in range(len(A)-1):\n",
    "        M[i+1:,i] = A[i+1:,i]/A[i][i]\n",
    "        A[i+1:] -= M[i+1:,i].reshape((len(M[i+1:]),1))*A[i]\n",
    "    return resolveTS(A[:,:len(b)],A[:,len(b)])"
   ]
  },
  {
   "cell_type": "code",
   "execution_count": 60,
   "metadata": {},
   "outputs": [
    {
     "data": {
      "text/plain": [
       "array([ 1.,  2., -1.,  3.])"
      ]
     },
     "execution_count": 60,
     "metadata": {},
     "output_type": "execute_result"
    }
   ],
   "source": [
    "A = np.array([[1,1,-2,0],[-1,3,2,1],[1,2,1,2],[2,0,-2,-1]],dtype='float')\n",
    "b = np.array([5,6,10,1],dtype='float')\n",
    "eliminacaoGaussianaSimples(A,b)"
   ]
  },
  {
   "cell_type": "markdown",
   "metadata": {},
   "source": [
    "## Decomposição LU ##\n",
    "\n",
    "A decomposição LU é mais utilizada quando a mesma matriz de coeficientes $A$ é usada para várias soluções diferentes. Por isto, ela pode ser dividida em dois passos:\n",
    "\n",
    "- Decompor $A$ em $L$ e $U$ \n",
    "- Dados $L$, $U$ e $b$, achar a solução X\n",
    "\n",
    "Faça as duas funções, com a decomposição ainda sem pivotação parcial:"
   ]
  },
  {
   "cell_type": "code",
   "execution_count": 249,
   "metadata": {},
   "outputs": [],
   "source": [
    "def decompoeLU(A):\n",
    "    L = np.identity(len(A))\n",
    "    U = A.copy()\n",
    "    for i in range(len(A)-1):\n",
    "        L[i+1:,i] = U[i+1:,i]/U[i][i]\n",
    "        U[i+1:] -= L[i+1:,i].reshape((len(L[i+1:]),1))*U[i]\n",
    "    return L,U \n",
    "\n",
    "def resolveLU(L,U,b):\n",
    "    y = resolveTI(L,b)\n",
    "    return resolveTS(U,y)\n",
    "\n",
    "def LU(A,b):\n",
    "    L,U = decompoeLU(A)\n",
    "    return resolveLU(L,U,b)"
   ]
  },
  {
   "cell_type": "code",
   "execution_count": 250,
   "metadata": {},
   "outputs": [
    {
     "data": {
      "text/plain": [
       "array([-138.,   20.,   11.,    1.])"
      ]
     },
     "execution_count": 250,
     "metadata": {},
     "output_type": "execute_result"
    }
   ],
   "source": [
    "A = np.array([[1,6,2,4],[3,19,4,15],[1,4,8,-12],[5,33,9,3]],dtype='float')\n",
    "b = np.array([8,25,18,72],dtype='float')\n",
    "LU(A,b)"
   ]
  },
  {
   "cell_type": "markdown",
   "metadata": {},
   "source": [
    "### Pivotação Parcial ###\n",
    "\n",
    "Sistemas onde o determinante de uma das submatrizes principais ($A_{1x1},A_{2x2},A_{3x3}...$) é igual a $0$ não podem ser resolvidos com a decomposição LU simples. Nestes casos, deve-se utilizar a pivotação parcial, onde o pivô é escolhido da linha com o maior elemento em módulo.\n",
    "\n",
    "Contudo, é importante guardar as trocas de linha que foram efetuadas na matriz de permutações $P$. Esta matriz é uma matriz identidade com as linhas trocadas junto com a pivotação. Por exemplo, se na primeira coluna o maior elemento está na linha três, este será o primeiro pivô (a linha 1 será trocada com a 3). Neste caso, na matriz $P$ também se troca estas linhas. No fim do processo:\n",
    "\n",
    "$PAx = Pb$\n",
    "\n",
    "$LUx=Pb$\n",
    "\n",
    "Então basta resolver trocando as linhas de b de através da multiplicação por P. Lembrem que multiplicar matrizes em numpy é:\n",
    "\n",
    "`p.dot(a)` ou `dot(p,a)`\n",
    "\n",
    "Implemente uma função que checa se a pivotação parcial é necessária e a decomposição LU com pivotação parcial:"
   ]
  },
  {
   "cell_type": "code",
   "execution_count": 313,
   "metadata": {},
   "outputs": [],
   "source": [
    "def verificaPivot(A):\n",
    "    for i in range(len(A)):\n",
    "        if np.linalg.det(A[:i,:i]) == 0:\n",
    "            return False\n",
    "    return True\n",
    "\n",
    "def LUparcial(A):\n",
    "    P = np.identity(len(A))\n",
    "    U = A.copy()\n",
    "    if verificaPivot(A):\n",
    "        L = np.identity(len(A))\n",
    "        for i in range(len(A)-1):\n",
    "            lp = np.argmax(np.abs(U[i:,i])) + i # Pega o índice da linha pivotal\n",
    "            U[[i,lp]] = U[[lp,i]] # Troca as linhas na matriz A\n",
    "            P[[i,lp]] = P[[lp,i]] # Troca as linhas na matriz P\n",
    "            L[i+1:,i] = U[i+1:,i]/U[i][i] # Coloca a coluna de multiplicadores em L\n",
    "            U[i+1:] -= L[i+1:,i].reshape((len(L[i+1:]),1))*U[i]\n",
    "            U[i+1:] = U[i+1:].round(decimals=2)\n",
    "            L[i+1:,i] = L[i+1:,i].round(decimals=2)\n",
    "            #print(U)\n",
    "        return L,U,P\n",
    "    else:\n",
    "        print('Não é possível fazer a pivotação parcial.')\n",
    "        return []\n",
    "\n",
    "def resolveLUpar(L,U,P,b):\n",
    "    y = resolveTI(L,np.dot(P,b))\n",
    "    return resolveTS(U,y)\n",
    "\n",
    "def LUpar(A,b):\n",
    "    L,U,P = LUparcial(A)\n",
    "    return resolveLUpar(L,U,P,b)"
   ]
  },
  {
   "cell_type": "code",
   "execution_count": 314,
   "metadata": {},
   "outputs": [
    {
     "data": {
      "text/plain": [
       "array([-10912.76117499,   1379.36203695,    951.1806284 ,    185.411     ])"
      ]
     },
     "execution_count": 314,
     "metadata": {},
     "output_type": "execute_result"
    }
   ],
   "source": [
    "A = np.array([[1,6,2,4],[3,19,4,15],[1,4,8,-12],[5,33,9,3]],dtype='float')\n",
    "b = np.array([8,25,18,72],dtype='float')\n",
    "LUpar(A,b)"
   ]
  },
  {
   "cell_type": "markdown",
   "metadata": {},
   "source": [
    "#### Exercício ####\n",
    "\n",
    "Rode e verifique o tempo com `%timeit` da eliminação gaussiana, decomposição LU e LU com pivotação para o sistema abaixo. No caso da LU, calcule o tempo da decomposição e da solução dos sistemas:"
   ]
  },
  {
   "cell_type": "code",
   "execution_count": 315,
   "metadata": {},
   "outputs": [
    {
     "name": "stdout",
     "output_type": "stream",
     "text": [
      "Sistema 1:\n",
      "Eliminação Gaussianda Simples: \t       142 µs ± 34.4 µs per loop (mean ± std. dev. of 7 runs, 100 loops each)\n",
      "Decomposição LU:\t\t       138 µs ± 13.1 µs per loop (mean ± std. dev. of 7 runs, 100 loops each)\n",
      "Decomposição LU com pivotação parcial: 381 µs ± 64.7 µs per loop (mean ± std. dev. of 7 runs, 100 loops each)\n",
      "\n",
      "Sistema 2:\n",
      "Eliminação Gaussianda Simples: \t       90.3 µs ± 1.12 µs per loop (mean ± std. dev. of 7 runs, 100 loops each)\n",
      "Decomposição LU:\t\t       151 µs ± 35.7 µs per loop (mean ± std. dev. of 7 runs, 100 loops each)\n",
      "Decomposição LU com pivotação parcial: 549 µs ± 230 µs per loop (mean ± std. dev. of 7 runs, 100 loops each)\n"
     ]
    }
   ],
   "source": [
    "#Sistema 1:\n",
    "print('Sistema 1:')\n",
    "M1 = np.array([[1,-3,5,6], [-8,4,-1,0],[3,2,-2,7],[1,2,5,-4]],dtype='float')\n",
    "b1 = np.array([17,29,-11,7],dtype='float')\n",
    "print('Eliminação Gaussianda Simples: \\t       ',end='')\n",
    "%timeit -n100 eliminacaoGaussianaSimples(M1,b1)\n",
    "print('Decomposição LU:\\t\\t       ',end='')\n",
    "%timeit -n100 LU(M1,b1)\n",
    "print('Decomposição LU com pivotação parcial: ',end='')\n",
    "%timeit -n100 LUpar(M1,b1)\n",
    "\n",
    "#Sistema 2:\n",
    "print('\\nSistema 2:')\n",
    "M2 = np.array([[-2,3,1,5],[5,1,-1,0],[1,6,3,-1],[4,5,2,8]],dtype='float')\n",
    "b2 = np.array([2,-1,0,6],dtype='float')\n",
    "print('Eliminação Gaussianda Simples: \\t       ',end='')\n",
    "%timeit -n100 eliminacaoGaussianaSimples(M2,b2)\n",
    "print('Decomposição LU:\\t\\t       ',end='')\n",
    "%timeit -n100 LU(M2,b2)\n",
    "print('Decomposição LU com pivotação parcial: ',end='')\n",
    "%timeit -n100 LUpar(M2,b2)\n"
   ]
  },
  {
   "cell_type": "markdown",
   "metadata": {},
   "source": [
    "## Cholesky ##\n",
    "\n",
    "O método de Cholesky só pode ser utilizado quando a matriz for:\n",
    "\n",
    "- Simétrica (igual a sua transposta)\n",
    "- Definida positiva: \n",
    "    - Todos os elementos da diagonal principal são positivos\n",
    "    - Todos os autovalores de $A$ são positivos\n",
    "    - Todas as submatrizes superiores possuem determinante __positivo__.\n",
    "\n",
    "Se for possível, o método de Cholesky é uma decomposição LU onde $U=L^{T}$, ou seja $LL^{T}x=b$.\n",
    "\n",
    "Lembrando que na decomposição de Cholesky os elementos da diagonal principal de L são:\n",
    "\n",
    "$$l_{jj} = \\sqrt{a_{jj}-\\sum\\limits_{k=1}^{j-1}{l_{jk}^2}, j = 1,2,...,n}$$\n",
    "\n",
    "E os fora da diagonal principal são:\n",
    "\n",
    "$$ l_{ij} = \\frac{a_{ij}-\\sum\\limits_{k=1}^{j-1}{l_{ik}l_{jk}}}{l_{jj}} $$\n",
    "\n",
    "Desta forma, faça uma função para determinar se uma matriz pode ser resolvida via Cholesky e uma para encontrar L (para resolver pode-se usar `resolveLU(L,L.T,b)`):"
   ]
  },
  {
   "cell_type": "code",
   "execution_count": 348,
   "metadata": {},
   "outputs": [],
   "source": [
    "def verificaCholesky(A):\n",
    "    return (A == A.T).all() and (A.diagonal() > 0).all() and (np.linalg.eig(A)[0] > 0).all() and verificaPivot(A)\n",
    "\n",
    "def geraCholesky(A):\n",
    "    L = np.zeros(A.shape)\n",
    "    for j in range(len(A)):\n",
    "        L[j][j] = np.sqrt(A[j][j] - (np.power(L[j][:j],2).sum()))\n",
    "        L[j+1:,j] = (A[j+1:,j] - (L[j+1:,:j]*L[j,:j]).sum())/L[j][j]\n",
    "    return L\n",
    "\n",
    "def cholesky(A,b):\n",
    "    L = geraCholesky(A)\n",
    "    return resolveLU(L,L.T,b)"
   ]
  },
  {
   "cell_type": "code",
   "execution_count": 374,
   "metadata": {},
   "outputs": [
    {
     "data": {
      "text/plain": [
       "True"
      ]
     },
     "execution_count": 374,
     "metadata": {},
     "output_type": "execute_result"
    }
   ],
   "source": [
    "A = np.array([[4,-2,2],[-2,10,-7],[2,-7,30]],dtype='float')\n",
    "verificaCholesky(A)"
   ]
  },
  {
   "cell_type": "code",
   "execution_count": 375,
   "metadata": {},
   "outputs": [
    {
     "data": {
      "text/plain": [
       "array([[ 2.,  0.,  0.],\n",
       "       [-1.,  3.,  0.],\n",
       "       [ 1., -2.,  5.]])"
      ]
     },
     "execution_count": 375,
     "metadata": {},
     "output_type": "execute_result"
    }
   ],
   "source": [
    "geraCholesky(A)"
   ]
  },
  {
   "cell_type": "markdown",
   "metadata": {},
   "source": [
    "No método de Cholesky, por ser uma matriz simétrica, podemos, ao invés de calcular o determinante normalmente, usar a seguinte definição:\n",
    "\n",
    "$$ det(A) = det(L)det(L') $$\n",
    "\n",
    "$$ det(A) = \\bigg(\\prod_{i=1}^{n}{l_{ii}}\\bigg)^2 $$"
   ]
  },
  {
   "cell_type": "code",
   "execution_count": 303,
   "metadata": {},
   "outputs": [],
   "source": [
    "def detCholesky(M): \n",
    "    return np.power(np.prod(geraCholesky(M).diagonal()),2)"
   ]
  },
  {
   "cell_type": "code",
   "execution_count": 376,
   "metadata": {},
   "outputs": [
    {
     "data": {
      "text/plain": [
       "900.0"
      ]
     },
     "execution_count": 376,
     "metadata": {},
     "output_type": "execute_result"
    }
   ],
   "source": [
    "detCholesky(A)"
   ]
  },
  {
   "cell_type": "markdown",
   "metadata": {},
   "source": [
    "#### Exercicios ####\n",
    "\n",
    "1 - Verifique se os seguintes sistemas podem ser resolvidas via Choleski\n",
    "\n",
    "2 - Compare o tempo para decomposição LU das que são possíveis com a de Choleski usando `%timeit`\n",
    "\n",
    "3 - Compare o tempo do calculo do determinante de numpy com o determinante específico para matrizes para choleski"
   ]
  },
  {
   "cell_type": "code",
   "execution_count": 371,
   "metadata": {},
   "outputs": [
    {
     "name": "stdout",
     "output_type": "stream",
     "text": [
      "Sistema 3:\n",
      "É possível de se resolver com Sholesky? True\n",
      "Cholesky:\t 183 µs ± 44.6 µs per loop (mean ± std. dev. of 7 runs, 100 loops each)\n",
      "Decomposição LU: 109 µs ± 5.62 µs per loop (mean ± std. dev. of 7 runs, 100 loops each)\n",
      "Determinante Numpy:    9.69 µs ± 899 ns per loop (mean ± std. dev. of 7 runs, 100 loops each)\n",
      "Determinante Cholesky: 119 µs ± 3.94 µs per loop (mean ± std. dev. of 7 runs, 100 loops each)\n",
      "\n",
      "Sistema 4:\n",
      "É possível de se resolver com Sholesky? True\n",
      "Cholesky:\t 225 µs ± 29.9 µs per loop (mean ± std. dev. of 7 runs, 100 loops each)\n",
      "Decomposição LU: 149 µs ± 1.84 µs per loop (mean ± std. dev. of 7 runs, 100 loops each)\n",
      "Determinante Numpy:    9.68 µs ± 914 ns per loop (mean ± std. dev. of 7 runs, 100 loops each)\n",
      "Determinante Cholesky: 156 µs ± 6.87 µs per loop (mean ± std. dev. of 7 runs, 100 loops each)\n",
      "\n",
      "Sistema 5:\n",
      "É possível de se resolver com Sholesky? False\n"
     ]
    },
    {
     "name": "stderr",
     "output_type": "stream",
     "text": [
      "/home/nabson/anaconda3/lib/python3.7/site-packages/ipykernel_launcher.py:7: RuntimeWarning: invalid value encountered in sqrt\n",
      "  import sys\n",
      "/home/nabson/anaconda3/lib/python3.7/site-packages/ipykernel_launcher.py:7: RuntimeWarning: invalid value encountered in sqrt\n",
      "  import sys\n"
     ]
    }
   ],
   "source": [
    "print('Sistema 3:')\n",
    "M3 = np.array([[9,-6,3],[-6,29,-7],[3,-7,18]],dtype='float')\n",
    "b3 = np.array([-3,-8,33],dtype='float')\n",
    "print('É possível de se resolver com Sholesky?',verificaCholesky(M3))\n",
    "print('Cholesky:\\t ',end='')\n",
    "%timeit -n100 cholesky(M3,b3)\n",
    "print('Decomposição LU: ',end='')\n",
    "%timeit -n100 LU(M3,b3)\n",
    "print('Determinante Numpy:    ',end='')\n",
    "%timeit -n100 np.linalg.det(M3)\n",
    "print('Determinante Cholesky: ',end='')\n",
    "%timeit -n100 detCholesky(M3)\n",
    "\n",
    "print('\\nSistema 4:')\n",
    "M4 = np.array([[4,-2,4,10],[-2,2,-1,-7],[4,-1,14,11],[10,-7,11,31]],dtype='float')\n",
    "b4 = np.array([2,2,-1,-2],dtype='float')\n",
    "print('É possível de se resolver com Sholesky?',verificaCholesky(M4))\n",
    "print('Cholesky:\\t ',end='')\n",
    "%timeit -n100 cholesky(M4,b4)\n",
    "print('Decomposição LU: ',end='')\n",
    "%timeit -n100 LU(M4,b4)\n",
    "print('Determinante Numpy:    ',end='')\n",
    "%timeit -n100 np.linalg.det(M4)\n",
    "print('Determinante Cholesky: ',end='')\n",
    "%timeit -n100 detCholesky(M4)\n",
    "\n",
    "print('\\nSistema 5:')\n",
    "M5 = np.array([[16,-4,4,12],[-4,2,-1,-7],[4,-1,26,13],[12,-7,13,25]],dtype='float')\n",
    "b5 = np.array([2,2,-1,-2],dtype='float')\n",
    "print('É possível de se resolver com Sholesky?',verificaCholesky(M5))"
   ]
  }
 ],
 "metadata": {
  "kernelspec": {
   "display_name": "Python 3",
   "language": "python",
   "name": "python3"
  },
  "language_info": {
   "codemirror_mode": {
    "name": "ipython",
    "version": 3
   },
   "file_extension": ".py",
   "mimetype": "text/x-python",
   "name": "python",
   "nbconvert_exporter": "python",
   "pygments_lexer": "ipython3",
   "version": "3.7.2"
  }
 },
 "nbformat": 4,
 "nbformat_minor": 2
}
