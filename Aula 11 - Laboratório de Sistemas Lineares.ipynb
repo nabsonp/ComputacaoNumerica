{
 "cells": [
  {
   "cell_type": "markdown",
   "metadata": {},
   "source": [
    "# Métodos para Resolução de Sistemas Lineares #\n",
    "\n",
    "Nesta aula, iremos implementar métodos para encontrar vetores de solução $x$ para sistemas lineares no formato $Ax=b$.\n",
    "\n",
    "# Preliminares #\n",
    "\n",
    "### Resolvendo sistemas triangulares ###\n",
    "\n",
    "Normalmente, para resolver sistemas lineares, precisamos chegar de alguma forma a sistemas triangulares (inferiores ou superiores). Por que? Porque eles podem ser resolvidos pelo método das substituições retroativas.\n",
    "\n",
    "\n",
    "\n",
    "$$ x_{i} = \\frac{b_{i}-\\sum\\limits_{j=1}^{i-1}{a_{ij}x_{j}}}{a_{ii}} $$\n",
    "\n",
    "e\n",
    "\n",
    "$$ x_{i} = \\frac{b_{i}-\\sum\\limits_{j=i+1}^{n}{a_{ij}x_{j}}}{a_{ii}} $$\n",
    "\n",
    "Faça duas funções, que recebendo como parâmetro uma matriz $A$ triangular (superior ou inferior) e um vetor $b$, retorne o vetor solução $X$:"
   ]
  },
  {
   "cell_type": "code",
   "execution_count": 1,
   "metadata": {},
   "outputs": [],
   "source": [
    "import numpy as np"
   ]
  },
  {
   "cell_type": "code",
   "execution_count": 181,
   "metadata": {},
   "outputs": [
    {
     "data": {
      "text/plain": [
       "0.0"
      ]
     },
     "execution_count": 181,
     "metadata": {},
     "output_type": "execute_result"
    }
   ],
   "source": [
    "(A[0][:0]*b[:0]).sum()"
   ]
  },
  {
   "cell_type": "code",
   "execution_count": 182,
   "metadata": {},
   "outputs": [],
   "source": [
    "# Dão erro se tiver 0 na DP pq aí é indeterminado\n",
    "def resolveTS(A,b): #A Triangular Superior\n",
    "    x = np.zeros(len(A))\n",
    "    n = len(b)\n",
    "    for i in range(len(A)-1,-1,-1):\n",
    "        x[i] = (b[i] - (A[i][i+1:]*x[i+1:]).sum())/A[i][i]\n",
    "    return x\n",
    "\n",
    "def resolveTI(A,b): #A Triangular Inferior\n",
    "    x = np.zeros(len(b))\n",
    "    for i in range(len(b)):\n",
    "        x[i] = (b[i] - (A[i][:i]*x[:i]).sum())/A[i][i] # x[<intervalo_fechado>:<intervalo_aberto>]\n",
    "    return x"
   ]
  },
  {
   "cell_type": "code",
   "execution_count": 169,
   "metadata": {},
   "outputs": [
    {
     "data": {
      "text/plain": [
       "array([ 1.,  2., -1.,  3.])"
      ]
     },
     "execution_count": 169,
     "metadata": {},
     "output_type": "execute_result"
    }
   ],
   "source": [
    "A = np.array([[1,1,-2,0],[0,4,0,1],[0,0,3,7/4],[0,0,0,-5/3]])\n",
    "b = [5,11,9/4,-5]\n",
    "resolveTS(A,b)"
   ]
  },
  {
   "cell_type": "code",
   "execution_count": 183,
   "metadata": {},
   "outputs": [
    {
     "data": {
      "text/plain": [
       "array([ 3., -1.,  2.,  1.])"
      ]
     },
     "execution_count": 183,
     "metadata": {},
     "output_type": "execute_result"
    }
   ],
   "source": [
    "A1 = np.flip(np.flip(A,0),1)\n",
    "b1 = np.flip(b,0)\n",
    "resolveTI(A1,b1)"
   ]
  },
  {
   "cell_type": "markdown",
   "metadata": {},
   "source": [
    "### Operações $l$-elementares ###\n",
    "\n",
    "Fazer operações $l$-elementares com matrizes numpy é bem simples: com `M[i]` você acessa a i-ésima linha:"
   ]
  },
  {
   "cell_type": "code",
   "execution_count": 89,
   "metadata": {},
   "outputs": [
    {
     "name": "stdout",
     "output_type": "stream",
     "text": [
      "[[  9   5   2   9]\n",
      " [  1   5 -10  -9]\n",
      " [  3  -2  -5  -2]\n",
      " [  3   0  -7  -9]]\n",
      "Subtraindo uma linha por outra multiplicada por uma constante:\n",
      "[[  9   5   2   9]\n",
      " [  1   5 -10  -9]\n",
      " [  1 -12  15  16]\n",
      " [  3   0  -7  -9]]\n",
      "Trocar duas linhas:\n",
      "[[  9   5   2   9]\n",
      " [  3   0  -7  -9]\n",
      " [  1 -12  15  16]\n",
      " [  1   5 -10  -9]]\n"
     ]
    }
   ],
   "source": [
    "import numpy as np\n",
    "\n",
    "M = np.random.randint(-10,10,(4,4))\n",
    "print(M)\n",
    "\n",
    "print(\"Subtraindo uma linha por outra multiplicada por uma constante:\")\n",
    "M[2] = M[2] - M[1]*2\n",
    "print(M)\n",
    "\n",
    "print(\"Trocar duas linhas:\")\n",
    "\n",
    "M[[1,3]] = M[[3,1]]\n",
    "print(M)\n"
   ]
  },
  {
   "cell_type": "markdown",
   "metadata": {},
   "source": [
    "### Outras operações com Matrizes ###"
   ]
  },
  {
   "cell_type": "code",
   "execution_count": 6,
   "metadata": {},
   "outputs": [
    {
     "name": "stdout",
     "output_type": "stream",
     "text": [
      "Achar o maior elemento da matriz:\n",
      "6\n",
      "Achar o maior elemento da matriz em módulo:\n",
      "20\n",
      "5\n"
     ]
    }
   ],
   "source": [
    "print(\"Achar o maior elemento da matriz:\")\n",
    "print(M[1].max())\n",
    "\n",
    "print(\"Achar o maior elemento da matriz em módulo:\")\n",
    "print(abs(M[:][2]).max())\n",
    "\n",
    "# E PARA ACHAR O MAIOR ELEMENTO DE UMA LINHA?\n",
    "print(M[0][:].max())"
   ]
  },
  {
   "cell_type": "code",
   "execution_count": 7,
   "metadata": {},
   "outputs": [
    {
     "name": "stdout",
     "output_type": "stream",
     "text": [
      "Matriz transposta:\n",
      " [[ -7  10]\n",
      " [  6 -12]\n",
      " [  5  20]\n",
      " [ -6  -4]]\n",
      "Determinante de M:  -3350.000000000003\n",
      "Autovalores de uma matriz:\n",
      "[16.65465416+12.60607072j 16.65465416-12.60607072j\n",
      " -3.50192336 +0.j          2.19261504 +0.j        ]\n"
     ]
    }
   ],
   "source": [
    "print(\"Matriz transposta:\\n\",M[1:3].T)\n",
    "\n",
    "print(\"Determinante de M: \",np.linalg.det(M))\n",
    "\n",
    "print(\"Autovalores de uma matriz:\")\n",
    "\n",
    "(a,_) = np.linalg.eig(M) \n",
    "print(a)"
   ]
  },
  {
   "cell_type": "markdown",
   "metadata": {},
   "source": [
    "# Métodos Exatos #\n",
    "\n",
    "## Eliminação gaussiana ##\n",
    "\n",
    "Para fazer a eliminação gaussiana deve-se usar os elementos da diagonal principal de A como pivos para zerar os elementos da mesma coluna.\n",
    "\n",
    "Implemente a eliminação gaussiana simples (sem pivotação parcial):"
   ]
  },
  {
   "cell_type": "code",
   "execution_count": 146,
   "metadata": {},
   "outputs": [],
   "source": [
    "def eliminacaoGaussianaSimples(A,b):\n",
    "    M = np.zeros(A.shape)\n",
    "    for i in range(len(A)-1):\n",
    "        M[i+1:,i] = A[i+1:,i]/A[i][i]\n",
    "        A[i+1:] -= M[i+1:,i].reshape((len(M[i+1:]),1))*A[i]\n",
    "        b[i+1:] -= M[i+1:,i]*b[i]\n",
    "    return resolveTS(A,b)"
   ]
  },
  {
   "cell_type": "code",
   "execution_count": 147,
   "metadata": {},
   "outputs": [
    {
     "data": {
      "text/plain": [
       "array([ 1.,  2., -1.,  3.])"
      ]
     },
     "execution_count": 147,
     "metadata": {},
     "output_type": "execute_result"
    }
   ],
   "source": [
    "A = np.array([[1,1,-2,0],[-1,3,2,1],[1,2,1,2],[2,0,-2,-1]],dtype='float')\n",
    "b = np.array([5,6,10,1],dtype='float')\n",
    "eliminacaoGaussianaSimples(A,b)"
   ]
  },
  {
   "cell_type": "markdown",
   "metadata": {},
   "source": [
    "## Decomposição LU ##\n",
    "\n",
    "A decomposição LU é mais utilizada quando a mesma matriz de coeficientes $A$ é usada para várias soluções diferentes. Por isto, ela pode ser dividida em dois passos:\n",
    "\n",
    "- Decompor $A$ em $L$ e $U$ \n",
    "- Dados $L$, $U$ e $b$, achar a solução X\n",
    "\n",
    "Faça as duas funções, com a decomposição ainda sem pivotação parcial:"
   ]
  },
  {
   "cell_type": "code",
   "execution_count": 158,
   "metadata": {},
   "outputs": [],
   "source": [
    "def decompoeLU(A):\n",
    "    L = np.zeros(A.shape)\n",
    "    L[0][0] = 1\n",
    "    for i in range(len(A)-1):\n",
    "        L[i+1][i+1] = 1\n",
    "        L[i+1:,i] = A[i+1:,i]/A[i][i]\n",
    "        A[i+1:] -= L[i+1:,i].reshape((len(L[i+1:]),1))*A[i]\n",
    "    return L,A # A = U\n",
    "\n",
    "def resolveLU(L,U,b):\n",
    "    y = resolveTI(L,b)\n",
    "    return resolveTS(U,y)"
   ]
  },
  {
   "cell_type": "code",
   "execution_count": 185,
   "metadata": {},
   "outputs": [
    {
     "data": {
      "text/plain": [
       "array([-138.,   20.,   11.,    1.])"
      ]
     },
     "execution_count": 185,
     "metadata": {},
     "output_type": "execute_result"
    }
   ],
   "source": [
    "A = np.array([[1,6,2,4],[3,19,4,15],[1,4,8,-12],[5,33,9,3]],dtype='float')\n",
    "b = np.array([8,25,18,72],dtype='float')\n",
    "L,U = decompoeLU(A)\n",
    "resolveLU(L,U,b)"
   ]
  },
  {
   "cell_type": "markdown",
   "metadata": {},
   "source": [
    "### Pivotação Parcial ###\n",
    "\n",
    "Sistemas onde o determinante de uma das submatrizes principais ($A_{1x1},A_{2x2},A_{3x3}...$) é igual a $0$ não podem ser resolvidos com a decomposição LU simples. Nestes casos, deve-se utilizar a pivotação parcial, onde o pivô é escolhido da linha com o maior elemento em módulo.\n",
    "\n",
    "Contudo, é importante guardar as trocas de linha que foram efetuadas na matriz de permutações $P$. Esta matriz é uma matriz identidade com as linhas trocadas junto com a pivotação. Por exemplo, se na primeira coluna o maior elemento está na linha três, este será o primeiro pivô (a linha 1 será trocada com a 3). Neste caso, na matriz $P$ também se troca estas linhas. No fim do processo:\n",
    "\n",
    "$PAx = Pb$\n",
    "\n",
    "$LUx=Pb$\n",
    "\n",
    "Então basta resolver trocando as linhas de b de através da multiplicação por P. Lembrem que multiplicar matrizes em numpy é:\n",
    "\n",
    "`p.dot(a)` ou `dot(p,a)`\n",
    "\n",
    "Implemente uma função que checa se a pivotação parcial é necessária e a decomposição LU com pivotação parcial:"
   ]
  },
  {
   "cell_type": "code",
   "execution_count": 207,
   "metadata": {},
   "outputs": [],
   "source": [
    "def verificaPivot(A):\n",
    "    for i in range(len(A)):\n",
    "        if np.linalg.det(A[:i,:i]) == 0:\n",
    "            return False\n",
    "    return True\n",
    "\n",
    "def LUparcial(A):\n",
    "    if verificaPivot(A):\n",
    "        P = np.identity(len(A))\n",
    "        L[i+1][i+1] = 1\n",
    "        L[i+1:,i] = A[i+1:,i]/A[i][i]\n",
    "        A[i+1:] -= L[i+1:,i].reshape((len(L[i+1:]),1))*A[i]\n",
    "        return L,U,P\n",
    "    return L,U,P\n",
    "\n",
    "def resolveLUpar(L,U,P,b):\n",
    "    \n",
    "    return x"
   ]
  },
  {
   "cell_type": "markdown",
   "metadata": {},
   "source": [
    "#### Exercício ####\n",
    "\n",
    "Rode e verifique o tempo com `%timeit` da eliminação gaussiana, decomposição LU e LU com pivotação para o sistema abaixo. No caso da LU, calcule o tempo da decomposição e da solução dos sistemas:"
   ]
  },
  {
   "cell_type": "code",
   "execution_count": null,
   "metadata": {
    "collapsed": true
   },
   "outputs": [],
   "source": [
    "#Sistema 1:\n",
    "\n",
    "M1 = np.array([[1,-3,5,6], [-8,4,-1,0],[3,2,-2,7],[1,2,5,-4]])\n",
    "b1 = np.array([17,29,-11,7])\n",
    "\n",
    "#Sistema 2:\n",
    "\n",
    "M2 = np.array([[-2,3,1,5],[5,1,-1,0],[1,6,3,-1],[4,5,2,8]])\n",
    "b2 = np.array([2,-1,0,6])\n"
   ]
  },
  {
   "cell_type": "markdown",
   "metadata": {},
   "source": [
    "## Cholesky ##\n",
    "\n",
    "O método de Cholesky só pode ser utilizado quando a matriz for:\n",
    "\n",
    "- Simétrica (igual a sua transposta)\n",
    "- Definida positiva: \n",
    "    - Todos os elementos da diagonal principal são positivos\n",
    "    - Todos os autovalores de $A$ são positivos\n",
    "    - Todas as submatrizes superiores possuem determinante __positivo__.\n",
    "\n",
    "Se for possível, o método de Cholesky é uma decomposição LU onde $U=L^{T}$, ou seja $LL^{T}x=b$.\n",
    "\n",
    "Lembrando que na decomposição de Cholesky os elementos da diagonal principal de L são:\n",
    "\n",
    "$$l_{jj} = \\sqrt{a_{jj}-\\sum\\limits_{k=1}^{j-1}{l_{jk}^2}, j = 1,2,...,n}$$\n",
    "\n",
    "E os fora da diagonal principal são:\n",
    "\n",
    "$$ l_{ij} = \\frac{a_{ij}-\\sum\\limits_{k=1}^{j-1}{l_{ik}l_{jk}}}{l_{jj}} $$\n",
    "\n",
    "Desta forma, faça uma função para determinar se uma matriz pode ser resolvida via Cholesky e uma para encontrar L (para resolver pode-se usar `resolveLU(L,L.T,b)`):"
   ]
  },
  {
   "cell_type": "code",
   "execution_count": 287,
   "metadata": {},
   "outputs": [],
   "source": [
    "def verificaCholesky(A):\n",
    "    if (A == A.T).all() and A.all() > 0 and np.linalg.eig(A)[0].all() > 0 and verificaPivot(A):\n",
    "        return True\n",
    "    return False\n",
    "\n",
    "def geraCholesky(A):\n",
    "    L = np.zeros(A.shape)\n",
    "    for j in range(len(A)):\n",
    "        L[j][j] = np.sqrt(A[j][j] - (np.power(L[j][:j],2).sum()))\n",
    "        L[j+1:,j] = (A[j+1:,j] - (L[j+1:,:j]*L[j,:j]).sum())/L[j][j]\n",
    "    return L"
   ]
  },
  {
   "cell_type": "code",
   "execution_count": 289,
   "metadata": {},
   "outputs": [
    {
     "data": {
      "text/plain": [
       "True"
      ]
     },
     "execution_count": 289,
     "metadata": {},
     "output_type": "execute_result"
    }
   ],
   "source": [
    "A = np.array([[4,-2,2],[-2,10,-7],[2,-7,30]])\n",
    "verificaCholesky(A)"
   ]
  },
  {
   "cell_type": "code",
   "execution_count": 276,
   "metadata": {},
   "outputs": [
    {
     "data": {
      "text/plain": [
       "array([[ 2.,  0.,  0.],\n",
       "       [-1.,  3.,  0.],\n",
       "       [ 1., -2.,  5.]])"
      ]
     },
     "execution_count": 276,
     "metadata": {},
     "output_type": "execute_result"
    }
   ],
   "source": [
    "geraCholesky(A)"
   ]
  },
  {
   "cell_type": "markdown",
   "metadata": {},
   "source": [
    "No método de Cholesky, por ser uma matriz simétrica, podemos, ao invés de calcular o determinante normalmente, usar a seguinte definição:\n",
    "\n",
    "$$ det(A) = det(L)det(L') $$\n",
    "\n",
    "$$ det(A) = \\bigg(\\prod_{i=1}^{n}{l_{ii}}\\bigg)^2 $$"
   ]
  },
  {
   "cell_type": "code",
   "execution_count": 293,
   "metadata": {},
   "outputs": [],
   "source": [
    "def detCholesky(M):\n",
    "    return np.power(np.prod(M.diagonal()),2)"
   ]
  },
  {
   "cell_type": "markdown",
   "metadata": {},
   "source": [
    "#### Exercicios ####\n",
    "\n",
    "1 - Verifique se os seguintes sistemas podem ser resolvidas via Choleski\n",
    "\n",
    "2 - Compare o tempo para decomposição LU das que são possíveis com a de Choleski usando `%timeit`\n",
    "\n",
    "3 - Compare o tempo do calculo do determinante de numpy com o determinante específico para matrizes para choleski"
   ]
  },
  {
   "cell_type": "code",
   "execution_count": null,
   "metadata": {
    "collapsed": true
   },
   "outputs": [],
   "source": [
    "M3 = np.array([[9,-6,3],[-6,29,-7],[3,-7,18]])\n",
    "b3 = np.array([-3,-8,33])\n",
    "\n",
    "M4 = np.array([[4,-2,4,10],[-2,2,-1,-7],[4,-1,14,11],10,-7,11,31])\n",
    "b4 = np.array([2,2,-1,-2])\n",
    "\n",
    "M5 = np.array([[16,-4,4,12],[-4,2,-1,-7],[4,-1,26,13],[12,-7,13,25]])\n",
    "b5 = np.array([2,2,-1,-2])\n"
   ]
  }
 ],
 "metadata": {
  "kernelspec": {
   "display_name": "Python 3",
   "language": "python",
   "name": "python3"
  },
  "language_info": {
   "codemirror_mode": {
    "name": "ipython",
    "version": 3
   },
   "file_extension": ".py",
   "mimetype": "text/x-python",
   "name": "python",
   "nbconvert_exporter": "python",
   "pygments_lexer": "ipython3",
   "version": "3.7.2"
  }
 },
 "nbformat": 4,
 "nbformat_minor": 2
}
