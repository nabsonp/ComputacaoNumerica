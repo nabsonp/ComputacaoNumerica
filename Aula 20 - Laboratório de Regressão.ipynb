{
 "cells": [
  {
   "cell_type": "code",
   "execution_count": 25,
   "metadata": {},
   "outputs": [],
   "source": [
    "def resolveTS(A,b): #A Triangular Superior\n",
    "    x = np.zeros(len(A))\n",
    "    for i in range(len(A)-1,-1,-1):\n",
    "        x[i] = (b[i] - (A[i][i+1:]*x[i+1:]).sum())/A[i][i]\n",
    "    return x\n",
    "\n",
    "def resolveTI(A,b): #A Triangular Inferior\n",
    "    x = np.zeros(len(b))\n",
    "    for i in range(len(b)):\n",
    "        x[i] = (b[i] - (A[i][:i]*x[:i]).sum())/A[i][i] # x[<intervalo_fechado>:<intervalo_aberto>]\n",
    "    return x\n",
    "\n",
    "def decompoeLU(A):\n",
    "    L = np.identity(len(A))\n",
    "    U = A.copy()\n",
    "    for i in range(len(A)-1):\n",
    "        L[i+1:,i] = U[i+1:,i]/U[i][i]\n",
    "        U[i+1:] -= L[i+1:,i].reshape((len(L[i+1:]),1))*U[i]\n",
    "    return L,U \n",
    "\n",
    "def resolveLU(L,U,b):\n",
    "    y = resolveTI(L,b)\n",
    "    return resolveTS(U,y)\n",
    "\n",
    "def verificaCholesky(A):\n",
    "    return (A == A.T).all() and (A.diagonal() > 0).all() and (np.linalg.eig(A)[0] > 0).all() and verificaPivot(A)\n",
    "\n",
    "def geraCholesky(A):\n",
    "    L = np.zeros(A.shape)\n",
    "    for j in range(len(A)):\n",
    "        L[j][j] = np.sqrt(A[j][j] - (np.power(L[j][:j],2).sum()))\n",
    "        for i in range(len(A)):\n",
    "            L[i,j] = (A[i,j]- (L[i,:j]*L[j,:j]).sum())/L[j,j]\n",
    "    j = len(A)-1\n",
    "    L[j,j] = np.sqrt(A[j,j]-(L[j][:j]**2).sum())\n",
    "    return L\n",
    "\n",
    "def cholesky(A,b):\n",
    "    L = geraCholesky(A)\n",
    "    return resolveLU(L,L.T,b)"
   ]
  },
  {
   "cell_type": "markdown",
   "metadata": {},
   "source": [
    "# Regressao em Python #\n",
    "\n",
    "Vamos agora implementar a Regressão Linear para usarmos com esses dados.\n",
    "\n",
    "Para resolver a regressão, basta montar o sistema linear correspondente aos dados de entrada:\n",
    "\n",
    "$$\n",
    "\\begin{bmatrix}\n",
    "n & \\sum\\limits _ { i = 1 } ^ { n } x _ { i 1 } & \\sum\\limits _ { i = 1 } ^ { n } x _ { i 2 } & \\dots & \\sum\\limits _ { i = 1 } ^ { n } x _ { i p }\\\\\n",
    "\\sum\\limits _ { i = 1 } ^ { n } x _ { i 1 } & \\sum\\limits _ { i = 1 } ^ { n } x _ { i 1 }x _ { i 1 } & \\sum\\limits _ { i = 1 } ^ { n } x _ { i 2 }x _ { i 1 } & \\dots & \\sum\\limits _ { i = 1 } ^ { n } x _ { i p }x _ { i 1 }\\\\\n",
    "\\sum\\limits _ { i = 1 } ^ { n } x _ { i 2 } & \\sum\\limits _ { i = 1 } ^ { n } x _ { i 1 }x _ { i 2 } & \\sum\\limits _ { i = 1 } ^ { n } x _ { i 2 }x _ { i 2 } & \\dots & \\sum\\limits _ { i = 1 } ^ { n } x _ { i p }x _ { i 2 }\\\\\n",
    "\\vdots & \\vdots & \\vdots & \\vdots & \\vdots \\\\\n",
    "\\sum\\limits _ { i = 1 } ^ { n } x _ { i p } & \\sum\\limits _ { i = 1 } ^ { n } x _ { i 1 }x _ { i p } & \\sum\\limits _ { i = 1 } ^ { n } x _ { i 2 }x _ { i p } & \\dots & \\sum\\limits _ { i = 1 } ^ { n } x _ { i p }x _ { i p }\\\\\n",
    "\\end{bmatrix}\n",
    "\\begin{bmatrix}\n",
    "b_0\\\\\n",
    "b_1\\\\\n",
    "b_2\\\\\n",
    "\\vdots\\\\\n",
    "b_p\\\\\n",
    "\\end{bmatrix}\n",
    "=\n",
    "\\begin{bmatrix}\n",
    "\\sum\\limits _ { i = 1 } ^ { n } y _ { i 1 }\\\\\n",
    "\\sum\\limits _ { i = 1 } ^ { n } y_i x _ { i 1 }\\\\\n",
    "\\sum\\limits _ { i = 1 } ^ { n } y_i x _ { i 2 }\\\\\n",
    "\\vdots\\\\\n",
    "\\sum\\limits _ { i = 1 } ^ { n } y_i x _ { i p }\n",
    "\\end{bmatrix}\n",
    "$$"
   ]
  },
  {
   "cell_type": "markdown",
   "metadata": {},
   "source": [
    "O que isto quer dizer? Quer dizer que, para fazer uma regressão, basta você passar uma Matriz X contendo as variáveis independentes e um vetor Y com a variável dependente, gerar este sistema e resolvê-lo.\n",
    "\n",
    "Faça uma função que retorna os coeficientes `b` de uma regressão com os elementos da matriz X:"
   ]
  },
  {
   "cell_type": "markdown",
   "metadata": {},
   "source": [
    "## Regressão Linear Simples ##\n",
    " $$\n",
    "\\begin{bmatrix}\n",
    "n & \\sum\\limits _ { i = 1 } ^ { n } x _ { i }\\\\\n",
    "\\sum\\limits _ { i = 1 } ^ { n } x _ { i } & \\sum\\limits _ { i = 1 } ^ { n } x _ { i }^{2} \n",
    "\\end{bmatrix}\n",
    "\\begin{bmatrix}\n",
    "b_0\\\\\n",
    "b_1\\\\\n",
    "\\end{bmatrix}\n",
    "=\n",
    "\\begin{bmatrix}\n",
    "\\sum\\limits _ { i = 1 } ^ { n } y _ { i }\\\\\n",
    "\\sum\\limits _ { i = 1 } ^ { n } y_i x _ { i }\\\\\n",
    "\\end{bmatrix}\n",
    "$$"
   ]
  },
  {
   "cell_type": "markdown",
   "metadata": {},
   "source": [
    "## Regressão Linear Múltipla com 2 variáveis ##\n",
    "$$\n",
    "M = \n",
    "\\begin{bmatrix}\n",
    "1 & x_{1 1} & x_{2 1}\\\\\n",
    "1 & x_{1 2} & x_{2 2} \\\\\n",
    "1 & x_{1 3} & x_{2 3} \\\\\n",
    "\\end{bmatrix}\n",
    "$$\n",
    "Matrizona = M.T*M \n",
    "\n",
    "Y = M.T*x"
   ]
  },
  {
   "cell_type": "code",
   "execution_count": 37,
   "metadata": {},
   "outputs": [],
   "source": [
    "import numpy as np\n",
    "import pandas as pd\n",
    "from pandas import Series, DataFrame\n",
    "import matplotlib as mpl\n",
    "import matplotlib.pyplot as plt\n",
    "%matplotlib inline"
   ]
  },
  {
   "cell_type": "code",
   "execution_count": 96,
   "metadata": {
    "scrolled": false
   },
   "outputs": [
    {
     "data": {
      "text/plain": [
       "array([-0.16144717,  0.11823669,  0.0265015 ])"
      ]
     },
     "execution_count": 96,
     "metadata": {},
     "output_type": "execute_result"
    }
   ],
   "source": [
    "def regressaoLinear(x,y):\n",
    "    A = np.zeros((2,2))\n",
    "    b = np.zeros(2)\n",
    "    A[0,0] = len(x)\n",
    "    A[0,1] = A[1,0] = x.sum()\n",
    "    A[1,1] = (x*x).sum()\n",
    "    b[0] = y.sum()\n",
    "    b[1] = (x*y).sum()\n",
    "    return cholesky(A,b) # np.linalg.solve(A,b) - Eliminação Gaussiana no Numpy\n",
    "\n",
    "def regressaoLinearMultipla(x,y): #x é uma matriz ao invés de vetor\n",
    "    xs = np.vstack((np.ones(len(x[0])),x))\n",
    "    ys = xs.dot(y)\n",
    "    xs = xs.dot(xs.T)\n",
    "    return cholesky(xs,ys)\n",
    "\n",
    "def resolveLin(b,x):\n",
    "    return b[0] + (b[1:]*x).sum()\n",
    "\n",
    "x = np.linspace(0,1,11)\n",
    "y = np.sqrt(x)\n",
    "\n",
    "# b = regressaoLinear(np.array(x),y)\n",
    "#print(resolveLin(b,[6]))\n",
    "\n",
    "#b = regressaoLinear(np.array([4,4.5,5,5.5,6,6.5,7]),np.array([33,42,45,51,53,61,62]))\n",
    "\n",
    "b = regressaoLinearMultipla(np.array([[14,16,27,42,39,50,83],[70,75,144,190,210,235,400]]),np.array([2,5,7,9,10,13,20]))\n",
    "b"
   ]
  },
  {
   "cell_type": "code",
   "execution_count": 72,
   "metadata": {},
   "outputs": [
    {
     "data": {
      "text/plain": [
       "array([[ 14,  16,  27,  42,  39,  50,  83],\n",
       "       [ 70,  75, 144, 190, 210, 235, 400]])"
      ]
     },
     "execution_count": 72,
     "metadata": {},
     "output_type": "execute_result"
    }
   ],
   "source": [
    "np.array([[14,16,27,42,39,50,83],[70,75,144,190,210,235,400]])"
   ]
  },
  {
   "cell_type": "code",
   "execution_count": 62,
   "metadata": {},
   "outputs": [
    {
     "data": {
      "image/png": "[encoded data removed]",
      "text/plain": [
       "<Figure size 432x288 with 1 Axes>"
      ]
     },
     "metadata": {},
     "output_type": "display_data"
    }
   ],
   "source": [
    "plt.scatter(x,y,label=\"$f(x) = x^{1/2}$\")\n",
    "plt.plot(x,resolveLin(b,x),'r',label='y = '+ str(round(b[1],2))+\"x + \"+str(round(b[0],2)))\n",
    "plt.legend()\n",
    "plt.title(\"Regressão Linear Simples\")\n",
    "plt.show()"
   ]
  },
  {
   "cell_type": "markdown",
   "metadata": {},
   "source": [
    "Agora vamos testar seu método: Faça uma regressão entre nota dos críticos e vendas na América do Norte, considerando apenas os jogos que possuem ambas informações:"
   ]
  },
  {
   "cell_type": "code",
   "execution_count": 28,
   "metadata": {
    "scrolled": true
   },
   "outputs": [],
   "source": [
    "vg = pd.read_csv('Video_Games_Sales_as_at_22_Dec_2016.csv')"
   ]
  },
  {
   "cell_type": "markdown",
   "metadata": {},
   "source": [
    "E se você quiser fazer uma regressão quadratica?"
   ]
  },
  {
   "cell_type": "code",
   "execution_count": 114,
   "metadata": {},
   "outputs": [
    {
     "name": "stdout",
     "output_type": "stream",
     "text": [
      "b = [ 1.83718575e+00 -6.76380404e-02  6.42449707e-04]\n"
     ]
    },
    {
     "data": {
      "text/plain": [
       "1.3086793940388026"
      ]
     },
     "execution_count": 114,
     "metadata": {},
     "output_type": "execute_result"
    },
    {
     "data": {
      "image/png": "[encoded data removed]",
      "text/plain": [
       "<Figure size 432x288 with 1 Axes>"
      ]
     },
     "metadata": {},
     "output_type": "display_data"
    }
   ],
   "source": [
    "x = vg[(vg.Critic_Score.notnull()) & vg.NA_Sales.notnull()].Critic_Score\n",
    "y = vg[(vg.Critic_Score.notnull()) & vg.NA_Sales.notnull()].NA_Sales\n",
    "# x = np.sort(x)\n",
    "# y = np.sort(y)\n",
    "plt.scatter(x,y)\n",
    "\n",
    "#Aqui voce pode escolher transpor ou nao, o importante eh ficar de acordo com seu codigo acima\n",
    "x = np.array([x,x*x])\n",
    "\n",
    "b = regressaoLinearMultipla(x,y)\n",
    "print(\"b =\",b)\n",
    "\n",
    "resolveLin(b,np.array([8.5,8.5*8.5]))"
   ]
  },
  {
   "cell_type": "markdown",
   "metadata": {},
   "source": [
    "E se eu quiser fazer uma regressão múltipla com nota dos criticos e dos usuários para prever as vendas globais?"
   ]
  },
  {
   "cell_type": "code",
   "execution_count": 92,
   "metadata": {},
   "outputs": [
    {
     "ename": "ValueError",
     "evalue": "Length of passed values is 1, index implies 7017",
     "output_type": "error",
     "traceback": [
      "\u001b[0;31m---------------------------------------------------------------------------\u001b[0m",
      "\u001b[0;31mValueError\u001b[0m                                Traceback (most recent call last)",
      "\u001b[0;32m<ipython-input-92-684a6ecc165d>\u001b[0m in \u001b[0;36m<module>\u001b[0;34m()\u001b[0m\n\u001b[1;32m      3\u001b[0m \u001b[0my\u001b[0m \u001b[0;34m=\u001b[0m \u001b[0mvg\u001b[0m\u001b[0;34m[\u001b[0m\u001b[0;34m(\u001b[0m\u001b[0mvg\u001b[0m\u001b[0;34m.\u001b[0m\u001b[0mCritic_Score\u001b[0m\u001b[0;34m.\u001b[0m\u001b[0mnotnull\u001b[0m\u001b[0;34m(\u001b[0m\u001b[0;34m)\u001b[0m\u001b[0;34m)\u001b[0m \u001b[0;34m&\u001b[0m \u001b[0;34m(\u001b[0m\u001b[0mvg\u001b[0m\u001b[0;34m.\u001b[0m\u001b[0mUser_Score\u001b[0m\u001b[0;34m.\u001b[0m\u001b[0mnotnull\u001b[0m\u001b[0;34m(\u001b[0m\u001b[0;34m)\u001b[0m\u001b[0;34m)\u001b[0m \u001b[0;34m&\u001b[0m \u001b[0mvg\u001b[0m\u001b[0;34m.\u001b[0m\u001b[0mGlobal_Sales\u001b[0m\u001b[0;34m.\u001b[0m\u001b[0mnotnull\u001b[0m\u001b[0;34m(\u001b[0m\u001b[0;34m)\u001b[0m\u001b[0;34m]\u001b[0m\u001b[0;34m.\u001b[0m\u001b[0mGlobal_Sales\u001b[0m\u001b[0;34m\u001b[0m\u001b[0m\n\u001b[1;32m      4\u001b[0m \u001b[0;34m\u001b[0m\u001b[0m\n\u001b[0;32m----> 5\u001b[0;31m \u001b[0mb\u001b[0m \u001b[0;34m=\u001b[0m \u001b[0mregressaoLinear\u001b[0m\u001b[0;34m(\u001b[0m\u001b[0mnp\u001b[0m\u001b[0;34m.\u001b[0m\u001b[0marray\u001b[0m\u001b[0;34m(\u001b[0m\u001b[0;34m[\u001b[0m\u001b[0mx\u001b[0m\u001b[0;34m]\u001b[0m\u001b[0;34m)\u001b[0m\u001b[0;34m,\u001b[0m\u001b[0my\u001b[0m\u001b[0;34m)\u001b[0m\u001b[0;34m\u001b[0m\u001b[0m\n\u001b[0m\u001b[1;32m      6\u001b[0m \u001b[0;34m\u001b[0m\u001b[0m\n\u001b[1;32m      7\u001b[0m \u001b[0mprint\u001b[0m\u001b[0;34m(\u001b[0m\u001b[0mb\u001b[0m\u001b[0;34m)\u001b[0m\u001b[0;34m\u001b[0m\u001b[0m\n",
      "\u001b[0;32m<ipython-input-85-97f7a0ad412e>\u001b[0m in \u001b[0;36mregressaoLinear\u001b[0;34m(x, y)\u001b[0m\n\u001b[1;32m      6\u001b[0m     \u001b[0mA\u001b[0m\u001b[0;34m[\u001b[0m\u001b[0;36m1\u001b[0m\u001b[0;34m,\u001b[0m\u001b[0;36m1\u001b[0m\u001b[0;34m]\u001b[0m \u001b[0;34m=\u001b[0m \u001b[0;34m(\u001b[0m\u001b[0mx\u001b[0m\u001b[0;34m*\u001b[0m\u001b[0mx\u001b[0m\u001b[0;34m)\u001b[0m\u001b[0;34m.\u001b[0m\u001b[0msum\u001b[0m\u001b[0;34m(\u001b[0m\u001b[0;34m)\u001b[0m\u001b[0;34m\u001b[0m\u001b[0m\n\u001b[1;32m      7\u001b[0m     \u001b[0mb\u001b[0m\u001b[0;34m[\u001b[0m\u001b[0;36m0\u001b[0m\u001b[0;34m]\u001b[0m \u001b[0;34m=\u001b[0m \u001b[0my\u001b[0m\u001b[0;34m.\u001b[0m\u001b[0msum\u001b[0m\u001b[0;34m(\u001b[0m\u001b[0;34m)\u001b[0m\u001b[0;34m\u001b[0m\u001b[0m\n\u001b[0;32m----> 8\u001b[0;31m     \u001b[0mb\u001b[0m\u001b[0;34m[\u001b[0m\u001b[0;36m1\u001b[0m\u001b[0;34m]\u001b[0m \u001b[0;34m=\u001b[0m \u001b[0;34m(\u001b[0m\u001b[0mx\u001b[0m\u001b[0;34m*\u001b[0m\u001b[0my\u001b[0m\u001b[0;34m)\u001b[0m\u001b[0;34m.\u001b[0m\u001b[0msum\u001b[0m\u001b[0;34m(\u001b[0m\u001b[0;34m)\u001b[0m\u001b[0;34m\u001b[0m\u001b[0m\n\u001b[0m\u001b[1;32m      9\u001b[0m     \u001b[0;32mreturn\u001b[0m \u001b[0mcholesky\u001b[0m\u001b[0;34m(\u001b[0m\u001b[0mA\u001b[0m\u001b[0;34m,\u001b[0m\u001b[0mb\u001b[0m\u001b[0;34m)\u001b[0m \u001b[0;31m# np.linalg.solve(A,b) - Eliminação Gaussiana no Numpy\u001b[0m\u001b[0;34m\u001b[0m\u001b[0m\n\u001b[1;32m     10\u001b[0m \u001b[0;34m\u001b[0m\u001b[0m\n",
      "\u001b[0;32m~/.local/lib/python3.6/site-packages/pandas/core/ops.py\u001b[0m in \u001b[0;36mwrapper\u001b[0;34m(left, right)\u001b[0m\n\u001b[1;32m   1069\u001b[0m         \u001b[0mresult\u001b[0m \u001b[0;34m=\u001b[0m \u001b[0msafe_na_op\u001b[0m\u001b[0;34m(\u001b[0m\u001b[0mlvalues\u001b[0m\u001b[0;34m,\u001b[0m \u001b[0mrvalues\u001b[0m\u001b[0;34m)\u001b[0m\u001b[0;34m\u001b[0m\u001b[0m\n\u001b[1;32m   1070\u001b[0m         return construct_result(left, result,\n\u001b[0;32m-> 1071\u001b[0;31m                                 index=left.index, name=res_name, dtype=None)\n\u001b[0m\u001b[1;32m   1072\u001b[0m \u001b[0;34m\u001b[0m\u001b[0m\n\u001b[1;32m   1073\u001b[0m     \u001b[0;32mreturn\u001b[0m \u001b[0mwrapper\u001b[0m\u001b[0;34m\u001b[0m\u001b[0m\n",
      "\u001b[0;32m~/.local/lib/python3.6/site-packages/pandas/core/ops.py\u001b[0m in \u001b[0;36m_construct_result\u001b[0;34m(left, result, index, name, dtype)\u001b[0m\n\u001b[1;32m    978\u001b[0m     \u001b[0;32mnot\u001b[0m \u001b[0mbe\u001b[0m \u001b[0menough\u001b[0m\u001b[0;34m;\u001b[0m \u001b[0mwe\u001b[0m \u001b[0mstill\u001b[0m \u001b[0mneed\u001b[0m \u001b[0mto\u001b[0m \u001b[0moverride\u001b[0m \u001b[0mthe\u001b[0m \u001b[0mname\u001b[0m \u001b[0mattribute\u001b[0m\u001b[0;34m.\u001b[0m\u001b[0;34m\u001b[0m\u001b[0m\n\u001b[1;32m    979\u001b[0m     \"\"\"\n\u001b[0;32m--> 980\u001b[0;31m     \u001b[0mout\u001b[0m \u001b[0;34m=\u001b[0m \u001b[0mleft\u001b[0m\u001b[0;34m.\u001b[0m\u001b[0m_constructor\u001b[0m\u001b[0;34m(\u001b[0m\u001b[0mresult\u001b[0m\u001b[0;34m,\u001b[0m \u001b[0mindex\u001b[0m\u001b[0;34m=\u001b[0m\u001b[0mindex\u001b[0m\u001b[0;34m,\u001b[0m \u001b[0mdtype\u001b[0m\u001b[0;34m=\u001b[0m\u001b[0mdtype\u001b[0m\u001b[0;34m)\u001b[0m\u001b[0;34m\u001b[0m\u001b[0m\n\u001b[0m\u001b[1;32m    981\u001b[0m \u001b[0;34m\u001b[0m\u001b[0m\n\u001b[1;32m    982\u001b[0m     \u001b[0mout\u001b[0m\u001b[0;34m.\u001b[0m\u001b[0mname\u001b[0m \u001b[0;34m=\u001b[0m \u001b[0mname\u001b[0m\u001b[0;34m\u001b[0m\u001b[0m\n",
      "\u001b[0;32m~/.local/lib/python3.6/site-packages/pandas/core/series.py\u001b[0m in \u001b[0;36m__init__\u001b[0;34m(self, data, index, dtype, name, copy, fastpath)\u001b[0m\n\u001b[1;32m    260\u001b[0m                             \u001b[0;34m'Length of passed values is {val}, '\u001b[0m\u001b[0;34m\u001b[0m\u001b[0m\n\u001b[1;32m    261\u001b[0m                             \u001b[0;34m'index implies {ind}'\u001b[0m\u001b[0;34m\u001b[0m\u001b[0m\n\u001b[0;32m--> 262\u001b[0;31m                             .format(val=len(data), ind=len(index)))\n\u001b[0m\u001b[1;32m    263\u001b[0m                 \u001b[0;32mexcept\u001b[0m \u001b[0mTypeError\u001b[0m\u001b[0;34m:\u001b[0m\u001b[0;34m\u001b[0m\u001b[0m\n\u001b[1;32m    264\u001b[0m                     \u001b[0;32mpass\u001b[0m\u001b[0;34m\u001b[0m\u001b[0m\n",
      "\u001b[0;31mValueError\u001b[0m: Length of passed values is 1, index implies 7017"
     ]
    }
   ],
   "source": [
    "x = vg[(vg.Critic_Score.notnull()) & (vg.User_Score.notnull()) &vg.Global_Sales.notnull()].Critic_Score\n",
    "#x2 = vg[(vg.Critic_Score.notnull()) & (vg.User_Score.notnull())& vg.Global_Sales.notnull()].User_Score\n",
    "y = vg[(vg.Critic_Score.notnull()) & (vg.User_Score.notnull()) & vg.Global_Sales.notnull()].Global_Sales\n",
    "\n",
    "b = regressaoLinear(np.array([x]),y)\n",
    "\n",
    "print(b)\n"
   ]
  },
  {
   "cell_type": "markdown",
   "metadata": {},
   "source": [
    "## Qualidade da Regressão ##\n",
    "\n",
    "OK, fizemos alguns modelos, mas como podemos saber a qualidade da regressão? Usando a fórmula do $R^2$:\n",
    "\n",
    "$$\n",
    "R^2 = 1 - \\frac{D(b)}{\\sum y_{i}^2 - \\frac{1}{n}(\\sum y_i)^2}\n",
    "$$\n",
    "\n",
    "Onde $D(b)$ é a distância quadrática dos y previstos pela regressão para os $y$ reais.\n",
    "\n",
    "Implemente a função que computa $R^2$:"
   ]
  },
  {
   "cell_type": "code",
   "execution_count": null,
   "metadata": {
    "collapsed": true
   },
   "outputs": [],
   "source": [
    "def resolveLinVet(b,x):\n",
    "    return vetval\n",
    "      \n",
    "def distanciaquad(b,x,y):\n",
    "    return d\n",
    "    \n",
    "def r2(b,x,y):\n",
    "    return r2"
   ]
  },
  {
   "cell_type": "code",
   "execution_count": null,
   "metadata": {
    "collapsed": true
   },
   "outputs": [],
   "source": [
    "xp = np.array([1.2,2.5,3.,4.1,6.2,7.1,8.8,9.5])\n",
    "yp = np.array([6.8,6.1,9.9,9.7,12.1,17.9,18,21.5])\n",
    "b = regressaoLinear(xp,yp)\n",
    "r2(b,xp,yp)"
   ]
  },
  {
   "cell_type": "markdown",
   "metadata": {},
   "source": [
    "## Diferentes recortes dos dados ##\n",
    "\n",
    "Muitas vezes, temos __informação demais__ para os métodos de regressão encontrarem uma correlação boa. Por isto, é muito comum neste tipo de aplicação, fazer a regressão com subconjuntos dos dados.\n",
    "\n",
    "Por exemplo: Ao se tentar prever as vendas globais, focar em um período de tempo específico ou em apenas uma ou poucas plataformas pode gerar modelos de predição mais precisos.\n",
    "\n",
    "Exemplo:\n",
    "\n",
    "\n",
    "Vamos inicialmente fazer uma predição das vendas globais baseada na nota dos críticos:"
   ]
  },
  {
   "cell_type": "code",
   "execution_count": null,
   "metadata": {},
   "outputs": [],
   "source": [
    "vglimpo=vg[(vg.Critic_Score.notnull()) & (vg.Global_Sales.notnull())]\n",
    "xg = vglimpo.Critic_Score\n",
    "yg = vglimpo.Global_Sales\n",
    "plt.yscale('log')\n",
    "plt.scatter(xg,yg)"
   ]
  },
  {
   "cell_type": "code",
   "execution_count": null,
   "metadata": {},
   "outputs": [],
   "source": [
    "b = regressaoLinear(np.array(xg),yg)\n",
    "\n",
    "r2(b,x,y)"
   ]
  },
  {
   "cell_type": "markdown",
   "metadata": {},
   "source": [
    "Será que dá para melhorar? Vamos tentar focar apenas nos consoles da sétima geração (PS3, Xbox360, Wii):"
   ]
  },
  {
   "cell_type": "code",
   "execution_count": null,
   "metadata": {
    "collapsed": true
   },
   "outputs": [],
   "source": [
    "x = vglimpo[(vglimpo.Platform.isin(['PS3','XBOX360','Wii']))].Critic_Score\n",
    "y = vglimpo[(vglimpo.Platform.isin(['PS3','XBOX360','Wii']))].Global_Sales\n",
    "#plt.yscale('log')\n",
    "plt.scatter(x,y)"
   ]
  },
  {
   "cell_type": "markdown",
   "metadata": {},
   "source": [
    "Faça um teste comparando o nivel da regressao acima com uma regressão contendo todos os jogos de 2000 a 2005"
   ]
  },
  {
   "cell_type": "code",
   "execution_count": null,
   "metadata": {
    "collapsed": true
   },
   "outputs": [],
   "source": []
  },
  {
   "cell_type": "markdown",
   "metadata": {},
   "source": [
    "## Agrupando ##\n",
    "\n",
    "Você pode usar o comando groupby para gerar novas bases de dados modificadas. Por exemplo, você pode tentar prever as vendas totais de plataformas ao invés de jogos individuais. Contudo, para você utilizar os dados agrupados, você deve usar uma função de agregação (sum,count, min,max, mean, etc).\n",
    "\n",
    "### Exemplo ###\n",
    "\n",
    "Criando um agrupamento por plataforma"
   ]
  },
  {
   "cell_type": "code",
   "execution_count": null,
   "metadata": {
    "collapsed": true
   },
   "outputs": [],
   "source": [
    "vgplat = vg.groupby(['Platform'])\n",
    "vgplat.Global_Sales.sum()"
   ]
  },
  {
   "cell_type": "markdown",
   "metadata": {},
   "source": [
    "Fazendo uma regressão para descobrir total de vendas de um console pelo total de jogos lançados para ele:"
   ]
  },
  {
   "cell_type": "code",
   "execution_count": null,
   "metadata": {
    "collapsed": true
   },
   "outputs": [],
   "source": [
    "x = vgplat.Name.count()\n",
    "y = vgplat.Global_Sales.sum()\n",
    "plt.scatter(x,y)"
   ]
  },
  {
   "cell_type": "code",
   "execution_count": null,
   "metadata": {
    "collapsed": true
   },
   "outputs": [],
   "source": [
    "#Total de anos que um console teve jogos\n",
    "\n",
    "anos = vgplat.Year_of_Release.max() - vgplat.Year_of_Release.min()\n",
    "anos.plot(kind='bar')"
   ]
  },
  {
   "cell_type": "markdown",
   "metadata": {},
   "source": [
    "Vocês poderiam usar a informação de ano para ponderar alguma outra informação usada na regressão por exemplo. Contudo, tem algo estranho né? O Nintendo DS está com 35 anos de jogos lançados. Vocês conseguem descobrir o porquê?"
   ]
  },
  {
   "cell_type": "code",
   "execution_count": null,
   "metadata": {},
   "outputs": [],
   "source": []
  },
  {
   "cell_type": "code",
   "execution_count": null,
   "metadata": {
    "collapsed": true
   },
   "outputs": [],
   "source": []
  },
  {
   "cell_type": "code",
   "execution_count": null,
   "metadata": {},
   "outputs": [],
   "source": []
  },
  {
   "cell_type": "code",
   "execution_count": null,
   "metadata": {
    "collapsed": true
   },
   "outputs": [],
   "source": []
  },
  {
   "cell_type": "code",
   "execution_count": null,
   "metadata": {
    "collapsed": true
   },
   "outputs": [],
   "source": []
  }
 ],
 "metadata": {
  "kernelspec": {
   "display_name": "Python 3",
   "language": "python",
   "name": "python3"
  },
  "language_info": {
   "codemirror_mode": {
    "name": "ipython",
    "version": 3
   },
   "file_extension": ".py",
   "mimetype": "text/x-python",
   "name": "python",
   "nbconvert_exporter": "python",
   "pygments_lexer": "ipython3",
   "version": "3.6.5"
  }
 },
 "nbformat": 4,
 "nbformat_minor": 2
}
