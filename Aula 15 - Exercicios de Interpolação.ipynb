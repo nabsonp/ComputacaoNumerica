{
 "cells": [
  {
   "cell_type": "markdown",
   "metadata": {},
   "source": [
    "# Exercicios de Interpolação\n",
    "## Nabson Paiva Souza da Silva"
   ]
  },
  {
   "cell_type": "markdown",
   "metadata": {},
   "source": [
    "### Funções necessárias"
   ]
  },
  {
   "cell_type": "code",
   "execution_count": 126,
   "metadata": {},
   "outputs": [],
   "source": [
    "import numpy as np\n",
    "import matplotlib.pyplot as plt"
   ]
  },
  {
   "cell_type": "code",
   "execution_count": 35,
   "metadata": {},
   "outputs": [],
   "source": [
    "def resolvePoli(c,x):\n",
    "    return np.array(([x**i*c[len(c)-1-i] for i in range(len(c))])).sum(axis=0)"
   ]
  },
  {
   "cell_type": "code",
   "execution_count": 36,
   "metadata": {},
   "outputs": [],
   "source": [
    "def escolheIntervalo(x,y,xalvo,n):\n",
    "    d = np.abs(xalvo - x)\n",
    "    vx = np.copy(x)\n",
    "    vy = np.copy(y)\n",
    "    for i in range(len(x)-n):\n",
    "        m = np.argmax(d)\n",
    "        vx = np.delete(vx,m)\n",
    "        vy = np.delete(vy,m)\n",
    "        d = np.delete(d,m)\n",
    "    return vx,vy"
   ]
  },
  {
   "cell_type": "code",
   "execution_count": 37,
   "metadata": {},
   "outputs": [],
   "source": [
    "def resolveTS(A,b): #A Triangular Superior\n",
    "    x = np.zeros(len(A))\n",
    "    for i in range(len(A)-1,-1,-1):\n",
    "        x[i] = (b[i] - (A[i][i+1:]*x[i+1:]).sum())/A[i][i]\n",
    "    return x\n",
    "\n",
    "def eliminacaoGaussianaSimples(A0,b):\n",
    "    M = np.zeros(A0.shape)\n",
    "    A = np.concatenate((A0,b.reshape(len(b),1)),axis=1)\n",
    "    for i in range(len(A)-1):\n",
    "        A[i+1:] -= (A[i+1:,i]/A[i][i]).reshape((len(M[i+1:]),1))*A[i]\n",
    "    return resolveTS(A[:,:len(b)],A[:,len(b)])"
   ]
  },
  {
   "cell_type": "code",
   "execution_count": 188,
   "metadata": {},
   "outputs": [],
   "source": [
    "def interpoli(x,y):\n",
    "    t = len(x)\n",
    "    A = np.zeros((t,t))\n",
    "    A[:,t-1] = 1\n",
    "    A[:,t-2] = x\n",
    "    for i in range(t-2):\n",
    "        A[:,i] = x**(t-i-1)\n",
    "    return eliminacaoGaussianaSimples(A,y)"
   ]
  },
  {
   "cell_type": "code",
   "execution_count": 61,
   "metadata": {},
   "outputs": [],
   "source": [
    "def lagranged(x,y,xalvo):\n",
    "    t = len(x)\n",
    "    yalvo = 0\n",
    "    for i in range(t):\n",
    "        n = d = 1\n",
    "        for j in range(t):\n",
    "            if i != j:\n",
    "                n *= (xalvo-x[j])\n",
    "                d *= (x[i]-x[j])\n",
    "        yalvo += y[i]*(n/d)\n",
    "    return yalvo"
   ]
  },
  {
   "cell_type": "markdown",
   "metadata": {},
   "source": [
    "### Exercicio 1 ###\n",
    "\n",
    "Nos dados abaixo está o número de habitantes de manaus entre 1950 e 2000, como em sala de aula\n",
    "\n",
    "Compute:\n",
    "    - Com 3 pontos o número de habitantes de Manaus em 1958 e 1988.\n",
    "    - Com 4 pontos o número de habitantes em 1958 e 1988.\n",
    "    \n",
    "Qual foi a diferença entre os dois resultados?"
   ]
  },
  {
   "cell_type": "code",
   "execution_count": 1,
   "metadata": {},
   "outputs": [],
   "source": [
    "ano = np.array([1950,1960,1970,1980,1991,2000])\n",
    "populacao = np.array([139620,173706,311622,633392,1011500,1403796])"
   ]
  },
  {
   "cell_type": "code",
   "execution_count": 49,
   "metadata": {
    "scrolled": true
   },
   "outputs": [
    {
     "name": "stdout",
     "output_type": "stream",
     "text": [
      "-> Número de habitantes de 1958:\n",
      "\tCom 3 pontos: 158582.0\n",
      "\tCom 4 pontos: 114566982104.0\n",
      "\t- Diferença: 114566823522.0\n",
      "-> Número de habitantes de 1958:\n",
      "\tCom 3 pontos: 897322.0\n",
      "\tCom 4 pontos: 101979579504.0\n",
      "\t- Diferença: 101978682182.0\n"
     ]
    }
   ],
   "source": [
    "print(\"-> Número de habitantes de 1958:\")\n",
    "x, y = escolheIntervalo(ano,populacao,1958,3)\n",
    "p0 = round(resolvePoli(interpoli(x,y),1958))\n",
    "print(\"\\tCom 3 pontos:\",p0)\n",
    "x, y = escolheIntervalo(ano,populacao,1958,4)\n",
    "p = round(resolvePoli(interpoli(x,y),1958))\n",
    "print(\"\\tCom 4 pontos:\",p)\n",
    "print(\"\\t- Diferença:\",p-p0)\n",
    "\n",
    "print(\"-> Número de habitantes de 1958:\")\n",
    "x, y = escolheIntervalo(ano,populacao,1988,3)\n",
    "p0 = round(resolvePoli(interpoli(x,y),1988))\n",
    "print(\"\\tCom 3 pontos:\",p0)\n",
    "x, y = escolheIntervalo(ano,populacao,1988,4)\n",
    "p = round(resolvePoli(interpoli(x,y),1988))\n",
    "print(\"\\tCom 4 pontos:\",p)\n",
    "print(\"\\t- Diferença:\",p-p0)"
   ]
  },
  {
   "cell_type": "markdown",
   "metadata": {
    "collapsed": true
   },
   "source": [
    "### Exercicio 2\n",
    "\n",
    "Dada a função $f(x)=10x^{4}+2x+1$, determine a interpolação de dois pontos $P_2(0.15)$ e $P_2(0.25)$ usando para interpolar os pontos f(0,1), f(0,2) e f(0.3).\n",
    "\n",
    "- Pelo método de interpolação polinomial\n",
    "- Pelo Polinômio de Lagrange\n"
   ]
  },
  {
   "cell_type": "code",
   "execution_count": 50,
   "metadata": {},
   "outputs": [],
   "source": [
    "def f(x):\n",
    "    return 10*x**4 + 2*x + 1\n",
    "\n",
    "x = np.array([0.1,0.2,0.3])\n",
    "y = f(x)"
   ]
  },
  {
   "cell_type": "code",
   "execution_count": 143,
   "metadata": {},
   "outputs": [
    {
     "name": "stdout",
     "output_type": "stream",
     "text": [
      "-> Interpolação Polinomial\n",
      "\tf(0.15) = 1.4494995035061888\n",
      "\tf(0.25) = 1.7473428985134454\n",
      "\n",
      "-> Interpolação por Lagrange\n",
      "\tf(0.15) = 1.449499503506189\n",
      "\tf(0.25) = 1.7473428985134447\n"
     ]
    }
   ],
   "source": [
    "print(\"-> Interpolação Polinomial\")\n",
    "x1, y1 = escolheIntervalo(x,y,0.15,3)\n",
    "pi1 = resolvePoli(interpoli(x1,y1),0.15)\n",
    "print(\"\\tf(0.15) =\",pi1)\n",
    "\n",
    "x2, y2 = escolheIntervalo(x,y,0.25,3)\n",
    "pi2 = resolvePoli(interpoli(x2,y2),0.25)\n",
    "print(\"\\tf(0.25) =\",pi2)\n",
    "\n",
    "\n",
    "print(\"\\n-> Interpolação por Lagrange\")\n",
    "l1 = lagranged(x1,y1,0.15)\n",
    "print(\"\\tf(0.15) =\",l1)\n",
    "\n",
    "l2 = lagranged(x2,y2,0.25)\n",
    "print(\"\\tf(0.25) =\",l2)"
   ]
  },
  {
   "cell_type": "markdown",
   "metadata": {},
   "source": [
    "Qual o erro absoluto e relativo de cada método? Quanto tempo cada um leva para calcular os dois pontos?"
   ]
  },
  {
   "cell_type": "code",
   "execution_count": 144,
   "metadata": {},
   "outputs": [
    {
     "name": "stdout",
     "output_type": "stream",
     "text": [
      "-> Erros para Interpolação Polinomial\n",
      "\tf(0.15):\n",
      "\t\tAbsoluto = 6.137103258962995e-05\n",
      "\t\tRelativo = 4.2341257080696954e-05\n",
      "\t\tTempo: 133 µs ± 53.7 µs per loop (mean ± std. dev. of 7 runs, 1 loop each)\n",
      "\tf(0.25):\n",
      "\t\tAbsoluto = 6.106074107758985e-05\n",
      "\t\tRelativo = 4.212717998068955e-05\n",
      "\t\tTempo: 129 µs ± 62.7 µs per loop (mean ± std. dev. of 7 runs, 1 loop each)\n",
      "\n",
      "-> Erros para Polinômio de Lagranje\n",
      "\tf(0.15):\n",
      "\t\tAbsoluto = 6.137103258985199e-05\n",
      "\t\tRelativo = 4.2341257080850145e-05\n",
      "\t\tTempo: 24.7 µs ± 6.06 µs per loop (mean ± std. dev. of 7 runs, 1 loop each)\n",
      "\tf(0.25):\n",
      "\t\tAbsoluto = 6.106074107825599e-05\n",
      "\t\tRelativo = 4.212717998114913e-05\n",
      "\t\tTempo: 24.4 µs ± 4.79 µs per loop (mean ± std. dev. of 7 runs, 1 loop each)\n"
     ]
    }
   ],
   "source": [
    "f1 = f(0.15)\n",
    "f2 = f(0.25)\n",
    "\n",
    "print(\"-> Erros para Interpolação Polinomial\")\n",
    "print(\"\\tf(0.15):\")\n",
    "a = np.abs(f1-pi1)\n",
    "print(\"\\t\\tAbsoluto =\",a)\n",
    "print(\"\\t\\tRelativo =\",a/f1)\n",
    "print(\"\\t\\tTempo:\",end=\" \")\n",
    "%timeit -n1 resolvePoli(interpoli(x1,y1),0.15)\n",
    "print(\"\\tf(0.25):\")\n",
    "a = np.abs(f2-pi2)\n",
    "print(\"\\t\\tAbsoluto =\",a)\n",
    "print(\"\\t\\tRelativo =\",a/f1)\n",
    "print(\"\\t\\tTempo:\",end=\" \")\n",
    "%timeit -n1 resolvePoli(interpoli(x2,y2),0.25)\n",
    "\n",
    "print(\"\\n-> Erros para Polinômio de Lagranje\")\n",
    "print(\"\\tf(0.15):\")\n",
    "a = np.abs(f1-l1)\n",
    "print(\"\\t\\tAbsoluto =\",a)\n",
    "print(\"\\t\\tRelativo =\",a/f1)\n",
    "print(\"\\t\\tTempo:\",end=\" \")\n",
    "%timeit -n1 lagranged(x1,y1,0.15)\n",
    "print(\"\\tf(0.25):\")\n",
    "a = np.abs(f2-l2)\n",
    "print(\"\\t\\tAbsoluto =\",a)\n",
    "print(\"\\t\\tRelativo =\",a/f1)\n",
    "print(\"\\t\\tTempo:\",end=\" \")\n",
    "%timeit -n1 lagranged(x2,y2,0.25)"
   ]
  },
  {
   "cell_type": "markdown",
   "metadata": {},
   "source": [
    "### Exercicio 3\n",
    "\n",
    "Dada a função $f(x)=sen(x)+2x+1$, determine $L_2(0,15)$ e $L_3(0,15)$ usando os valores $f(0,1),f(0,2),f(0,3)$ e $f(0,4)$, usando o polinomio de lagrange.\n",
    "\n",
    "Plote a função no intervalo [0,0.5] e os pontos computados"
   ]
  },
  {
   "cell_type": "code",
   "execution_count": 194,
   "metadata": {},
   "outputs": [],
   "source": [
    "def f(x):\n",
    "    return np.sin(x) + 2*x + 1\n",
    "\n",
    "x = np.array([0.1,0.2,0.3,0.4])\n",
    "y = f(x)"
   ]
  },
  {
   "cell_type": "code",
   "execution_count": 221,
   "metadata": {},
   "outputs": [
    {
     "name": "stdout",
     "output_type": "stream",
     "text": [
      "-> Polinômio de Lagrange com grau 2:\n",
      "\tL2(0.15) = 1.449499503506189\n",
      "\n",
      "-> Polinômio de Lagrange com grau 3:\n",
      "\tL3(0.15) = 1.7474033798845081\n"
     ]
    }
   ],
   "source": [
    "x3, y3 = escolheIntervalo(x,y,0.15,3)\n",
    "print(\"-> Polinômio de Lagrange com grau 2:\")\n",
    "l_2 = lagranged(x3,y3,0.15)\n",
    "print(\"\\tL2(0.15) =\",l_2)\n",
    "\n",
    "x3, y3 = escolheIntervalo(x,y,0.25,4)\n",
    "print(\"\\n-> Polinômio de Lagrange com grau 3:\")\n",
    "l_3 = lagranged(x3,y3,0.25)\n",
    "print(\"\\tL3(0.15) =\",l_3)"
   ]
  },
  {
   "cell_type": "code",
   "execution_count": 226,
   "metadata": {},
   "outputs": [
    {
     "data": {
      "image/png": "[encoded data removed]",
      "text/plain": [
       "<Figure size 576x360 with 1 Axes>"
      ]
     },
     "metadata": {
      "needs_background": "light"
     },
     "output_type": "display_data"
    }
   ],
   "source": [
    "xplot = np.linspace(0,0.5,1000)\n",
    "yplot = f(xplot)\n",
    "plt.figure(figsize=(8,5))\n",
    "plt.plot(xplot,yplot,'b--')\n",
    "plt.plot(0.15,l_2,'r*',label=\"L2\")\n",
    "plt.plot(0.25,l_3,'g*',label=\"L3\")\n",
    "plt.legend(loc='upper left')\n",
    "plt.ylabel(\"$f(x)=sen(x)+2x+1$\")\n",
    "plt.title(\"Exercício 3\")\n",
    "plt.show()"
   ]
  },
  {
   "cell_type": "markdown",
   "metadata": {},
   "source": [
    "### Exercício 4 ###\n",
    "\n",
    "1 - Na célula abaixo, são dados os números de óbitos em hospitais em Manaus. Como pode ser visto, os dados referentes à 2008 e a 2011 estão faltando. Use a interpolação polinomial com 2,3 e 5 pontos para estimar estes pontos.\n",
    "\n",
    "2 - Plote as curvas dos polinômios gerados (em dois gráficos), de forma similar ao feito no notebook em sala de aula"
   ]
  },
  {
   "cell_type": "code",
   "execution_count": 209,
   "metadata": {},
   "outputs": [
    {
     "name": "stdout",
     "output_type": "stream",
     "text": [
      "-> Óbitos em 2008:\n",
      "\tP1(2008) = 3019.0\n",
      "\tP2(2008) = 2984.0\n",
      "\tP4(2008) = 135291584193.0\n",
      "\n",
      "-> Óbitos em 2011:\n",
      "\tP1(2011) = 3656.0\n",
      "\tP2(2011) = 3386.0\n",
      "\tP4(2011) = -391713531138.0\n"
     ]
    },
    {
     "data": {
      "image/png": "[encoded data removed]",
      "text/plain": [
       "<Figure size 1440x360 with 2 Axes>"
      ]
     },
     "metadata": {
      "needs_background": "light"
     },
     "output_type": "display_data"
    }
   ],
   "source": [
    "xmorte = np.array([2005,2006,2007,2009,2010,2012,2013,2014])\n",
    "ymorte = np.array([2838,3044,3074,2964,3013,3759,3323,2471])\n",
    "\n",
    "x08_1,y08_1 = escolheIntervalo(xmorte,ymorte,2008,2)\n",
    "x08_2,y08_2 = escolheIntervalo(xmorte,ymorte,2008,3)\n",
    "x08_4,y08_4 = escolheIntervalo(xmorte,ymorte,2008,5)\n",
    "\n",
    "x11_1,y11_1 = escolheIntervalo(xmorte,ymorte,2011,2)\n",
    "x11_2,y11_2 = escolheIntervalo(xmorte,ymorte,2011,3)\n",
    "x11_4,y11_4 = escolheIntervalo(xmorte,ymorte,2011,5)\n",
    "\n",
    "c08_1 = interpoli(x08_1,y08_1)\n",
    "c08_2 = interpoli(x08_2,y08_2)\n",
    "c08_4 = interpoli(x08_4,y08_4)\n",
    "\n",
    "c11_1 = interpoli(x11_1,y11_1)\n",
    "c11_2 = interpoli(x11_2,y11_2)\n",
    "c11_4 = interpoli(x11_4,y11_4)\n",
    "\n",
    "xplot = np.linspace(2005,2014,500)\n",
    "\n",
    "yp08_1 = resolvePoli(c08_1,xplot)\n",
    "yp08_2 = resolvePoli(c08_2,xplot)\n",
    "yp08_4 = resolvePoli(c08_4,xplot)\n",
    "\n",
    "yp11_1 = resolvePoli(c11_1,xplot)\n",
    "yp11_2 = resolvePoli(c11_2,xplot)\n",
    "yp11_4 = resolvePoli(c11_4,xplot)\n",
    "\n",
    "plt.figure(1,figsize=(20,5))\n",
    "plt.subplot(121)             \n",
    "# plt.figure(figsize=(8,5))\n",
    "plt.plot(xplot,yp08_1,'g-.',label='Linear')\n",
    "plt.plot(xplot,yp08_2,'y-',label='Quadratico')\n",
    "plt.plot(xplot,yp08_4,'r--',label='Quarto Grau')\n",
    "plt.plot(xmorte,ymorte,'b.',label='Original')\n",
    "plt.xlabel(\"Anos\")\n",
    "plt.ylabel(\"Número de óbitos\")\n",
    "print(\"-> Óbitos em 2008:\")\n",
    "a = resolvePoli(c08_1,2008)\n",
    "print(\"\\tP1(2008) =\",round(a))\n",
    "plt.plot(2008,a,'r*')\n",
    "a = resolvePoli(c08_2,2008)\n",
    "print(\"\\tP2(2008) =\",round(a))\n",
    "plt.plot(2008,a,'r*')\n",
    "a = resolvePoli(c08_4,2008)\n",
    "print(\"\\tP4(2008) =\",round(a))\n",
    "plt.plot(2008,a,'r*')\n",
    "plt.ylim(1500,4000)\n",
    "plt.xticks([2005,2006,2007,2008,2009,2010,2011,2012,2013,2014])\n",
    "plt.legend(loc='upper left')\n",
    "plt.title(\"Interpolação para 2008\")\n",
    "\n",
    "# plt.figure(figsize=(8,5))\n",
    "plt.subplot(122)      \n",
    "plt.title(\"Interpolação para 2011\")\n",
    "plt.plot(xplot,yp11_1,'g-.',label='Linear')\n",
    "plt.plot(xplot,yp11_2,'y-',label='Quadratico')\n",
    "plt.plot(xplot,yp11_4,'r--',label='Quarto Grau')\n",
    "plt.plot(xmorte,ymorte,'b.',label='Original')\n",
    "plt.xlabel(\"Anos\")\n",
    "plt.ylabel(\"Número de óbitos\")\n",
    "print(\"\\n-> Óbitos em 2011:\")\n",
    "a = resolvePoli(c11_2,2011)\n",
    "print(\"\\tP1(2011) =\",round(a))\n",
    "plt.plot(2011,a,'r*')\n",
    "a = resolvePoli(c11_1,2011)\n",
    "print(\"\\tP2(2011) =\",round(a))\n",
    "plt.plot(2011,a,'r*')\n",
    "a = resolvePoli(c11_4,2011)\n",
    "print(\"\\tP4(2011) =\",round(a))\n",
    "plt.plot(2011,a,'r*')\n",
    "plt.ylim(1500,4000)\n",
    "plt.xticks([2005,2006,2007,2008,2009,2010,2011,2012,2013,2014])\n",
    "plt.legend(loc='upper left')\n",
    "plt.show()"
   ]
  }
 ],
 "metadata": {
  "kernelspec": {
   "display_name": "Python 3",
   "language": "python",
   "name": "python3"
  },
  "language_info": {
   "codemirror_mode": {
    "name": "ipython",
    "version": 3
   },
   "file_extension": ".py",
   "mimetype": "text/x-python",
   "name": "python",
   "nbconvert_exporter": "python",
   "pygments_lexer": "ipython3",
   "version": "3.7.3"
  }
 },
 "nbformat": 4,
 "nbformat_minor": 2
}
