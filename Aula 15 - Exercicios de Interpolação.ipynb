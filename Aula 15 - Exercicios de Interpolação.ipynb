{
 "cells": [
  {
   "cell_type": "markdown",
   "metadata": {},
   "source": [
    "# Exercicios de Interpolação"
   ]
  },
  {
   "cell_type": "markdown",
   "metadata": {},
   "source": [
    "### Exercicio 1 ###\n",
    "\n",
    "Nos dados abaixo está o número de habitantes de manaus entre 1950 e 2000, como em sala de aula\n",
    "\n",
    "Compute:\n",
    "    - Com 3 pontos o número de habitantes de Manaus em 1958 e 1988.\n",
    "    - Com 4 pontos o número de habitantes em 1958 e 1988.\n",
    "    \n",
    "Qual foi a diferença entre os dois resultados?"
   ]
  },
  {
   "cell_type": "code",
   "execution_count": 2,
   "metadata": {},
   "outputs": [],
   "source": [
    "import numpy as np\n",
    "\n",
    "ano = np.array([1950,1960,1970,1980,1991,2000])\n",
    "populacao = np.array([139620,173706,311622,633392,1011500,1403796])"
   ]
  },
  {
   "cell_type": "markdown",
   "metadata": {
    "collapsed": true
   },
   "source": [
    "### Exercicio 2\n",
    "\n",
    "Dada a função $f(x)=10x^{4}+2x+1$, determine a interpolação de dois pontos $P_2(0.15)$ e $P_2(0.25)$ usando para interpolar os pontos f(0,1), f(0,2) e f(0.3).\n",
    "\n",
    "- Pelo método de interpolação polinomial\n",
    "- Pelo Polinômio de Lagrange\n"
   ]
  },
  {
   "cell_type": "code",
   "execution_count": null,
   "metadata": {
    "collapsed": true
   },
   "outputs": [],
   "source": []
  },
  {
   "cell_type": "markdown",
   "metadata": {},
   "source": [
    "Qual o erro absoluto e relativo de cada método? Quanto tempo cada um leva para calcular os dois pontos?"
   ]
  },
  {
   "cell_type": "code",
   "execution_count": null,
   "metadata": {
    "collapsed": true
   },
   "outputs": [],
   "source": []
  },
  {
   "cell_type": "markdown",
   "metadata": {},
   "source": [
    "### Exercicio 3\n",
    "\n",
    "Dada a função $f(x)=sen(x)+2x+1$, determine $L_2(0,15)$ e $L_3(0,15)$ usando os valores $f(0,1),f(0,2),f(0,3)$ e $f(0,4)$, usando o polinomio de lagrange.\n",
    "\n",
    "Plote a função no intervalo [0,0.5] e os pontos computados"
   ]
  },
  {
   "cell_type": "code",
   "execution_count": null,
   "metadata": {
    "collapsed": true
   },
   "outputs": [],
   "source": []
  },
  {
   "cell_type": "markdown",
   "metadata": {},
   "source": [
    "### Exercício 4 ###\n",
    "\n",
    "1 - Na célula abaixo, são dados os números de óbitos em hospitais em Manaus. Como pode ser visto, os dados referentes à 2008 e a 2011 estão faltando. Use a interpolação polinomial com 2,3 e 5 pontos para estimar estes pontos.\n",
    "\n",
    "2 - Plote as curvas dos polinômios gerados (em dois gráficos), de forma similar ao feito no notebook em sala de aula"
   ]
  },
  {
   "cell_type": "code",
   "execution_count": 2,
   "metadata": {},
   "outputs": [
    {
     "data": {
      "image/png": "[encoded data removed]",
      "text/plain": [
       "<matplotlib.figure.Figure at 0x16eb023fba8>"
      ]
     },
     "metadata": {},
     "output_type": "display_data"
    }
   ],
   "source": [
    "import numpy as np\n",
    "import matplotlib.pyplot as plt\n",
    "\n",
    "xmorte = np.array([2005,2006,2007,2009,2010,2012,2013,2014])\n",
    "ymorte = np.array([2838,3044,3074,2964,3013,3759,3323,2471])\n",
    "\n",
    "plt.plot(xmorte,ymorte,'b.',label='Original')\n",
    "plt.ylabel('Numero de Óbitos em Manaus')\n",
    "plt.xlabel('Ano')\n",
    "plt.ylim(1500,4000)\n",
    "plt.xticks([2005,2006,2007,2008,2009,2010,2011,2012,2013,2014])\n",
    "plt.legend(loc='upper left')\n",
    "plt.show()"
   ]
  },
  {
   "cell_type": "markdown",
   "metadata": {},
   "source": [
    "3 - Agora vamos verificar em quais situações cada método é mais rápido. Apesar de ser mais complexa, assim como a decomposição LU, a interpolação polinomial se torna mais vantajosa quanto mais pontos eu quiser encontrar no intervalo. O mesmo ocorre com o polinômio de Newton, já que as diferenças divididas só devem ser computadas uma vez. Desta forma, para cada um destes métodos, deve haver um número de interpolações usando os mesmos pontos em que eles serão mais rápidos que o Lagrange.\n",
    "\n",
    "O que você deve fazer: Comparar o tempo de execução de pre-computar os dois métodos apenas uma vez e com eles achar __X__ pontos com rodar o Lagrange __X__ vezes.\n",
    "\n",
    "Para fazer esta comparação, use as seguintes funções:"
   ]
  },
  {
   "cell_type": "code",
   "execution_count": 3,
   "metadata": {
    "collapsed": true
   },
   "outputs": [],
   "source": [
    "def comparaPoli(x,y,xalvo,n):\n",
    "    c = interpoli(x,y)\n",
    "    for i in range(n):\n",
    "        resolvePoli(c,xalvo)\n",
    "\n",
    "def comparaNewton(x,y,xalvo,n):\n",
    "    d = difdiv(x,y)\n",
    "    for i in range(n):\n",
    "        poliNewton(x,y,d,xalvo)\n",
    "        \n",
    "def comparaLag(x,y,xalvo,n):\n",
    "    for i in range(n):\n",
    "        lagrange(c,xalvo)"
   ]
  },
  {
   "cell_type": "markdown",
   "metadata": {},
   "source": [
    "Faça um gráfico com o tempo de execução das três para diferentes valores de N, para mostrar em que ponto o Polinomial e o Newton são mais vantajosos que o Lagrange:"
   ]
  },
  {
   "cell_type": "code",
   "execution_count": null,
   "metadata": {
    "collapsed": true
   },
   "outputs": [],
   "source": []
  }
 ],
 "metadata": {
  "kernelspec": {
   "display_name": "Python 3",
   "language": "python",
   "name": "python3"
  },
  "language_info": {
   "codemirror_mode": {
    "name": "ipython",
    "version": 3
   },
   "file_extension": ".py",
   "mimetype": "text/x-python",
   "name": "python",
   "nbconvert_exporter": "python",
   "pygments_lexer": "ipython3",
   "version": "3.6.4"
  }
 },
 "nbformat": 4,
 "nbformat_minor": 2
}
