{
 "cells": [
  {
   "cell_type": "markdown",
   "metadata": {},
   "source": [
    "# Laboratório de Interpolação #\n",
    "\n",
    "Neste laboratório, iremos implementar os métodos de Interpolação Polinomial, Lagrange e Newton\n",
    "\n",
    "## Preliminares ##\n",
    "\n",
    "Antes de mais nada, precisamos de uma função que, dados os coeficientes `c` de um polinômio de grau `len(c)-1` e um valor `x`, calcule `y = f(x)`:"
   ]
  },
  {
   "cell_type": "code",
   "execution_count": 1,
   "metadata": {},
   "outputs": [],
   "source": [
    "import numpy as np"
   ]
  },
  {
   "cell_type": "code",
   "execution_count": 2,
   "metadata": {},
   "outputs": [],
   "source": [
    "def resolvePoli(c,x):\n",
    "    return np.array(([x**i*c[len(c)-1-i] for i in range(len(c))])).sum(axis=0)"
   ]
  },
  {
   "cell_type": "code",
   "execution_count": 3,
   "metadata": {},
   "outputs": [
    {
     "data": {
      "text/plain": [
       "11"
      ]
     },
     "execution_count": 3,
     "metadata": {},
     "output_type": "execute_result"
    }
   ],
   "source": [
    "x = 3\n",
    "c = np.array([2,1,-10])\n",
    "resolvePoli(c,x)"
   ]
  },
  {
   "cell_type": "markdown",
   "metadata": {},
   "source": [
    "Precisamos também de uma função que dado um conjunto ordenados de pontos `x`, um valor a ser interpolado `xalvo` e um número `n`, escolha um intervalo com `n` que minimize a distância entre `xalvo` e os pontos do intervalo e retorne `n` valores de `x` e `y` deste intervalo:"
   ]
  },
  {
   "cell_type": "code",
   "execution_count": 4,
   "metadata": {},
   "outputs": [],
   "source": [
    "def escolheIntervalo(x,y,xalvo,n):\n",
    "    d = np.abs(xalvo - x)\n",
    "    vx = np.copy(x)\n",
    "    vy = np.copy(y)\n",
    "    for i in range(len(x)-n):\n",
    "        m = np.argmax(d)\n",
    "        vx = np.delete(vx,m)\n",
    "        vy = np.delete(vy,m)\n",
    "        d = np.delete(d,m)\n",
    "    return vx,vy"
   ]
  },
  {
   "cell_type": "code",
   "execution_count": 5,
   "metadata": {},
   "outputs": [
    {
     "data": {
      "text/plain": [
       "(array([1950, 1960, 1970]), array([100, 120, 280]))"
      ]
     },
     "execution_count": 5,
     "metadata": {},
     "output_type": "execute_result"
    }
   ],
   "source": [
    "x = np.array([1950,1960,1970,1980])\n",
    "y = np.array([100,120,280,500])\n",
    "escolheIntervalo(x,y,1958,3)"
   ]
  },
  {
   "cell_type": "markdown",
   "metadata": {},
   "source": [
    "## Interpolação Polinomial ##\n",
    "\n",
    "Na interpolação polinomial, o objetivo é descobrir os coeficientes de um polinômio de ordem `n-1` que passe pelos `n` pontos utilizados para gerar o polinômio. Ou seja, quanto mais pontos são utilizados, maior o grau do polinômio gerado. Para gerar este polinômio, basta substituir os valores $(x_i,y_i)$ no polinomio genérico e, a partir das equações geradas, montar um sistema linear para descobrir os coeficientes.\n",
    "\n",
    "Por exemplo, com três observações pode-se gerar um polinômio de terceiro grau, utilizando a forma abaixo:\n",
    "\n",
    "$$\n",
    "\\left[ \\begin{array} { c c c } { x _ { 1} ^ { 2} } & { x _ { 1} } & { 1} \\\\ { x _ { 2} ^ { 2} } & { x _ { 2} } & { 1} \\\\ { x _ { 3} ^ { 2} } & { x _ { 3} } & { 1} \\end{array} \\right] \\left[ \\begin{array} { l } { a } \\\\ { b } \\\\ { c } \\end{array} \\right] = \\left[ \\begin{array} { l } { y _ { 1} } \\\\ { y _ { 2} } \\\\ { y _ { 3} } \\end{array} \\right]\n",
    "$$\n",
    "\n",
    "Independente da quantidade de pontos, a matriz gerada sempre terá a característica de possuir 1 na última coluna ($x^0$), com cada coluna anterior sendo a posterior multiplicada por $x$.\n",
    "\n",
    "Faça uma função que, dado um vetor `x` e um `y` contendo os pontos a interpolar, retorne o vetor de coeficientes `c` de um polinômio que passe por todos os pontos de $(x,y)$:"
   ]
  },
  {
   "cell_type": "code",
   "execution_count": 6,
   "metadata": {},
   "outputs": [],
   "source": [
    "def resolveTS(A,b): #A Triangular Superior\n",
    "    x = np.zeros(len(A))\n",
    "    for i in range(len(A)-1,-1,-1):\n",
    "        x[i] = (b[i] - (A[i][i+1:]*x[i+1:]).sum())/A[i][i]\n",
    "    return x\n",
    "\n",
    "def eliminacaoGaussianaSimples(A0,b):\n",
    "    M = np.zeros(A0.shape)\n",
    "    A = np.concatenate((A0,b.reshape(len(b),1)),axis=1)\n",
    "    for i in range(len(A)-1):\n",
    "        A[i+1:] -= (A[i+1:,i]/A[i][i]).reshape((len(M[i+1:]),1))*A[i]\n",
    "    return resolveTS(A[:,:len(b)],A[:,len(b)])"
   ]
  },
  {
   "cell_type": "code",
   "execution_count": 7,
   "metadata": {},
   "outputs": [],
   "source": [
    "def interpoli(x,y):\n",
    "    t = len(x)\n",
    "    A = np.zeros((t,t),dtype='float')\n",
    "    for i in range(t):\n",
    "        A[:,i] = x**(t-i-1)\n",
    "    return eliminacaoGaussianaSimples(A,y)"
   ]
  },
  {
   "cell_type": "code",
   "execution_count": 8,
   "metadata": {},
   "outputs": [
    {
     "data": {
      "text/plain": [
       "array([ 4.0e-05, -5.0e-02,  2.5e+01])"
      ]
     },
     "execution_count": 8,
     "metadata": {},
     "output_type": "execute_result"
    }
   ],
   "source": [
    "x = np.array([1250,1000,750])\n",
    "y = np.array([25,15,10])\n",
    "coef = interpoli(x,y)\n",
    "coef"
   ]
  },
  {
   "cell_type": "code",
   "execution_count": 11,
   "metadata": {},
   "outputs": [
    {
     "data": {
      "text/plain": [
       "11.400000000000002"
      ]
     },
     "execution_count": 11,
     "metadata": {},
     "output_type": "execute_result"
    }
   ],
   "source": [
    "resolvePoli(coef,850)"
   ]
  },
  {
   "cell_type": "markdown",
   "metadata": {},
   "source": [
    "Verifique o funcionamento da sua função para os pontos abaixo. Escolha 3 intervalos para o ponto 2008, com 2, 3 e 5 pontos. Ache os coeficientes para estes três intervalos e plote as três funções usando o código abaixo:"
   ]
  },
  {
   "cell_type": "code",
   "execution_count": 12,
   "metadata": {
    "scrolled": true
   },
   "outputs": [
    {
     "data": {
      "image/png": "[encoded data removed]",
      "text/plain": [
       "<Figure size 432x288 with 1 Axes>"
      ]
     },
     "metadata": {},
     "output_type": "display_data"
    }
   ],
   "source": [
    "import matplotlib.pyplot as plt\n",
    "%matplotlib inline\n",
    "\n",
    "xauto = np.array([2005,2006,2007,2009,2010,2011,2013,2014,2015,2016])\n",
    "yauto = np.array([156490,173169,191347,230612,252274,271885,311179,328715,340477,347799])\n",
    "\n",
    "x08_1,y08_1 = escolheIntervalo(xauto,yauto,2008,2)\n",
    "x08_2,y08_2 = escolheIntervalo(xauto,yauto,2008,3)\n",
    "x08_4,y08_4 = escolheIntervalo(xauto,yauto,2008,5)\n",
    "\n",
    "c08_1 = interpoli(x08_1,y08_1)\n",
    "c08_2 = interpoli(x08_2,y08_2)\n",
    "c08_4 = interpoli(x08_4,y08_4)\n",
    "\n",
    "xplot = np.linspace(2005,2016,500)\n",
    "\n",
    "yp08_1 = resolvePoli(c08_1,xplot)\n",
    "yp08_2 = resolvePoli(c08_2,xplot)\n",
    "yp08_4 = resolvePoli(c08_4,xplot)\n",
    "\n",
    "plt.plot(xplot,yp08_1.round(2),'g-.',label='Linear')\n",
    "plt.plot(xplot,yp08_2.round(2),'y-',label='Quadratico')\n",
    "plt.plot(xplot,yp08_4.round(2),'r--',label='Quarto Grau')\n",
    "plt.plot(xauto,yauto,'b.',label='Original')\n",
    "plt.ylabel('Numero de Automoveis em Manaus')\n",
    "plt.xlabel('Ano')\n",
    "plt.legend(loc='upper left')\n",
    "plt.title(\"Intervalos para 2008\")\n",
    "plt.show()"
   ]
  },
  {
   "cell_type": "markdown",
   "metadata": {},
   "source": [
    "Repita o processo acima para o ano de 2012:"
   ]
  },
  {
   "cell_type": "code",
   "execution_count": 13,
   "metadata": {},
   "outputs": [
    {
     "data": {
      "image/png": "[encoded data removed]",
      "text/plain": [
       "<Figure size 432x288 with 1 Axes>"
      ]
     },
     "metadata": {},
     "output_type": "display_data"
    }
   ],
   "source": [
    "x08_1,y08_1 = escolheIntervalo(xauto,yauto,2012,2)\n",
    "x08_2,y08_2 = escolheIntervalo(xauto,yauto,2012,3)\n",
    "x08_4,y08_4 = escolheIntervalo(xauto,yauto,2012,5)\n",
    "\n",
    "c08_1 = interpoli(x08_1,y08_1)\n",
    "c08_2 = interpoli(x08_2,y08_2)\n",
    "c08_4 = interpoli(x08_4,y08_4)\n",
    "\n",
    "xplot = np.linspace(2005,2016,500)\n",
    "\n",
    "yp08_1 = resolvePoli(c08_1,xplot)\n",
    "yp08_2 = resolvePoli(c08_2,xplot)\n",
    "yp08_4 = resolvePoli(c08_4,xplot )\n",
    "\n",
    "plt.plot(xplot,yp08_1,'g-.',label='Linear')\n",
    "plt.plot(xplot,yp08_2,'y-',label='Quadratico')\n",
    "plt.plot(xplot,yp08_4,'r--',label='Quarto Grau')\n",
    "plt.plot(xauto,yauto,'b.',label='Original')\n",
    "plt.ylabel('Numero de Automoveis em Manaus')\n",
    "plt.xlabel('Ano')\n",
    "plt.legend(loc='upper left')\n",
    "plt.title(\"Intervalos para 2012\")\n",
    "plt.show()"
   ]
  },
  {
   "cell_type": "markdown",
   "metadata": {},
   "source": [
    "## Polinômio de Lagrange ##\n",
    "\n",
    "Vamos agora implementar o polinômio de Lagrange. Nele, ao invés de calcular os coeficientes do poliômio, se calcula diretamente o valor de f(x) baseado nos pontos usados para interpolar.\n",
    "\n",
    "A fórmula do polinômio de Lagrange é dada abaixo:\n",
    "\n",
    "$$\n",
    "L _ { n } ( x ) = \\sum _ { i = 0} ^ { n } y _ { i } \\prod _ { \\substack{j = 0\\\\j\\neq i}} ^ { n } \\frac { x - x _ { j } } { x _ { i } - x _ { j } }\n",
    "$$\n",
    "\n",
    "Implemente uma função que receba os pontos `x`, `y` e o valor a ser interpolado `xalvo` e retorne o valor de `f(xalvo)`:"
   ]
  },
  {
   "cell_type": "code",
   "execution_count": 14,
   "metadata": {},
   "outputs": [],
   "source": [
    "def lagrange(x,y,xalvo):\n",
    "    n = len(x)\n",
    "    return np.sum([y[i]*np.prod([(xalvo-x[j])/(x[i]-x[j]) for j in range(n) if j != i]) for i in range(n)])"
   ]
  },
  {
   "cell_type": "markdown",
   "metadata": {},
   "source": [
    "Uma diferença na implementação do método de lagrange pode ser deixar a divisão para depois do produtório, diminuindo o número de divisões feitas pelo programa (ver algoritmo nos slides).\n",
    "\n",
    "Implemente uma versão de Lagrange que faça a divisão somente após o produtório:"
   ]
  },
  {
   "cell_type": "code",
   "execution_count": 15,
   "metadata": {},
   "outputs": [],
   "source": [
    "def lagranged(x,y,xalvo):\n",
    "    t = len(x)\n",
    "    yalvo = 0\n",
    "    for i in range(t):\n",
    "        n = d = 1\n",
    "        for j in range(t):\n",
    "            if i != j:\n",
    "                n *= (xalvo-x[j])\n",
    "                d *= (x[i]-x[j])\n",
    "        yalvo += y[i]*(n/d)\n",
    "    return yalvo"
   ]
  },
  {
   "cell_type": "markdown",
   "metadata": {},
   "source": [
    "Verifique o funcionamento do polinômio de Lagrange nos dados de automóveis do exemplo acima, calculando os valores para 2008 e 2012 com 2,3 e 5 pontos. Compute a diferença de tempo entre as duas versões implementadas com o `%timeit`:"
   ]
  },
  {
   "cell_type": "code",
   "execution_count": 16,
   "metadata": {},
   "outputs": [
    {
     "name": "stdout",
     "output_type": "stream",
     "text": [
      "-> Usando 2 pontos:\n",
      "\tLagrange:  64.6 µs ± 29 µs per loop (mean ± std. dev. of 7 runs, 1 loop each)\n",
      "\tLagranged: 19.8 µs ± 8.63 µs per loop (mean ± std. dev. of 7 runs, 1 loop each)\n",
      "\n",
      "-> Usando 3 pontos:\n",
      "\tLagrange:  95.8 µs ± 12.3 µs per loop (mean ± std. dev. of 7 runs, 1 loop each)\n",
      "\tLagranged: 34.7 µs ± 10.8 µs per loop (mean ± std. dev. of 7 runs, 1 loop each)\n",
      "\n",
      "-> Usando 5 pontos:\n",
      "\tLagrange:  158 µs ± 22.4 µs per loop (mean ± std. dev. of 7 runs, 1 loop each)\n",
      "\tLagranged: 65 µs ± 11.2 µs per loop (mean ± std. dev. of 7 runs, 1 loop each)\n"
     ]
    }
   ],
   "source": [
    "print(\"-> Usando 2 pontos:\")\n",
    "print(\"\\tLagrange:  \",end=\"\")\n",
    "%timeit -n1 lagrange(xauto[:2],yauto[:2],2008)\n",
    "print(\"\\tLagranged: \",end=\"\")\n",
    "%timeit -n1 lagranged(xauto[:2],yauto[:2],2008)\n",
    "print(\"\\n-> Usando 3 pontos:\")\n",
    "print(\"\\tLagrange:  \",end=\"\")\n",
    "%timeit -n1 lagrange(xauto[:3],yauto[:3],2008)\n",
    "print(\"\\tLagranged: \",end=\"\")\n",
    "%timeit -n1 lagranged(xauto[:3],yauto[:3],2008)\n",
    "print(\"\\n-> Usando 5 pontos:\")\n",
    "print(\"\\tLagrange:  \",end=\"\")\n",
    "%timeit -n1 lagrange(xauto[:5],yauto[:5],2008)\n",
    "print(\"\\tLagranged: \",end=\"\")\n",
    "%timeit -n1 lagranged(xauto[:5],yauto[:5],2008)"
   ]
  },
  {
   "cell_type": "markdown",
   "metadata": {},
   "source": [
    "## Polinômio de Newton ##\n",
    "\n",
    "Para computar o polinômio de Newton primeiramente deve-se computar o operador de Diferenças Divididas:\n",
    "$$\n",
    "\\Delta ^ { n } y _ { i } = \\frac { \\Delta ^ { n - 1} y _ { i + 1} - \\Delta ^ { n - 1} y _ { i } } { x _ { i + n } - x _ { i } }\n",
    "$$\n",
    "\n",
    "Implemente uma função que, dado `x` e `y`, retorne a matriz `d` com as diferenças divididas:"
   ]
  },
  {
   "cell_type": "code",
   "execution_count": 17,
   "metadata": {},
   "outputs": [],
   "source": [
    "def difdiv(x,y):\n",
    "    t = len(x)\n",
    "    d = np.zeros((t,t))\n",
    "    d[:,0] = y\n",
    "    for j in range(1,t):\n",
    "        for i in range(t-j):\n",
    "            d[i,j] = (d[i+1,j-1]-d[i,j-1])/(x[j+i]-x[i])\n",
    "    return d"
   ]
  },
  {
   "cell_type": "code",
   "execution_count": 18,
   "metadata": {},
   "outputs": [
    {
     "data": {
      "text/plain": [
       "array([[ 1.01,  0.28,  1.1 ,  1.  , -0.  ],\n",
       "       [ 1.06,  0.61,  1.6 ,  1.  ,  0.  ],\n",
       "       [ 1.12,  1.09,  2.  ,  0.  ,  0.  ],\n",
       "       [ 1.34,  1.69,  0.  ,  0.  ,  0.  ],\n",
       "       [ 1.51,  0.  ,  0.  ,  0.  ,  0.  ]])"
      ]
     },
     "execution_count": 18,
     "metadata": {},
     "output_type": "execute_result"
    }
   ],
   "source": [
    "x = np.array([0.0,0.2,0.3,0.5,0.6])\n",
    "y = np.array([1.008,1.064,1.125,1.343,1.512])\n",
    "difdiv(x,y).round(2)"
   ]
  },
  {
   "cell_type": "markdown",
   "metadata": {},
   "source": [
    "Faça agora uma função que, dado os pontos `x`,`y`, a matriz de diferenças divididas `d` e o ponto a ser interpolado `xalvo`, calcule o valor de `y`, de acordo com o polinômio interpolador de Newton:\n",
    "\n",
    "$$\n",
    "P _ { n } ( x ) = y _ { 0} + \\sum _ { i = 1} ^ { n } \\Delta _ { 0} ^ { i } y _ { 0} \\prod _ { j = 0} ^ { i - 1} \\left( x - x _ { j } \\right)\n",
    "$$"
   ]
  },
  {
   "cell_type": "code",
   "execution_count": 53,
   "metadata": {},
   "outputs": [],
   "source": [
    "def poliNewton(x,y,d,xalvo):\n",
    "    return y[0] + sum([d[0,i] * np.prod(xalvo - x[:i]) for i in range(1,len(x))])"
   ]
  },
  {
   "cell_type": "markdown",
   "metadata": {},
   "source": [
    "Verifique o funcionamento do polinômio de Newton nos dados de automóveis do exemplo acima, calculando os valores para 2008 e 2012 com 2,3 e 5 pontos:"
   ]
  },
  {
   "cell_type": "code",
   "execution_count": 62,
   "metadata": {},
   "outputs": [
    {
     "name": "stdout",
     "output_type": "stream",
     "text": [
      "-> Usando 2 pontos:\n",
      "The slowest run took 4.32 times longer than the fastest. This could mean that an intermediate result is being cached.\n",
      "19.8 µs ± 14 µs per loop (mean ± std. dev. of 7 runs, 1 loop each)\n",
      "\n",
      "-> Usando 3 pontos:\n",
      "23.6 µs ± 10.8 µs per loop (mean ± std. dev. of 7 runs, 1 loop each)\n",
      "\n",
      "-> Usando 5 pontos:\n",
      "34.4 µs ± 13.3 µs per loop (mean ± std. dev. of 7 runs, 1 loop each)\n"
     ]
    }
   ],
   "source": [
    "print(\"-> Usando 2 pontos:\")\n",
    "d = difdiv(xauto[:2],yauto[:2])\n",
    "%timeit -n1 poliNewton(xauto[:2],yauto[:2],d,2008)\n",
    "print(\"\\n-> Usando 3 pontos:\")\n",
    "d = difdiv(xauto[:3],yauto[:3])\n",
    "%timeit -n1 poliNewton(xauto[:3],yauto[:3],d,2008)\n",
    "print(\"\\n-> Usando 5 pontos:\")\n",
    "d = difdiv(xauto[:5],yauto[:5])\n",
    "%timeit -n1 poliNewton(xauto[:5],yauto[:5],d,2008)"
   ]
  }
 ],
 "metadata": {
  "kernelspec": {
   "display_name": "Python 3",
   "language": "python",
   "name": "python3"
  },
  "language_info": {
   "codemirror_mode": {
    "name": "ipython",
    "version": 3
   },
   "file_extension": ".py",
   "mimetype": "text/x-python",
   "name": "python",
   "nbconvert_exporter": "python",
   "pygments_lexer": "ipython3",
   "version": "3.6.5"
  }
 },
 "nbformat": 4,
 "nbformat_minor": 2
}
