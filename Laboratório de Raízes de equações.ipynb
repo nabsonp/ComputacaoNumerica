{
 "cells": [
  {
   "cell_type": "markdown",
   "metadata": {},
   "source": [
    "# Laboratório de Raizes de Equações\n",
    "\n",
    "Nesta aula, iremos implementar métodos para encontrar raízes de equações, polinomiais ou não.\n",
    "\n",
    "Antes de mais nada, precisamos criar métodos para resolver um polinomio dado um valor de X. Um polinômio pode ser representado como um vetor de coeficientes. Por exemplo, um polinômio $3x^4-6x^3+4x^2-29$ poderia ser representado por:"
   ]
  },
  {
   "cell_type": "code",
   "execution_count": 1,
   "metadata": {},
   "outputs": [],
   "source": [
    "import numpy as np\n",
    "pol = np.array([-29,0,4,-6,3])"
   ]
  },
  {
   "cell_type": "markdown",
   "metadata": {},
   "source": [
    "De posse de um polinômio, é importante ter uma função que calcule o valor do polinômio para um valor de X qualquer:"
   ]
  },
  {
   "cell_type": "code",
   "execution_count": 2,
   "metadata": {},
   "outputs": [],
   "source": [
    "def resolve(coef,x):\n",
    "    y = 0\n",
    "    for i in range(len(coef)):\n",
    "        y += coef[i]*(x**(i)) \n",
    "    return y "
   ]
  },
  {
   "cell_type": "code",
   "execution_count": 3,
   "metadata": {},
   "outputs": [
    {
     "name": "stdout",
     "output_type": "stream",
     "text": [
      "-25.0625\n",
      "10\n"
     ]
    }
   ],
   "source": [
    "print(resolve(pol,1.5))\n",
    "print(resolve([10,-4,1],4))"
   ]
  },
  {
   "cell_type": "markdown",
   "metadata": {},
   "source": [
    "Outra coisa importante pode ser uma função para calcular a derivada de um polinômio (isto pode ser útil para calcular a multiplicidade de uma raiz:"
   ]
  },
  {
   "cell_type": "code",
   "execution_count": 5,
   "metadata": {},
   "outputs": [],
   "source": [
    "def deriva(coef):\n",
    "    d = np.zeros(len(coef)-1)\n",
    "    for i in range(1,len(coef)):\n",
    "        d[i-1] = coef[i]*i\n",
    "    return d\n",
    "\n",
    "def multiplicidade(coef,raiz):\n",
    "    mul=0\n",
    "    d = coef\n",
    "    while resolve(d,raiz) == 0 and len(d) > 0:\n",
    "        mul+=1\n",
    "        d = deriva(d)\n",
    "    return mul"
   ]
  },
  {
   "cell_type": "code",
   "execution_count": 6,
   "metadata": {},
   "outputs": [
    {
     "data": {
      "text/plain": [
       "array([  0.,   8., -18.,  12.])"
      ]
     },
     "execution_count": 6,
     "metadata": {},
     "output_type": "execute_result"
    }
   ],
   "source": [
    "deriva(pol)"
   ]
  },
  {
   "cell_type": "markdown",
   "metadata": {},
   "source": [
    "Teste seu código com a multiplicidade da raiz 1 no seguinte polinômio: $x^4+2x^3-12x^2+14x-5$:"
   ]
  },
  {
   "cell_type": "code",
   "execution_count": 7,
   "metadata": {},
   "outputs": [
    {
     "data": {
      "text/plain": [
       "3"
      ]
     },
     "execution_count": 7,
     "metadata": {},
     "output_type": "execute_result"
    }
   ],
   "source": [
    "multiplicidade([-5,14,-12,2,1],1)"
   ]
  },
  {
   "cell_type": "markdown",
   "metadata": {},
   "source": [
    "Outro fator importante para encontrar as raízes de uma equação algébrica é o uso do teorema de Lagrange para encontrar os limites das raízes positivas e das negativas. Faça uma função que calcule o valor de Lagrange para um polinômio e outra que, dada os coeficientes de uma equação algébrica, retorne os quatro limites:"
   ]
  },
  {
   "cell_type": "code",
   "execution_count": 93,
   "metadata": {},
   "outputs": [],
   "source": [
    "def Lagrange(coef):\n",
    "    menor = 0\n",
    "    if coef[-1]<0:\n",
    "        coef = -coef\n",
    "    for i in range(len(coef)-1,0,-1):\n",
    "        if coef[i] < 0:\n",
    "            menor = i\n",
    "            break\n",
    "    return 1+(pow(-min(coef)/coef[len(coef)-1],1/((len(coef)-1)-menor)))\n",
    "\n",
    "def LimitesAlgebricos(coef):\n",
    "    limiteSupPos = Lagrange(coef)\n",
    "    limiteInfPos = 1/Lagrange(np.flip(coef,axis=0))\n",
    "    aux = coef.copy()\n",
    "    for i in range(1,len(aux),2):\n",
    "        aux[i] = -aux[i]\n",
    "    limiteSupNeg = -Lagrange(aux)\n",
    "    limiteInfNeg = -1/Lagrange(np.flip(aux,axis=0))\n",
    "    return (limiteSupPos,limiteInfPos,limiteSupNeg,limiteInfNeg)\n"
   ]
  },
  {
   "cell_type": "markdown",
   "metadata": {},
   "source": [
    "Verifique o funcionamento das suas funções criadas para o polinomio: $-x^4-2x^3+12x^2-14x+5$"
   ]
  },
  {
   "cell_type": "code",
   "execution_count": 94,
   "metadata": {},
   "outputs": [
    {
     "data": {
      "text/plain": [
       "4.464101615137754"
      ]
     },
     "execution_count": 94,
     "metadata": {},
     "output_type": "execute_result"
    }
   ],
   "source": [
    "p = np.array([5,-14,12,-2,-1])\n",
    "Lagrange(p)"
   ]
  },
  {
   "cell_type": "markdown",
   "metadata": {},
   "source": [
    "Outro fator importante é a regra de sinal de descartes. Faça uma função que retorne o número de raízes positivas e negativas (se não puder precisar o número de negativas, retorne -1):"
   ]
  },
  {
   "cell_type": "code",
   "execution_count": 96,
   "metadata": {},
   "outputs": [],
   "source": [
    "def nraizes(coef):\n",
    "    npositivas = 0\n",
    "    nnegativas = 0\n",
    "    aux = np.array([])\n",
    "    for i in range(len(coef)):\n",
    "        if coef[i] != 0:\n",
    "            aux = np.append(aux,coef[i])\n",
    "        else:\n",
    "            nnegativas = -1\n",
    "    for i in range(len(aux)-1):\n",
    "        if aux[i] * aux[i+1] < 0:\n",
    "            npositivas+=1\n",
    "        elif nnegativas != -1:\n",
    "            nnegativas+=1\n",
    "    return (npositivas,nnegativas)"
   ]
  },
  {
   "cell_type": "markdown",
   "metadata": {},
   "source": [
    "Para a função $x^5-2x^4+x^3-2x^2+5$ e para $x^3-3x^2-6x+8$ ache o intervalo das raizes positivas e negativas, o número de raízes de cada tipo e plote um grafico para valores desde o limite inferior negativo até o limite superior positivo:"
   ]
  },
  {
   "cell_type": "code",
   "execution_count": 98,
   "metadata": {},
   "outputs": [
    {
     "name": "stdout",
     "output_type": "stream",
     "text": [
      "[ 5  0 -2  1 -2  1]\n",
      "(3.0, 0.6125741132772068, -2.379729661461215, -0.6125741132772068)\n",
      "(4, -1)\n",
      "[ 8 -6 -3  1]\n",
      "(7.0, 0.5714285714285714, -3.8284271247461903, -0.6202041028867288)\n",
      "(2, 1)\n"
     ]
    }
   ],
   "source": [
    "p0 = np.array([5,0,-2,1,-2,1])\n",
    "p1 = np.array([8,-6,-3,1])\n",
    "\n",
    "print(p0)\n",
    "print(LimitesAlgebricos(p0))\n",
    "print(nraizes(p0))\n",
    "\n",
    "print(p1)\n",
    "print(LimitesAlgebricos(p1))\n",
    "print(nraizes(p1))"
   ]
  },
  {
   "cell_type": "markdown",
   "metadata": {},
   "source": [
    "Faça um programa que receba uma equação transcendente (na forma de função) e um ponto e tente descobrir um intervalo com uma raiz (slide 80 de isolamento de raízes):"
   ]
  },
  {
   "cell_type": "code",
   "execution_count": null,
   "metadata": {
    "collapsed": true
   },
   "outputs": [],
   "source": [
    "def achaIntervalo(f,z): #Voce pode rodar a função aqui dentro chamando f(x)\n",
    "    return (a,b) #intervalo"
   ]
  },
  {
   "cell_type": "markdown",
   "metadata": {},
   "source": [
    "Teste seu método com a função abaixo:"
   ]
  },
  {
   "cell_type": "code",
   "execution_count": null,
   "metadata": {},
   "outputs": [],
   "source": [
    "def func1(x):\n",
    "    return np.sin(x)**2\n",
    "\n",
    "achaIntervalo(func1,2.5)"
   ]
  },
  {
   "cell_type": "markdown",
   "metadata": {},
   "source": [
    "Agora vamos implementar a bissecção. O método da bissecção recebe como parametro uma função e um intervalo, e encontra uma raiz neste intervalo usando uma busca binária. O método pode ter três critérios de parada:\n",
    "\n",
    "- Número de Iterações\n",
    "- Proximidade da raiz\n",
    "- Proximidade entre iterações.\n",
    "\n",
    "Aqui vamos implementar **os três**"
   ]
  },
  {
   "cell_type": "code",
   "execution_count": null,
   "metadata": {
    "collapsed": true
   },
   "outputs": [],
   "source": [
    "def bisseccao(f,a,b, niter=1000,minimo = 0.000001, proximidadeIter = 0.000001):\n",
    "    \n",
    "    return raiz"
   ]
  },
  {
   "cell_type": "markdown",
   "metadata": {},
   "source": [
    "Agora vamos testar nosso método da bissecção com a função $e^x-x-2$ para o intervalo [-30,-1]:"
   ]
  },
  {
   "cell_type": "code",
   "execution_count": null,
   "metadata": {
    "collapsed": true
   },
   "outputs": [],
   "source": []
  }
 ],
 "metadata": {
  "kernelspec": {
   "display_name": "Python 3",
   "language": "python",
   "name": "python3"
  },
  "language_info": {
   "codemirror_mode": {
    "name": "ipython",
    "version": 3
   },
   "file_extension": ".py",
   "mimetype": "text/x-python",
   "name": "python",
   "nbconvert_exporter": "python",
   "pygments_lexer": "ipython3",
   "version": "3.7.2"
  }
 },
 "nbformat": 4,
 "nbformat_minor": 2
}
