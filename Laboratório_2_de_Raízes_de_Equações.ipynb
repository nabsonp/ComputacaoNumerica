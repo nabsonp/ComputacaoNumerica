{
 "cells": [
  {
   "cell_type": "markdown",
   "metadata": {
    "colab_type": "text",
    "id": "bduSj2pLSP5u"
   },
   "source": [
    "# Métodos para encontrar raízes #\n",
    "\n",
    "\n",
    "Neste Notebook, vamos implementar os métodos de encotrar raízes vistos nas últimas aulas. Além disto, faremos experimentos para medir a __quanto tempo__ cada método está levando com a biblioteca timeit\n",
    "\n",
    "\n",
    "Para começar, reaproveite seu método da bissecção e o adicione abaixo. Implemente também o método das secantes: "
   ]
  },
  {
   "cell_type": "code",
   "execution_count": 1,
   "metadata": {},
   "outputs": [],
   "source": [
    "import numpy as np\n",
    "import matplotlib.pyplot as plt"
   ]
  },
  {
   "cell_type": "code",
   "execution_count": 2,
   "metadata": {
    "colab": {},
    "colab_type": "code",
    "id": "o0EUMeXySP5y"
   },
   "outputs": [],
   "source": [
    "def bisseccao(f,a,b, niter=1000,minimo = 0.000001, proximidadeIter = 0.000001):\n",
    "    ant = 0\n",
    "    i = 0\n",
    "    for i in range(niter):\n",
    "        m = (a+b)/2\n",
    "        fm = f(m)\n",
    "        fb = f(b)\n",
    "        if (np.abs(fm) <= minimo) or (np.abs(fm-ant) <= proximidadeIter):\n",
    "            break\n",
    "        elif fb*fm > 0:\n",
    "            b = m\n",
    "        else:\n",
    "            a = m\n",
    "        ant = fm\n",
    "    return m, i\n",
    "\n",
    "def secantes(f,a,b, niter=1000,minimo = 0.000001, proximidadeIter = 0.000001):\n",
    "    ant = 0\n",
    "    i = 0\n",
    "    for i in range(niter):\n",
    "        fb = f(b)\n",
    "        raiz = b - fb*(b-a)/(fb - f(a))\n",
    "        fr = f(raiz)\n",
    "        if (np.abs(fr) <= minimo) or (np.abs(fr-ant) <= proximidadeIter):\n",
    "            break\n",
    "        a = b\n",
    "        b = raiz\n",
    "        ant = fr\n",
    "    return raiz, i"
   ]
  },
  {
   "cell_type": "markdown",
   "metadata": {
    "colab_type": "text",
    "id": "s1bcA_3uSP55"
   },
   "source": [
    "Para verificar que seu método está funcionando de fato, faça uma versão com gráficos. Faça a bissecção plotar um gráfico com a função, as três primeiras tentativas de raiz e a última. Faça a mesma coisa para o método das secantes, plotando as três primeiras retas geradas e o ponto final. Teste seu método na função $x^{2}sen(2)$ no intervalo de 2.1 a 4.2"
   ]
  },
  {
   "cell_type": "code",
   "execution_count": 42,
   "metadata": {},
   "outputs": [
    {
     "data": {
      "text/plain": [
       "[<matplotlib.lines.Line2D at 0x7f3947d17eb8>,\n",
       " <matplotlib.lines.Line2D at 0x7f3947d0fef0>,\n",
       " <matplotlib.lines.Line2D at 0x7f3947cd3908>]"
      ]
     },
     "execution_count": 42,
     "metadata": {},
     "output_type": "execute_result"
    },
    {
     "data": {
      "image/png": "[encoded data removed]",
      "text/plain": [
       "<Figure size 432x288 with 1 Axes>"
      ]
     },
     "metadata": {
      "needs_background": "light"
     },
     "output_type": "display_data"
    }
   ],
   "source": [
    "def func(x):\n",
    "    return x**2*np.sin(x)\n",
    "def funcd(x):\n",
    "    return 2*x*np.sin(x) + np.cos(x)*x**2\n",
    "\n",
    "ax = plt.gca()\n",
    "ax.spines['right'].set_color('none')\n",
    "ax.spines['top'].set_color('none')\n",
    "ax.xaxis.set_ticks_position('bottom')\n",
    "ax.spines['bottom'].set_position(('data',0))\n",
    "ax.yaxis.set_ticks_position('left')\n",
    "\n",
    "x = np.linspace(2.1,4.2,100)\n",
    "plt.plot(x,func(x),4.2,0,'*',2.1,0,'*')"
   ]
  },
  {
   "cell_type": "code",
   "execution_count": 4,
   "metadata": {},
   "outputs": [
    {
     "data": {
      "text/plain": [
       "(3.1415925979614263, 18)"
      ]
     },
     "execution_count": 4,
     "metadata": {},
     "output_type": "execute_result"
    }
   ],
   "source": [
    "bisseccao(func,2.1,4.2)"
   ]
  },
  {
   "cell_type": "code",
   "execution_count": 5,
   "metadata": {},
   "outputs": [
    {
     "data": {
      "text/plain": [
       "(3.141592653286708, 7)"
      ]
     },
     "execution_count": 5,
     "metadata": {},
     "output_type": "execute_result"
    }
   ],
   "source": [
    "secantes(func,2.1,4.2)"
   ]
  },
  {
   "cell_type": "code",
   "execution_count": 6,
   "metadata": {
    "colab": {},
    "colab_type": "code",
    "id": "jL-zppMMSP57"
   },
   "outputs": [],
   "source": [
    "def bisseccaog(f,a,b, niter=1000,minimo = 0.000001, proximidadeIter = 0.000001):\n",
    "    ant = 0\n",
    "    i = 0\n",
    "    ax = plt.gca()\n",
    "    ax.spines['right'].set_color('none')\n",
    "    ax.spines['top'].set_color('none')\n",
    "    ax.xaxis.set_ticks_position('bottom')\n",
    "    ax.spines['bottom'].set_position(('data',0))\n",
    "    ax.yaxis.set_ticks_position('left')\n",
    "    x = np.linspace(a,b,1000)\n",
    "    plt.plot(x,f(x))\n",
    "    for i in range(niter):\n",
    "        m = (a+b)/2\n",
    "        fm = f(m)\n",
    "        fb = f(b)\n",
    "        if (i < 3):\n",
    "            plt.plot(m,0,'r*')\n",
    "        if (np.abs(fm) < 0.000001) or (np.abs(fm-ant) <= proximidadeIter):\n",
    "            break\n",
    "        elif fb*fm > 0:\n",
    "            b = m\n",
    "        else:\n",
    "            a = m\n",
    "        ant = fm\n",
    "    plt.plot(m,0,'g*')\n",
    "    plt.show()\n",
    "    return m, i\n",
    "\n",
    "def secantesg(f,a,b, niter=1000,minimo = 0.000001, proximidadeIter = 0.000001):\n",
    "    ax = plt.gca()\n",
    "    ax.spines['right'].set_color('none')\n",
    "    ax.spines['top'].set_color('none')\n",
    "    ax.xaxis.set_ticks_position('bottom')\n",
    "    ax.spines['bottom'].set_position(('data',0))\n",
    "    ax.yaxis.set_ticks_position('left')\n",
    "    x = np.linspace(a,b,1000)\n",
    "    plt.plot(x,f(x))\n",
    "    ant = 0\n",
    "    i = 0\n",
    "    for i in range(niter):\n",
    "        fb = f(b)\n",
    "        raiz = b - fb*(b-a)/(fb - f(a))\n",
    "        fr = f(raiz)\n",
    "        if (i < 3):\n",
    "            plt.plot([a,b],[f(a),fb],'r')\n",
    "        if (np.abs(fr) <= minimo) or (np.abs(fr-ant) <= proximidadeIter):\n",
    "            break\n",
    "        a = b\n",
    "        b = raiz\n",
    "        ant = fr\n",
    "    plt.plot([a,b],[f(a),f(b)],'g')\n",
    "    plt.plot(raiz,0,'g*')\n",
    "    return raiz, i"
   ]
  },
  {
   "cell_type": "code",
   "execution_count": 7,
   "metadata": {},
   "outputs": [
    {
     "data": {
      "image/png": "[encoded data removed]",
      "text/plain": [
       "<Figure size 432x288 with 1 Axes>"
      ]
     },
     "metadata": {
      "needs_background": "light"
     },
     "output_type": "display_data"
    },
    {
     "name": "stdout",
     "output_type": "stream",
     "text": [
      "(3.1415925979614263, 18)\n"
     ]
    }
   ],
   "source": [
    "print(bisseccaog(func,2.1,4.2))"
   ]
  },
  {
   "cell_type": "code",
   "execution_count": 8,
   "metadata": {},
   "outputs": [
    {
     "name": "stdout",
     "output_type": "stream",
     "text": [
      "(3.141592653286708, 7)\n"
     ]
    },
    {
     "data": {
      "image/png": "[encoded data removed]",
      "text/plain": [
       "<Figure size 432x288 with 1 Axes>"
      ]
     },
     "metadata": {
      "needs_background": "light"
     },
     "output_type": "display_data"
    }
   ],
   "source": [
    "print(secantesg(func,2.1,4.2))"
   ]
  },
  {
   "cell_type": "markdown",
   "metadata": {
    "colab_type": "text",
    "id": "dc8njGO0SP6B"
   },
   "source": [
    "Faça agora o mesmo para o Regula Falsi:"
   ]
  },
  {
   "cell_type": "code",
   "execution_count": 9,
   "metadata": {
    "colab": {},
    "colab_type": "code",
    "id": "gCnlCXPjSP6C"
   },
   "outputs": [],
   "source": [
    "def falsi(f,a,b, niter=1000,minimo = 0.000001, proximidadeIter = 0.000001):\n",
    "    ant = 0\n",
    "    i = 0\n",
    "    for i in range(niter):\n",
    "        fb = f(b)\n",
    "        raiz = b - fb*(b-a)/(fb - f(a))\n",
    "        fr = f(raiz)\n",
    "        if (np.abs(fr) <= minimo) or (np.abs(fr-ant) <= proximidadeIter):\n",
    "            break\n",
    "        if fb*fr > 0:\n",
    "            b = raiz\n",
    "        else:\n",
    "            a = raiz\n",
    "        ant = fr\n",
    "    return raiz, i\n",
    "\n",
    "def falsig(f,a,b, niter=1000,minimo = 0.000001, proximidadeIter = 0.000001):\n",
    "    ax = plt.gca()\n",
    "    ax.spines['right'].set_color('none')\n",
    "    ax.spines['top'].set_color('none')\n",
    "    ax.xaxis.set_ticks_position('bottom')\n",
    "    ax.spines['bottom'].set_position(('data',0))\n",
    "    ax.yaxis.set_ticks_position('left')\n",
    "    x = np.linspace(a,b,1000)\n",
    "    plt.plot(x,f(x))\n",
    "    ant = 0\n",
    "    i = 0\n",
    "    for i in range(niter):\n",
    "        fb = f(b)\n",
    "        raiz = b - fb*(b-a)/(fb - f(a))\n",
    "        fr = f(raiz)\n",
    "        if (i < 3):\n",
    "            plt.plot([a,b],[f(a),fb],'r')\n",
    "        if (np.abs(fr) <= minimo) or (np.abs(fr-ant) <= proximidadeIter):\n",
    "            break\n",
    "        if fb*fr > 0:\n",
    "            b = raiz\n",
    "        else:\n",
    "            a = raiz\n",
    "        ant = fr\n",
    "    plt.plot([a,b],[f(a),f(b)],'g')\n",
    "    plt.plot(raiz,0,'g*')\n",
    "    return raiz, i"
   ]
  },
  {
   "cell_type": "markdown",
   "metadata": {
    "colab_type": "text",
    "id": "j5SocR6RSP6I"
   },
   "source": [
    "### Método de Newton ###\n",
    "\n",
    "O método de newton é ligeiramente diferente. Ele precisa apenas de um ponto para fazer achar a nova tentativa de raiz, ao invés de um intervalo. Um exemplo gráfico do funcionamento dele:\n",
    "\n",
    "https://commons.wikimedia.org/wiki/File:NewtonIteration_Ani.gif\n",
    "\n",
    "Em contrapartida, o método de Newton precisa de um argumento extra: A derivada da função que se deseja achar a a raiz.\n",
    "\n",
    "Implemente as duas versões do método de newton, com e sem gráficos:"
   ]
  },
  {
   "cell_type": "code",
   "execution_count": 45,
   "metadata": {
    "colab": {},
    "colab_type": "code",
    "id": "NZYbJeDpSP6K"
   },
   "outputs": [],
   "source": [
    "def newton(f,fd,x, niter=1000,minimo = 0.000001, proximidadeIter = 0.000001):\n",
    "    ant = 0\n",
    "    i = 0\n",
    "    raiz = x\n",
    "    fr = f(raiz)\n",
    "    while i < niter and (np.abs(fr) > minimo) and (np.abs(fr-ant) > proximidadeIter):\n",
    "        ant = fr\n",
    "        raiz -= f(raiz)/fd(raiz)\n",
    "        fr = f(raiz)\n",
    "        i += 1\n",
    "    i-=1\n",
    "    return raiz,i\n",
    "\n",
    "def newtong(f,fd,x, niter=1000,minimo = 0.000001, proximidadeIter = 0.000001):\n",
    "    ax = plt.gca()\n",
    "    ax.spines['right'].set_color('none')\n",
    "    ax.spines['top'].set_color('none')\n",
    "    ax.xaxis.set_ticks_position('bottom')\n",
    "    ax.spines['bottom'].set_position(('data',0))\n",
    "    ax.yaxis.set_ticks_position('left')\n",
    "    xs = np.linspace(2.1,4.2,1000)\n",
    "    plt.plot(xs,f(xs))\n",
    "    ant = 0\n",
    "    i = 0\n",
    "    raiz = x\n",
    "    fr = f(raiz)\n",
    "    while i < niter and (np.abs(fr) > minimo) and (np.abs(fr-ant) > proximidadeIter):\n",
    "        ant = fr\n",
    "        x = raiz - f(raiz)/fd(raiz)\n",
    "        if i < 3:\n",
    "            plt.plot([raiz,x],[fr,0],'r')\n",
    "        raiz = x\n",
    "        fr = f(raiz)\n",
    "        i += 1\n",
    "    i-=1\n",
    "    plt.plot([raiz,x],[fr,0],'r')\n",
    "    plt.plot(raiz,0,'g*')\n",
    "    return raiz,i\n"
   ]
  },
  {
   "cell_type": "markdown",
   "metadata": {
    "colab_type": "text",
    "id": "PClMVHATSP6P"
   },
   "source": [
    "Teste o método de Newton e o Regula Falsi com a função $x^{2}sen(2)$ no intervalo de 2.1 a 4.2 (escolha qualquer um dos dois pontos para Newton:"
   ]
  },
  {
   "cell_type": "code",
   "execution_count": 11,
   "metadata": {},
   "outputs": [
    {
     "data": {
      "text/plain": [
       "(3.1415926038540065, 15)"
      ]
     },
     "execution_count": 11,
     "metadata": {},
     "output_type": "execute_result"
    }
   ],
   "source": [
    "falsi(func,2.1,4.2)"
   ]
  },
  {
   "cell_type": "code",
   "execution_count": 12,
   "metadata": {},
   "outputs": [
    {
     "name": "stdout",
     "output_type": "stream",
     "text": [
      "(3.1415926038540065, 15)\n"
     ]
    },
    {
     "data": {
      "image/png": "[encoded data removed]",
      "text/plain": [
       "<Figure size 432x288 with 1 Axes>"
      ]
     },
     "metadata": {
      "needs_background": "light"
     },
     "output_type": "display_data"
    }
   ],
   "source": [
    "print(falsig(func,2.1,4.2))"
   ]
  },
  {
   "cell_type": "code",
   "execution_count": 47,
   "metadata": {},
   "outputs": [
    {
     "data": {
      "text/plain": [
       "(3.141592653758602, 3)"
      ]
     },
     "execution_count": 47,
     "metadata": {},
     "output_type": "execute_result"
    }
   ],
   "source": [
    "newton(func,funcd,4.2)"
   ]
  },
  {
   "cell_type": "code",
   "execution_count": 46,
   "metadata": {
    "colab": {},
    "colab_type": "code",
    "id": "LiLMlQv8SP6R"
   },
   "outputs": [
    {
     "data": {
      "text/plain": [
       "(3.141592653758602, 3)"
      ]
     },
     "execution_count": 46,
     "metadata": {},
     "output_type": "execute_result"
    },
    {
     "data": {
      "image/png": "[encoded data removed]",
      "text/plain": [
       "<Figure size 432x288 with 1 Axes>"
      ]
     },
     "metadata": {
      "needs_background": "light"
     },
     "output_type": "display_data"
    }
   ],
   "source": [
    "newtong(func,funcd,4.2)"
   ]
  },
  {
   "cell_type": "markdown",
   "metadata": {
    "colab_type": "text",
    "id": "Q-7ZDzyxSP6X"
   },
   "source": [
    "Com todos os métodos implementados, vamos agora ver qual é o melhor em cada cenário. Para isto, vamos ver, além da raiz gerada e do número de iterações, o tempo levado para encontrar a raiz. Para isto, usaremos a biblioteca timeit"
   ]
  },
  {
   "cell_type": "code",
   "execution_count": 21,
   "metadata": {
    "colab": {},
    "colab_type": "code",
    "id": "zuxBIB-7SP6Z",
    "outputId": "79c68361-2ca4-482c-a3c2-1997ea7c5abd"
   },
   "outputs": [
    {
     "name": "stdout",
     "output_type": "stream",
     "text": [
      "158 ns ± 2.05 ns per loop (mean ± std. dev. of 7 runs, 10000000 loops each)\n"
     ]
    }
   ],
   "source": [
    "def f(x):\n",
    "    return x^2\n",
    "\n",
    "# tudo que começa com % é comando jupyter\n",
    "# roda 10000000 de vezes a função para o valor 10\n",
    "%timeit -n10000000 f(10)"
   ]
  },
  {
   "cell_type": "markdown",
   "metadata": {
    "colab_type": "text",
    "id": "0-yadN7jSP6k"
   },
   "source": [
    "Como você pode ver, demorou um pouquinho né? Isso porque aquele parametro -n está dizendo para o timeit quantas vezes ele deve rodar o comando f(10), e mostra a média e o desvio padrão de 7 rodadas de 10000000 repetições.\n",
    "\n",
    "\n",
    "Agora, vamos ao exercício: __você deve encontrar um intervalo onde há uma raiz__ (seja plotando ou usando lagrange), rodar e verificar o tempo de execução, distância da raiz achada de 0 e o número de iterações da bissecção, secantes, regula falsi e Newton para as seguintes funções:\n",
    "\n",
    "1: $f_1(x) = 2x^4 + 4x^3 + 3x^2-10x-15$\n",
    "\n",
    "2: $f_2(x) = x^5-2x^4-9x^3+22x^2+4x-24$  \n",
    "\n",
    "3: $f_3(x) = 5x^3+x^2-e^{1-2x}+cos(x)+20$\n",
    "\n",
    "4: $f_4(x) = sen(x)x+4$\n",
    "\n",
    "5: $f_5(x) = (x-3)^5ln(x)$"
   ]
  },
  {
   "cell_type": "markdown",
   "metadata": {
    "colab_type": "text",
    "id": "ooVrpCksSP6m"
   },
   "source": [
    "Entrega: Quinta-Feira, 24/4 via Colabweb"
   ]
  },
  {
   "cell_type": "code",
   "execution_count": 50,
   "metadata": {
    "colab": {},
    "colab_type": "code",
    "id": "ic9MqLVrSP6n"
   },
   "outputs": [],
   "source": [
    "def Lagrange(coef):\n",
    "    menor = 0\n",
    "    if coef[-1]<0:\n",
    "        coef = -coef\n",
    "    for i in range(len(coef)-1,0,-1):\n",
    "        if coef[i] < 0:\n",
    "            menor = i\n",
    "            break\n",
    "    return 1+(pow(-min(coef)/coef[len(coef)-1],1/((len(coef)-1)-menor)))\n",
    "\n",
    "def LimitesAlgebricos(coef):\n",
    "    limiteSupPos = Lagrange(coef)\n",
    "    limiteInfPos = 1/Lagrange(np.flip(coef,axis=0))\n",
    "    aux = coef.copy()\n",
    "    for i in range(1,len(aux),2):\n",
    "        aux[i] = -aux[i]\n",
    "    limiteSupNeg = -Lagrange(aux)\n",
    "    limiteInfNeg = -1/Lagrange(np.flip(aux,axis=0))\n",
    "    return (limiteSupPos,limiteInfPos,limiteSupNeg,limiteInfNeg)"
   ]
  },
  {
   "cell_type": "markdown",
   "metadata": {},
   "source": [
    "### $f_1(x) = 2x^4 + 4x^3 + 3x^2-10x-15$"
   ]
  },
  {
   "cell_type": "code",
   "execution_count": 113,
   "metadata": {},
   "outputs": [
    {
     "data": {
      "text/plain": [
       "(2.9574338205844315, 0.6594575734168333, -8.5, -0.6000000000000001)"
      ]
     },
     "execution_count": 113,
     "metadata": {},
     "output_type": "execute_result"
    }
   ],
   "source": [
    "def f1(x):\n",
    "    return 2*x**4 + 4*x**3 + 3*x**2 - 10*x - 15\n",
    "def df1(x):\n",
    "    return 8*x**3 + 12*x**2 + 6*x - 10\n",
    "\n",
    "f = f1\n",
    "df = df1\n",
    "\n",
    "p1 = [-15,-10,3,4,2]\n",
    "l1 = LimitesAlgebricos(p1)\n",
    "l1\n",
    "# Como só há uma raíz positiva, será usado o intervalo positivo"
   ]
  },
  {
   "cell_type": "code",
   "execution_count": 114,
   "metadata": {},
   "outputs": [
    {
     "name": "stdout",
     "output_type": "stream",
     "text": [
      "148 µs ± 30.5 µs per loop (mean ± std. dev. of 7 runs, 100 loops each)\n",
      "Distância de 0:  4.2877410599828636e-07\n",
      "Interações:  22\n",
      "Raiz:  -1.3003841042518616\n"
     ]
    }
   ],
   "source": [
    "# Bissecção\n",
    "%timeit -n100 bisseccao(f,-1.5,0)\n",
    "r = bisseccao(f,-1.5,0)\n",
    "print(\"Distância de 0: \",0-f(r[0]))\n",
    "print(\"Interações: \",r[1])\n",
    "print(\"Raiz: \",r[0])"
   ]
  },
  {
   "cell_type": "code",
   "execution_count": 115,
   "metadata": {},
   "outputs": [
    {
     "name": "stdout",
     "output_type": "stream",
     "text": [
      "29.9 µs ± 3.04 µs per loop (mean ± std. dev. of 7 runs, 100 loops each)\n",
      "Distância de 0:  1.7790279471796566e-07\n",
      "Interações:  7\n",
      "Raiz:  -1.3003841208637623\n"
     ]
    }
   ],
   "source": [
    "# Secantes\n",
    "%timeit -n100 secantes(f,-1.5,0)\n",
    "r = falsi(f,-1.5,0)\n",
    "print(\"Distância de 0: \",0-f(r[0]))\n",
    "print(\"Interações: \",r[1])\n",
    "print(\"Raiz: \",r[0])"
   ]
  },
  {
   "cell_type": "code",
   "execution_count": 116,
   "metadata": {},
   "outputs": [
    {
     "name": "stdout",
     "output_type": "stream",
     "text": [
      "46.4 µs ± 1.52 µs per loop (mean ± std. dev. of 7 runs, 100 loops each)\n",
      "Distância de 0:  1.7790279471796566e-07\n",
      "Interações:  7\n",
      "Raiz:  -1.3003841208637623\n"
     ]
    }
   ],
   "source": [
    "# Regula Falsi\n",
    "%timeit -n100 falsi(f,-1.5,0)\n",
    "r = falsi(f,-1.5,0)\n",
    "print(\"Distância de 0: \",0-f(r[0]))\n",
    "print(\"Interações: \",r[1])\n",
    "print(\"Raiz: \",r[0])"
   ]
  },
  {
   "cell_type": "code",
   "execution_count": 117,
   "metadata": {},
   "outputs": [
    {
     "name": "stdout",
     "output_type": "stream",
     "text": [
      "34 µs ± 2.6 µs per loop (mean ± std. dev. of 7 runs, 100 loops each)\n",
      "Distância de 0:  -4.781847700030539e-07\n",
      "Interações:  2\n",
      "Raiz:  -1.300384164307794\n"
     ]
    }
   ],
   "source": [
    "# Newton\n",
    "%timeit -n100 newton(f,df,-1.5)\n",
    "r = newton(f,df,-1.5)\n",
    "print(\"Distância de 0: \",0-f(r[0]))\n",
    "print(\"Interações: \",r[1])\n",
    "print(\"Raiz: \",r[0])"
   ]
  },
  {
   "cell_type": "markdown",
   "metadata": {},
   "source": [
    "### $f_2(x) = x^5-2x^4-9x^3+22x^2+4x-24$ "
   ]
  },
  {
   "cell_type": "code",
   "execution_count": 123,
   "metadata": {},
   "outputs": [
    {
     "data": {
      "text/plain": [
       "[<matplotlib.lines.Line2D at 0x7f3947acd668>]"
      ]
     },
     "execution_count": 123,
     "metadata": {},
     "output_type": "execute_result"
    },
    {
     "data": {
      "image/png": "[encoded data removed]",
      "text/plain": [
       "<Figure size 432x288 with 1 Axes>"
      ]
     },
     "metadata": {
      "needs_background": "light"
     },
     "output_type": "display_data"
    }
   ],
   "source": [
    "def f2(x):\n",
    "    return x**5 - 2*x**4 - 9*x**3 + 22*x**2 + 4*x - 24\n",
    "def df2(x):\n",
    "    return 5*x**4 - 8*x**3 - 27*x**2 + 44*x + 4\n",
    "\n",
    "f = f2\n",
    "df = df2\n",
    "\n",
    "p2 = [-24,4,22,-9,-2,1]\n",
    "ax = plt.gca()\n",
    "ax.spines['right'].set_color('none')\n",
    "ax.spines['top'].set_color('none')\n",
    "ax.xaxis.set_ticks_position('bottom')\n",
    "ax.spines['bottom'].set_position(('data',0))\n",
    "ax.spines['left'].set_position(('data',0))\n",
    "ax.yaxis.set_ticks_position('left')\n",
    "xs = np.linspace(-1.6,0,1000)\n",
    "plt.plot(xs,f(xs))"
   ]
  },
  {
   "cell_type": "code",
   "execution_count": 109,
   "metadata": {},
   "outputs": [
    {
     "name": "stdout",
     "output_type": "stream",
     "text": [
      "147 µs ± 25.8 µs per loop (mean ± std. dev. of 7 runs, 100 loops each)\n",
      "Distância de 0:  8.046627009150598e-07\n",
      "Interações:  24\n",
      "Raiz:  -0.9999999850988388\n"
     ]
    }
   ],
   "source": [
    "# Bissecção\n",
    "%timeit -n100 bisseccao(f,-1.5,0)\n",
    "r = bisseccao(f,-1.5,0)\n",
    "print(\"Distância de 0: \",0-f(r[0]))\n",
    "print(\"Interações: \",r[1])\n",
    "print(\"Raiz: \",r[0])"
   ]
  },
  {
   "cell_type": "code",
   "execution_count": 110,
   "metadata": {},
   "outputs": [
    {
     "name": "stdout",
     "output_type": "stream",
     "text": [
      "44.6 µs ± 2.47 µs per loop (mean ± std. dev. of 7 runs, 100 loops each)\n",
      "Distância de 0:  3.2356916790377e-07\n",
      "Interações:  10\n",
      "Raiz:  -0.9999999940079785\n"
     ]
    }
   ],
   "source": [
    "# Secantes\n",
    "%timeit -n100 secantes(f,-1.5,0)\n",
    "r = falsi(f,-1.5,0)\n",
    "print(\"Distância de 0: \",0-f(r[0]))\n",
    "print(\"Interações: \",r[1])\n",
    "print(\"Raiz: \",r[0])"
   ]
  },
  {
   "cell_type": "code",
   "execution_count": 111,
   "metadata": {},
   "outputs": [
    {
     "name": "stdout",
     "output_type": "stream",
     "text": [
      "81.4 µs ± 15 µs per loop (mean ± std. dev. of 7 runs, 100 loops each)\n",
      "Distância de 0:  3.2356916790377e-07\n",
      "Interações:  10\n",
      "Raiz:  -0.9999999940079785\n"
     ]
    }
   ],
   "source": [
    "# Regula Falsi\n",
    "%timeit -n100 falsi(f,-1.5,0)\n",
    "r = falsi(f,-1.5,0)\n",
    "print(\"Distância de 0: \",0-f(r[0]))\n",
    "print(\"Interações: \",r[1])\n",
    "print(\"Raiz: \",r[0])"
   ]
  },
  {
   "cell_type": "code",
   "execution_count": 112,
   "metadata": {},
   "outputs": [
    {
     "name": "stdout",
     "output_type": "stream",
     "text": [
      "30.9 µs ± 5.29 µs per loop (mean ± std. dev. of 7 runs, 100 loops each)\n",
      "Distância de 0:  -4.014566457044566e-12\n",
      "Interações:  3\n",
      "Raiz:  -1.0000000000000744\n"
     ]
    }
   ],
   "source": [
    "# Newton\n",
    "%timeit -n100 newton(f,df,-1.5)\n",
    "r = newton(f,df,-1.5)\n",
    "print(\"Distância de 0: \",0-f(r[0]))\n",
    "print(\"Interações: \",r[1])\n",
    "print(\"Raiz: \",r[0])"
   ]
  },
  {
   "cell_type": "markdown",
   "metadata": {},
   "source": [
    "### $f_3(x) = 5x^3+x^2-e^{1-2x}+cos(x)+20$"
   ]
  },
  {
   "cell_type": "code",
   "execution_count": 124,
   "metadata": {},
   "outputs": [
    {
     "data": {
      "text/plain": [
       "[<matplotlib.lines.Line2D at 0x7f3947abfe48>]"
      ]
     },
     "execution_count": 124,
     "metadata": {},
     "output_type": "execute_result"
    },
    {
     "data": {
      "image/png": "[encoded data removed]",
      "text/plain": [
       "<Figure size 432x288 with 1 Axes>"
      ]
     },
     "metadata": {
      "needs_background": "light"
     },
     "output_type": "display_data"
    }
   ],
   "source": [
    "def f3(x):\n",
    "    return 5*x**3 + x**2 - np.exp(1-2*x) + np.cos(x) + 20\n",
    "def df3(x):\n",
    "    return 15*x**2 + 2*x + 2*np.exp(-2*x + 1) - np.sin(x)\n",
    "\n",
    "f = f3\n",
    "df = df3\n",
    "\n",
    "p2 = [-24,4,22,-9,-2,1]\n",
    "ax = plt.gca()\n",
    "ax.spines['right'].set_color('none')\n",
    "ax.spines['top'].set_color('none')\n",
    "ax.xaxis.set_ticks_position('bottom')\n",
    "ax.spines['bottom'].set_position(('data',0))\n",
    "ax.spines['left'].set_position(('data',0))\n",
    "ax.yaxis.set_ticks_position('left')\n",
    "xs = np.linspace(-1.6,0,1000)\n",
    "plt.plot(xs,f(xs))"
   ]
  },
  {
   "cell_type": "code",
   "execution_count": 119,
   "metadata": {},
   "outputs": [
    {
     "name": "stdout",
     "output_type": "stream",
     "text": [
      "343 µs ± 55.1 µs per loop (mean ± std. dev. of 7 runs, 100 loops each)\n",
      "Distância de 0:  1.4619047306041466e-08\n",
      "Interações:  25\n",
      "Raiz:  -0.9295604601502419\n"
     ]
    }
   ],
   "source": [
    "# Bissecção\n",
    "%timeit -n100 bisseccao(f,-1.5,0)\n",
    "r = bisseccao(f,-1.5,0)\n",
    "print(\"Distância de 0: \",0-f(r[0]))\n",
    "print(\"Interações: \",r[1])\n",
    "print(\"Raiz: \",r[0])"
   ]
  },
  {
   "cell_type": "code",
   "execution_count": 120,
   "metadata": {},
   "outputs": [
    {
     "name": "stdout",
     "output_type": "stream",
     "text": [
      "254 µs ± 45.1 µs per loop (mean ± std. dev. of 7 runs, 100 loops each)\n",
      "Distância de 0:  -4.804239814859557e-07\n",
      "Interações:  23\n",
      "Raiz:  -0.9295604495714597\n"
     ]
    }
   ],
   "source": [
    "# Secantes\n",
    "%timeit -n100 secantes(f,-1.5,0)\n",
    "r = falsi(f,-1.5,0)\n",
    "print(\"Distância de 0: \",0-f(r[0]))\n",
    "print(\"Interações: \",r[1])\n",
    "print(\"Raiz: \",r[0])"
   ]
  },
  {
   "cell_type": "code",
   "execution_count": 121,
   "metadata": {},
   "outputs": [
    {
     "name": "stdout",
     "output_type": "stream",
     "text": [
      "549 µs ± 65.3 µs per loop (mean ± std. dev. of 7 runs, 100 loops each)\n",
      "Distância de 0:  -4.804239814859557e-07\n",
      "Interações:  23\n",
      "Raiz:  -0.9295604495714597\n"
     ]
    }
   ],
   "source": [
    "# Regula Falsi\n",
    "%timeit -n100 falsi(f,-1.5,0)\n",
    "r = falsi(f,-1.5,0)\n",
    "print(\"Distância de 0: \",0-f(r[0]))\n",
    "print(\"Interações: \",r[1])\n",
    "print(\"Raiz: \",r[0])"
   ]
  },
  {
   "cell_type": "code",
   "execution_count": 122,
   "metadata": {},
   "outputs": [
    {
     "name": "stdout",
     "output_type": "stream",
     "text": [
      "135 µs ± 19.4 µs per loop (mean ± std. dev. of 7 runs, 100 loops each)\n",
      "Distância de 0:  4.927045438307687e-10\n",
      "Interações:  4\n",
      "Raiz:  -0.9295604598483701\n"
     ]
    }
   ],
   "source": [
    "# Newton\n",
    "%timeit -n100 newton(f,df,-1.5)\n",
    "r = newton(f,df,-1.5)\n",
    "print(\"Distância de 0: \",0-f(r[0]))\n",
    "print(\"Interações: \",r[1])\n",
    "print(\"Raiz: \",r[0])"
   ]
  },
  {
   "cell_type": "markdown",
   "metadata": {},
   "source": [
    "### $f_4(x) = sen(x)x+4$"
   ]
  },
  {
   "cell_type": "code",
   "execution_count": 128,
   "metadata": {},
   "outputs": [
    {
     "data": {
      "text/plain": [
       "[<matplotlib.lines.Line2D at 0x7f3947865c50>]"
      ]
     },
     "execution_count": 128,
     "metadata": {},
     "output_type": "execute_result"
    },
    {
     "data": {
      "image/png": "[encoded data removed]",
      "text/plain": [
       "<Figure size 432x288 with 1 Axes>"
      ]
     },
     "metadata": {
      "needs_background": "light"
     },
     "output_type": "display_data"
    }
   ],
   "source": [
    "def f4(x):\n",
    "    return np.sin(x)*x + 4\n",
    "def df4(x):\n",
    "    return np.sin(x) + x*np.cos(x)\n",
    "\n",
    "f = f4\n",
    "df = df4\n",
    "\n",
    "p2 = [-24,4,22,-9,-2,1]\n",
    "ax = plt.gca()\n",
    "ax.spines['right'].set_color('none')\n",
    "ax.spines['top'].set_color('none')\n",
    "ax.xaxis.set_ticks_position('bottom')\n",
    "ax.spines['bottom'].set_position(('data',0))\n",
    "ax.yaxis.set_ticks_position('left')\n",
    "xs = np.linspace(4,5,1000)\n",
    "plt.plot(xs,f(xs))"
   ]
  },
  {
   "cell_type": "code",
   "execution_count": 132,
   "metadata": {},
   "outputs": [
    {
     "name": "stdout",
     "output_type": "stream",
     "text": [
      "186 µs ± 31.9 µs per loop (mean ± std. dev. of 7 runs, 100 loops each)\n",
      "Distância de 0:  -5.573155301696886e-07\n",
      "Interações:  19\n",
      "Raiz:  4.323239326477051\n"
     ]
    }
   ],
   "source": [
    "# Bissecção\n",
    "%timeit -n100 bisseccao(f,4,5)\n",
    "r = bisseccao(f,4,5)\n",
    "print(\"Distância de 0: \",0-f(r[0]))\n",
    "print(\"Interações: \",r[1])\n",
    "print(\"Raiz: \",r[0])"
   ]
  },
  {
   "cell_type": "code",
   "execution_count": 133,
   "metadata": {},
   "outputs": [
    {
     "name": "stdout",
     "output_type": "stream",
     "text": [
      "105 µs ± 25.3 µs per loop (mean ± std. dev. of 7 runs, 100 loops each)\n",
      "Distância de 0:  1.7499900106798805e-07\n",
      "Interações:  8\n",
      "Raiz:  4.323239611926789\n"
     ]
    }
   ],
   "source": [
    "# Secantes\n",
    "%timeit -n100 secantes(f,4,5)\n",
    "r = falsi(f,4,5)\n",
    "print(\"Distância de 0: \",0-f(r[0]))\n",
    "print(\"Interações: \",r[1])\n",
    "print(\"Raiz: \",r[0])"
   ]
  },
  {
   "cell_type": "code",
   "execution_count": 134,
   "metadata": {},
   "outputs": [
    {
     "name": "stdout",
     "output_type": "stream",
     "text": [
      "127 µs ± 13.6 µs per loop (mean ± std. dev. of 7 runs, 100 loops each)\n",
      "Distância de 0:  1.7499900106798805e-07\n",
      "Interações:  8\n",
      "Raiz:  4.323239611926789\n"
     ]
    }
   ],
   "source": [
    "# Regula Falsi\n",
    "%timeit -n100 falsi(f,4,5)\n",
    "r = falsi(f,4,5)\n",
    "print(\"Distância de 0: \",0-f(r[0]))\n",
    "print(\"Interações: \",r[1])\n",
    "print(\"Raiz: \",r[0])"
   ]
  },
  {
   "cell_type": "code",
   "execution_count": 135,
   "metadata": {},
   "outputs": [
    {
     "name": "stdout",
     "output_type": "stream",
     "text": [
      "49.5 µs ± 7.79 µs per loop (mean ± std. dev. of 7 runs, 100 loops each)\n",
      "Distância de 0:  -8.067108776543819e-07\n",
      "Interações:  2\n",
      "Raiz:  4.32323922926497\n"
     ]
    }
   ],
   "source": [
    "# Newton\n",
    "%timeit -n100 newton(f,df,4)\n",
    "r = newton(f,df,4)\n",
    "print(\"Distância de 0: \",0-f(r[0]))\n",
    "print(\"Interações: \",r[1])\n",
    "print(\"Raiz: \",r[0])"
   ]
  },
  {
   "cell_type": "markdown",
   "metadata": {},
   "source": [
    "### $f_5(x) = (x-3)^5ln(x)$"
   ]
  },
  {
   "cell_type": "code",
   "execution_count": 144,
   "metadata": {},
   "outputs": [
    {
     "data": {
      "text/plain": [
       "[<matplotlib.lines.Line2D at 0x7f3947376588>]"
      ]
     },
     "execution_count": 144,
     "metadata": {},
     "output_type": "execute_result"
    },
    {
     "data": {
      "image/png": "[encoded data removed]",
      "text/plain": [
       "<Figure size 432x288 with 1 Axes>"
      ]
     },
     "metadata": {
      "needs_background": "light"
     },
     "output_type": "display_data"
    }
   ],
   "source": [
    "def f5(x):\n",
    "    return (x-3)**5*np.log(x)\n",
    "def df5(x):\n",
    "    return 5*np.log(x)*(x-3)**4 + (x-3)**5/x\n",
    "\n",
    "f = f5\n",
    "df = df5\n",
    "\n",
    "p2 = [-24,4,22,-9,-2,1]\n",
    "ax = plt.gca()\n",
    "ax.spines['right'].set_color('none')\n",
    "ax.spines['top'].set_color('none')\n",
    "ax.xaxis.set_ticks_position('bottom')\n",
    "ax.spines['bottom'].set_position(('data',0))\n",
    "ax.yaxis.set_ticks_position('left')\n",
    "xs = np.linspace(0.5,2,1000)\n",
    "plt.plot(xs,f(xs))"
   ]
  },
  {
   "cell_type": "code",
   "execution_count": 145,
   "metadata": {},
   "outputs": [
    {
     "name": "stdout",
     "output_type": "stream",
     "text": [
      "294 µs ± 168 µs per loop (mean ± std. dev. of 7 runs, 100 loops each)\n",
      "Distância de 0:  -9.536744016713817e-07\n",
      "Interações:  23\n",
      "Raiz:  0.9999999701976776\n"
     ]
    }
   ],
   "source": [
    "# Bissecção\n",
    "%timeit -n100 bisseccao(f,0.5,2)\n",
    "r = bisseccao(f,0.5,2)\n",
    "print(\"Distância de 0: \",0-f(r[0]))\n",
    "print(\"Interações: \",r[1])\n",
    "print(\"Raiz: \",r[0])"
   ]
  },
  {
   "cell_type": "code",
   "execution_count": 146,
   "metadata": {},
   "outputs": [
    {
     "name": "stdout",
     "output_type": "stream",
     "text": [
      "298 µs ± 81.8 µs per loop (mean ± std. dev. of 7 runs, 100 loops each)\n",
      "Distância de 0:  2.5358565249728796e-06\n",
      "Interações:  81\n",
      "Raiz:  1.0000000792455352\n"
     ]
    }
   ],
   "source": [
    "# Secantes\n",
    "%timeit -n100 secantes(f,0.5,2)\n",
    "r = falsi(f,0.5,2)\n",
    "print(\"Distância de 0: \",0-f(r[0]))\n",
    "print(\"Interações: \",r[1])\n",
    "print(\"Raiz: \",r[0])"
   ]
  },
  {
   "cell_type": "code",
   "execution_count": 147,
   "metadata": {},
   "outputs": [
    {
     "name": "stdout",
     "output_type": "stream",
     "text": [
      "1.05 ms ± 112 µs per loop (mean ± std. dev. of 7 runs, 100 loops each)\n",
      "Distância de 0:  2.5358565249728796e-06\n",
      "Interações:  81\n",
      "Raiz:  1.0000000792455352\n"
     ]
    }
   ],
   "source": [
    "# Regula Falsi\n",
    "%timeit -n100 falsi(f,0.5,2)\n",
    "r = falsi(f,0.5,2)\n",
    "print(\"Distância de 0: \",0-f(r[0]))\n",
    "print(\"Interações: \",r[1])\n",
    "print(\"Raiz: \",r[0])"
   ]
  },
  {
   "cell_type": "code",
   "execution_count": 148,
   "metadata": {},
   "outputs": [
    {
     "name": "stdout",
     "output_type": "stream",
     "text": [
      "113 µs ± 33.1 µs per loop (mean ± std. dev. of 7 runs, 100 loops each)\n",
      "Distância de 0:  -1.8487898110904285e-07\n",
      "Interações:  5\n",
      "Raiz:  0.9999999942225319\n"
     ]
    }
   ],
   "source": [
    "# Newton\n",
    "%timeit -n100 newton(f,df,0.5)\n",
    "r = newton(f,df,0.5)\n",
    "print(\"Distância de 0: \",0-f(r[0]))\n",
    "print(\"Interações: \",r[1])\n",
    "print(\"Raiz: \",r[0])"
   ]
  },
  {
   "cell_type": "code",
   "execution_count": null,
   "metadata": {},
   "outputs": [],
   "source": []
  }
 ],
 "metadata": {
  "colab": {
   "name": "Laboratório 2 de Raízes de Equações.ipynb",
   "provenance": [],
   "version": "0.3.2"
  },
  "kernelspec": {
   "display_name": "Python 3",
   "language": "python",
   "name": "python3"
  },
  "language_info": {
   "codemirror_mode": {
    "name": "ipython",
    "version": 3
   },
   "file_extension": ".py",
   "mimetype": "text/x-python",
   "name": "python",
   "nbconvert_exporter": "python",
   "pygments_lexer": "ipython3",
   "version": "3.7.2"
  }
 },
 "nbformat": 4,
 "nbformat_minor": 1
}
