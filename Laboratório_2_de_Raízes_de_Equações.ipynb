{
 "cells": [
  {
   "cell_type": "markdown",
   "metadata": {
    "colab_type": "text",
    "id": "bduSj2pLSP5u"
   },
   "source": [
    "# Métodos para encontrar raízes #\n",
    "\n",
    "\n",
    "Neste Notebook, vamos implementar os métodos de encotrar raízes vistos nas últimas aulas. Além disto, faremos experimentos para medir a __quanto tempo__ cada método está levando com a biblioteca timeit\n",
    "\n",
    "\n",
    "Para começar, reaproveite seu método da bissecção e o adicione abaixo. Implemente também o método das secantes: "
   ]
  },
  {
   "cell_type": "code",
   "execution_count": 10,
   "metadata": {},
   "outputs": [],
   "source": [
    "import numpy as np\n",
    "import matplotlib.pyplot as plt"
   ]
  },
  {
   "cell_type": "code",
   "execution_count": 25,
   "metadata": {
    "colab": {},
    "colab_type": "code",
    "id": "o0EUMeXySP5y"
   },
   "outputs": [],
   "source": [
    "def bisseccao(f,a,b, niter=1000,minimo = 0.000001, proximidadeIter = 0.000001):\n",
    "    ant = 0\n",
    "    i = 0\n",
    "    for i in range(niter):\n",
    "        m = (a+b)/2\n",
    "        fm = f(m)\n",
    "        fb = f(b)\n",
    "        if (np.abs(fm) < 0.000001) or (np.abs(fm-ant) <= proximidadeIter):\n",
    "            break\n",
    "        elif fb*fm > 0:\n",
    "            b = m\n",
    "        else:\n",
    "            a = m\n",
    "        ant = fm\n",
    "    return m, i\n",
    "\n",
    "def secantes(f,a,b, niter=1000,minimo = 0.000001, proximidadeIter = 0.000001):\n",
    "    ant = 0\n",
    "    i = 0\n",
    "    for i in range(niter):\n",
    "        fb = f(b)\n",
    "        raiz = b - fb*(b-a)/(fb - f(a))\n",
    "        fr = f(raiz)\n",
    "        if (np.abs(fr) < minimo) or (np.abs(fr-ant) <= proximidadeIter):\n",
    "            break\n",
    "        a = b\n",
    "        b = raiz\n",
    "        ant = fr\n",
    "    return raiz, i"
   ]
  },
  {
   "cell_type": "markdown",
   "metadata": {
    "colab_type": "text",
    "id": "s1bcA_3uSP55"
   },
   "source": [
    "Para verificar que seu método está funcionando de fato, faça uma versão com gráficos. Faça a bissecção plotar um gráfico com a função, as três primeiras tentativas de raiz e a última. Faça a mesma coisa para o método das secantes, plotando as três primeiras retas geradas e o ponto final. Teste seu método na função $x^{2}sen(2)$ no intervalo de 2.1 a 4.2"
   ]
  },
  {
   "cell_type": "code",
   "execution_count": 92,
   "metadata": {},
   "outputs": [
    {
     "data": {
      "text/plain": [
       "[<matplotlib.lines.Line2D at 0x7f0aacf18eb8>]"
      ]
     },
     "execution_count": 92,
     "metadata": {},
     "output_type": "execute_result"
    },
    {
     "data": {
      "image/png": "[encoded data removed]",
      "text/plain": [
       "<Figure size 432x288 with 1 Axes>"
      ]
     },
     "metadata": {},
     "output_type": "display_data"
    }
   ],
   "source": [
    "def func(x):\n",
    "    return np.sin(x**2)\n",
    "\n",
    "ax = plt.gca()\n",
    "ax.spines['right'].set_color('none')\n",
    "ax.spines['top'].set_color('none')\n",
    "ax.xaxis.set_ticks_position('bottom')\n",
    "ax.spines['bottom'].set_position(('data',0))\n",
    "ax.yaxis.set_ticks_position('left')\n",
    "\n",
    "x = np.linspace(2.1,4.2,100)\n",
    "plt.plot(x,func(x))"
   ]
  },
  {
   "cell_type": "code",
   "execution_count": 40,
   "metadata": {},
   "outputs": [
    {
     "data": {
      "text/plain": [
       "(0.0010281719103434094, 16)"
      ]
     },
     "execution_count": 40,
     "metadata": {},
     "output_type": "execute_result"
    }
   ],
   "source": [
    "secantes(func,-5,2)"
   ]
  },
  {
   "cell_type": "code",
   "execution_count": 64,
   "metadata": {},
   "outputs": [
    {
     "data": {
      "text/plain": [
       "array([8., 2.])"
      ]
     },
     "execution_count": 64,
     "metadata": {},
     "output_type": "execute_result"
    }
   ],
   "source": [
    "np.linspace(8,2,2)"
   ]
  },
  {
   "cell_type": "code",
   "execution_count": 120,
   "metadata": {
    "colab": {},
    "colab_type": "code",
    "id": "jL-zppMMSP57"
   },
   "outputs": [],
   "source": [
    "def bisseccaog(f,a,b, niter=1000,minimo = 0.000001, proximidadeIter = 0.000001):\n",
    "    ant = 0\n",
    "    i = 0\n",
    "    ax = plt.gca()\n",
    "    ax.spines['right'].set_color('none')\n",
    "    ax.spines['top'].set_color('none')\n",
    "    ax.xaxis.set_ticks_position('bottom')\n",
    "    ax.spines['bottom'].set_position(('data',0))\n",
    "    ax.yaxis.set_ticks_position('left')\n",
    "    x = np.linspace(a,b,1000)\n",
    "    plt.plot(x,f(x))\n",
    "    for i in range(niter):\n",
    "        m = (a+b)/2\n",
    "        fm = f(m)\n",
    "        fb = f(b)\n",
    "        if (i < 3):\n",
    "            plt.plot(m,0,'r*')\n",
    "        if (np.abs(fm) < 0.000001) or (np.abs(fm-ant) <= proximidadeIter):\n",
    "            break\n",
    "        elif fb*fm > 0:\n",
    "            b = m\n",
    "        else:\n",
    "            a = m\n",
    "        ant = fm\n",
    "    plt.plot(m,0,'g*')\n",
    "    plt.show()\n",
    "    return m, i\n",
    "\n",
    "def secantesg(f,a,b, niter=1000,minimo = 0.000001, proximidadeIter = 0.000001):\n",
    "    ax = plt.gca()\n",
    "    ax.spines['right'].set_color('none')\n",
    "    ax.spines['top'].set_color('none')\n",
    "    ax.xaxis.set_ticks_position('bottom')\n",
    "    ax.spines['bottom'].set_position(('data',0))\n",
    "    ax.yaxis.set_ticks_position('left')\n",
    "    x = np.linspace(a,b,1000)\n",
    "    plt.plot(x,f(x))\n",
    "    ant = 0\n",
    "    i = 0\n",
    "    for i in range(niter):\n",
    "        fb = f(b)\n",
    "        raiz = b - fb*(b-a)/(fb - f(a))\n",
    "        fr = f(raiz)\n",
    "        #if (i < 3):\n",
    "        #    plt.plot([a,b],[f(a),fb])\n",
    "        if (np.abs(fr) < minimo) or (np.abs(fr-ant) <= proximidadeIter):\n",
    "            break\n",
    "        a = b\n",
    "        b = raiz\n",
    "        ant = fr\n",
    "    #plt.plot([b,raiz],[f(b),f(raiz)])\n",
    "    plt.plot(raiz,0,'g*')\n",
    "    plt.show()\n",
    "    return raiz, i"
   ]
  },
  {
   "cell_type": "code",
   "execution_count": 122,
   "metadata": {},
   "outputs": [
    {
     "data": {
      "image/png": "[encoded data removed]",
      "text/plain": [
       "<Figure size 432x288 with 1 Axes>"
      ]
     },
     "metadata": {},
     "output_type": "display_data"
    },
    {
     "name": "stdout",
     "output_type": "stream",
     "text": [
      "(1.3491298063666122e+23, 724)\n"
     ]
    }
   ],
   "source": [
    "print(secantesg(func,2.1,4.2))"
   ]
  },
  {
   "cell_type": "code",
   "execution_count": 107,
   "metadata": {},
   "outputs": [
    {
     "data": {
      "image/png": "[encoded data removed]",
      "text/plain": [
       "<Figure size 432x288 with 1 Axes>"
      ]
     },
     "metadata": {},
     "output_type": "display_data"
    },
    {
     "name": "stdout",
     "output_type": "stream",
     "text": [
      "(3.0699799776077272, 21)\n"
     ]
    }
   ],
   "source": [
    "print(bisseccaog(func,2.1,4.2))"
   ]
  },
  {
   "cell_type": "markdown",
   "metadata": {
    "colab_type": "text",
    "id": "dc8njGO0SP6B"
   },
   "source": [
    "Faça agora o mesmo para o Regula Falsi:"
   ]
  },
  {
   "cell_type": "code",
   "execution_count": 0,
   "metadata": {
    "colab": {},
    "colab_type": "code",
    "id": "gCnlCXPjSP6C"
   },
   "outputs": [],
   "source": [
    "def falsi(f,a,b, niter=1000,minimo = 0.000001, proximidadeIter = 0.000001):\n",
    "    \n",
    "    return raiz,niter\n",
    "\n",
    "def falsig(f,a,b, niter=1000,minimo = 0.000001, proximidadeIter = 0.000001):\n",
    "    \n",
    "    return raiz,niter\n",
    "\n"
   ]
  },
  {
   "cell_type": "markdown",
   "metadata": {
    "colab_type": "text",
    "id": "j5SocR6RSP6I"
   },
   "source": [
    "### Método de Newton ###\n",
    "\n",
    "O método de newton é ligeiramente diferente. Ele precisa apenas de um ponto para fazer achar a nova tentativa de raiz, ao invés de um intervalo. Um exemplo gráfico do funcionamento dele:\n",
    "\n",
    "https://commons.wikimedia.org/wiki/File:NewtonIteration_Ani.gif\n",
    "\n",
    "Em contrapartida, o método de Newton precisa de um argumento extra: A derivada da função que se deseja achar a a raiz.\n",
    "\n",
    "Implemente as duas versões do método de newton, com e sem gráficos:"
   ]
  },
  {
   "cell_type": "code",
   "execution_count": 0,
   "metadata": {
    "colab": {},
    "colab_type": "code",
    "id": "NZYbJeDpSP6K"
   },
   "outputs": [],
   "source": [
    "def newton(f,fd,x, niter=1000,minimo = 0.000001, proximidadeIter = 0.000001):\n",
    "    \n",
    "    return raiz,niter\n",
    "\n",
    "def newtong(f,fd,x, niter=1000,minimo = 0.000001, proximidadeIter = 0.000001):\n",
    "    \n",
    "    return raiz,niter\n"
   ]
  },
  {
   "cell_type": "markdown",
   "metadata": {
    "colab_type": "text",
    "id": "PClMVHATSP6P"
   },
   "source": [
    "Teste o método de Newton e o Regula Falsi com a função $x^{2}sen(2)$ no intervalo de 2.1 a 4.2 (escolha qualquer um dos dois pontos para Newton:"
   ]
  },
  {
   "cell_type": "code",
   "execution_count": 0,
   "metadata": {
    "colab": {},
    "colab_type": "code",
    "id": "LiLMlQv8SP6R"
   },
   "outputs": [],
   "source": []
  },
  {
   "cell_type": "markdown",
   "metadata": {
    "colab_type": "text",
    "id": "Q-7ZDzyxSP6X"
   },
   "source": [
    "Com todos os métodos implementados, vamos agora ver qual é o melhor em cada cenário. Para isto, vamos ver, além da raiz gerada e do número de iterações, o tempo levado para encontrar a raiz. Para isto, usaremos a biblioteca timeit"
   ]
  },
  {
   "cell_type": "code",
   "execution_count": 3,
   "metadata": {
    "colab": {},
    "colab_type": "code",
    "id": "zuxBIB-7SP6Z",
    "outputId": "79c68361-2ca4-482c-a3c2-1997ea7c5abd"
   },
   "outputs": [
    {
     "name": "stdout",
     "output_type": "stream",
     "text": [
      "90.2 ns ± 5.32 ns per loop (mean ± std. dev. of 7 runs, 10000000 loops each)\n"
     ]
    }
   ],
   "source": [
    "def f(x):\n",
    "    return x^2\n",
    "\n",
    "# tudo que começa com % é comando jupyter\n",
    "# roda 10000000 de vezes a função para o valor 10\n",
    "%timeit -n10000000 f(10)"
   ]
  },
  {
   "cell_type": "markdown",
   "metadata": {
    "colab_type": "text",
    "id": "0-yadN7jSP6k"
   },
   "source": [
    "Como você pode ver, demorou um pouquinho né? Isso porque aquele parametro -n está dizendo para o timeit quantas vezes ele deve rodar o comando f(10), e mostra a média e o desvio padrão de 7 rodadas de 10000000 repetições.\n",
    "\n",
    "\n",
    "Agora, vamos ao exercício: __você deve encontrar um intervalo onde há uma raiz__ (seja plotando ou usando lagrange), rodar e verificar o tempo de execução, distância da raiz achada de 0 e o número de iterações da bissecção, secantes, regula falsi e Newton para as seguintes funções:\n",
    "\n",
    "1: $f_1(x) = 2x^4 + 4x^3 + 3x^2-10x-15$\n",
    "\n",
    "2: $f_2(x) = x^5-2x^4-9x^3+22x^2+4x-24$  \n",
    "\n",
    "3: $f_3(x) = 5x^3+x^2-e^{1-2x}+cos(x)+20$\n",
    "\n",
    "4: $f_4(x) = sen(x)x+4$\n",
    "\n",
    "5: $f_5(x) = (x-3)^5ln(x)$"
   ]
  },
  {
   "cell_type": "markdown",
   "metadata": {
    "colab_type": "text",
    "id": "ooVrpCksSP6m"
   },
   "source": [
    "Entrega: Quinta-Feira, 24/4 via Colabweb"
   ]
  },
  {
   "cell_type": "code",
   "execution_count": 0,
   "metadata": {
    "colab": {},
    "colab_type": "code",
    "id": "ic9MqLVrSP6n"
   },
   "outputs": [],
   "source": []
  }
 ],
 "metadata": {
  "colab": {
   "name": "Laboratório 2 de Raízes de Equações.ipynb",
   "provenance": [],
   "version": "0.3.2"
  },
  "kernelspec": {
   "display_name": "Python 3",
   "language": "python",
   "name": "python3"
  },
  "language_info": {
   "codemirror_mode": {
    "name": "ipython",
    "version": 3
   },
   "file_extension": ".py",
   "mimetype": "text/x-python",
   "name": "python",
   "nbconvert_exporter": "python",
   "pygments_lexer": "ipython3",
   "version": "3.6.5"
  }
 },
 "nbformat": 4,
 "nbformat_minor": 1
}
