{
 "cells": [
  {
   "cell_type": "markdown",
   "metadata": {},
   "source": [
    "# Métodos Iterativos #\n",
    "\n",
    "### Critérios de parada ###\n",
    "\n",
    "Antes de implementarmos os métodos iterativos, temos que implementar um método para o critério de parada. No nosso caso, usaremos a _norma infinita_. A norma infinita é dada por:\n",
    "\n",
    "$$\\lVert v \\rVert_{\\infty} = \\max_{1\\leq i\\leq n}|v_i|$$ \n",
    "\n",
    "E a distância entre duas soluções iteradas $x^k$ e $x^{k-1}$ pode ser dada por:\n",
    "\n",
    "$$ \\frac{\\lVert x^k - x^{k-1} \\rVert_{\\infty}}{\\lVert x^k\\rVert_{\\infty}} = \\frac{\\max\\limits_{1\\leq i\\leq n}|x_i^{k} - x_i^{k-1}|}{\\max\\limits_{1\\leq i\\leq n}|x_i^k|} \\leq \\epsilon$$\n",
    "\n",
    "Faça uma função para retornar a distância usando a norma infinita de dois vetores:"
   ]
  },
  {
   "cell_type": "code",
   "execution_count": 1,
   "metadata": {},
   "outputs": [],
   "source": [
    "import numpy as np"
   ]
  },
  {
   "cell_type": "code",
   "execution_count": 196,
   "metadata": {},
   "outputs": [],
   "source": [
    "def normaInfinita(v1,v2):\n",
    "    return (np.abs(v2-v1)).max()/np.abs(v2).max()"
   ]
  },
  {
   "cell_type": "code",
   "execution_count": 232,
   "metadata": {},
   "outputs": [
    {
     "data": {
      "text/plain": [
       "0.11308921707465097"
      ]
     },
     "execution_count": 232,
     "metadata": {},
     "output_type": "execute_result"
    }
   ],
   "source": [
    "A = np.array([4.905,0.85,-2.51])\n",
    "B = np.array([4.943,0.96,-1.951])\n",
    "normaInfinita(A,B)"
   ]
  },
  {
   "cell_type": "markdown",
   "metadata": {},
   "source": [
    "## Jacobi ##\n",
    "\n",
    "Para resolver o método de Jacobi, se deve decompor a matriz $A$ em três matrizes compostas dos seus elementos, $D$ (Diagonal), $E$ (triangular inferior) e $F$ (triangular superior).\n",
    "\n",
    "De posse destes elementos, deve-se utilizar esta fórmula de iteração:\n",
    "\n",
    "$$ x^{k+1}=-D^{-1}(E+F)x+D^{-1}b $$\n",
    "\n",
    "Lembrando que para D ter inversa, nenhum elemento da diagonal principal de A pode ser nulo.\n",
    "\n",
    "Desta forma, eu posso utilizar a forma matricial acima para computar as respostas. Implemente o método de Jacobi matricial abaixo:"
   ]
  },
  {
   "cell_type": "code",
   "execution_count": 243,
   "metadata": {},
   "outputs": [],
   "source": [
    "def jacobim(A,b,niter=100,minimo = 0.000001):\n",
    "    D = F = E = np.zeros(A.shape)\n",
    "    x0 = x= np.zeros(len(b))\n",
    "    for i in range(len(A)):\n",
    "        D[i][i] = 1/A[i][i]\n",
    "        F[i,i+1:] = A[i,i+1:]\n",
    "        E[i,:i] = A[i,:i]\n",
    "    J = -D.dot(E+F)\n",
    "    for i in range(niter):\n",
    "        x = J.dot(x0) + D.dot(b)\n",
    "        if (np.abs(normaInfinita(x0,x)) <= minimo):\n",
    "            return x\n",
    "        x0 = x.copy()\n",
    "    return x,i"
   ]
  },
  {
   "cell_type": "code",
   "execution_count": 248,
   "metadata": {},
   "outputs": [],
   "source": [
    "def jacobim(A,b,niter=10000,minimo = 0.000001):\n",
    "    Di = np.zeros(A.shape)\n",
    "    E = np.zeros(A.shape)\n",
    "    F = np.zeros(A.shape)\n",
    "    x0 = np.zeros(len(b))\n",
    "    x = np.zeros(len(b))\n",
    "    for i in range(len(A)):\n",
    "        Di[i][i] = A[i][i]\n",
    "        F[i,i+1:] = A[i,i+1:]\n",
    "        E[i,:i] = A[i,:i]\n",
    "    Di = np.linalg.inv(Di)\n",
    "    J = -Di.dot(E+F)\n",
    "    for i in range(niter):\n",
    "        x = J.dot(x0) + Di.dot(b)\n",
    "        if (normaInfinita(x0,x) <= minimo):\n",
    "            return x\n",
    "        x0 = x.copy()\n",
    "    return x,i"
   ]
  },
  {
   "cell_type": "code",
   "execution_count": 249,
   "metadata": {},
   "outputs": [
    {
     "name": "stderr",
     "output_type": "stream",
     "text": [
      "/usr/local/lib/python3.6/site-packages/ipykernel_launcher.py:2: RuntimeWarning: invalid value encountered in double_scalars\n",
      "  \n"
     ]
    },
    {
     "data": {
      "text/plain": [
       "(array([nan, nan, nan, nan]), 9999)"
      ]
     },
     "execution_count": 249,
     "metadata": {},
     "output_type": "execute_result"
    }
   ],
   "source": [
    "A = np.array([[1,1,-2,0],[-1,3,2,1],[1,2,1,2],[2,0,-2,-1]],dtype='float')\n",
    "b = np.array([5,6,10,1],dtype='float')\n",
    "jacobim(A,b)"
   ]
  },
  {
   "cell_type": "markdown",
   "metadata": {},
   "source": [
    "Outra forma de implementar Jacobi é através da fórmula escalar:\n",
    "\n",
    "$$x_i^{k+1}=\\frac{1}{a_{ii}} - \\left( \\sum\\limits_{\\substack{j=1 \\\\ i\\neq j}}^{n}{a_{ij}x_j^k+b_i} \\right)$$\n",
    "\n",
    "Implemente a forma escalar do jacobi:"
   ]
  },
  {
   "cell_type": "code",
   "execution_count": null,
   "metadata": {
    "collapsed": true
   },
   "outputs": [],
   "source": [
    "def jacobie(A,b,niter=1000,minimo = 0.000001):\n",
    "    \n",
    "    return x"
   ]
  },
  {
   "cell_type": "markdown",
   "metadata": {},
   "source": [
    "Para o método de Jacobi (e o Gauss-Seidel) convergirem para um resultado correto, elas tem que ter condições de convergência:\n",
    "\n",
    "- Condição suficiente: Elementos da diagonal principal estritamente dominantes.\n",
    "\n",
    "$$ |a_{ii}|> \\sum\\limits_{\\substack{j=1 \\\\ j\\neq i}}^{n}{|a_{ij}|,i=1,2,...,n}$$\n",
    "\n",
    "Esta condição se verdadeira garante a convergência. Contudo, mesmo se ela for falsa o sistema ainda pode convergir.\n",
    "\n",
    "- Condição necessária: $\\rho(M)<1$, sendo $\\rho(M)$ o raio espectral, o maior autovalor em módulo.\n",
    "\n",
    "Faça uma função que verifique se um sistema com uma matriz de coeficientes A pode ser solucionado via jacobi, testando primeiro a condição suficiente e, em caso negativo, testando a condição necessária:"
   ]
  },
  {
   "cell_type": "code",
   "execution_count": null,
   "metadata": {
    "collapsed": true
   },
   "outputs": [],
   "source": [
    "def podeJacobi(A):\n",
    "    \n",
    "    return pode"
   ]
  },
  {
   "cell_type": "markdown",
   "metadata": {},
   "source": [
    "## Gauss-Seidel ##\n",
    "\n",
    "Função de iteração:\n",
    "\n",
    "$$ x^{k+1}=D^{-1}(-Ex^{k+1}-Fx^{k}+b)$$\n",
    "\n",
    "Lembrando que multiplicar por $D^{-1}$ é o mesmo que dividir cada linha pelo elemento da diagonal principal desta linha em A\n",
    "\n",
    "A forma mais simples de fazer o Gauss Seidel matricialmente é linha a linha (calculando a formula acima pra cada linha da solução X)\n",
    "\n",
    "Implemente Gauss-Seidel na forma Matricial e na forma escalar (acessando os elementos individualmente das matrizes)\n",
    "\n",
    "Fórmula escalar:\n",
    "\n",
    "$$ x^{k+1} = \\frac{1}{a_{ii}}(\\sum\\limits_{\\substack{j=0}}^{i-1}{a_{ij}x^{k+1}_{j}} - \\sum\\limits_{\\substack{j=i+1}}^{n}{a_{ij}x^{k}_{j} + b_{i}}), i=1,2,...,n$$"
   ]
  },
  {
   "cell_type": "code",
   "execution_count": null,
   "metadata": {
    "collapsed": true
   },
   "outputs": [],
   "source": [
    "def gaussM(A,b,niter=1000,minimo = 0.000001):\n",
    "    \n",
    "    return x\n",
    "\n",
    "def gaussE(A,b,niter=1000,minimo = 0.000001):\n",
    "    \n",
    "    return x"
   ]
  },
  {
   "cell_type": "markdown",
   "metadata": {},
   "source": [
    "#### Exercicios ####\n",
    "\n",
    "1 - Tente resolver todos os sistemas (de M1 a M5) com Jacobi e Gauss-Seidel, tanto na forma matricial quanto na escalar e, nos casos em que o resultado _divergir_, verifique a condição de convergência dos métodos.\n",
    "\n",
    "2 - Use todos os métodos (Gauss, LU com pivotação, Choleski, Jacobi e Gauss-Seidel) e marquem o tempo com `%timeit -n1` para o seguinte sistema:"
   ]
  },
  {
   "cell_type": "code",
   "execution_count": 13,
   "metadata": {},
   "outputs": [
    {
     "name": "stdout",
     "output_type": "stream",
     "text": [
      "[[19  9 11 ...,  9 12  4]\n",
      " [ 9  8 18 ..., 17  4  7]\n",
      " [12 14 14 ..., 17 17  7]\n",
      " ..., \n",
      " [13  9  8 ...,  1 13 14]\n",
      " [10 17  5 ...,  9 15 12]\n",
      " [12  6 18 ..., 13 12  7]]\n"
     ]
    }
   ],
   "source": [
    "MF = np.random.randint(1,20,(10000,10000))\n",
    "bF = np.random.randint(-1000,1000,10000)\n",
    "print(MF)"
   ]
  },
  {
   "cell_type": "code",
   "execution_count": null,
   "metadata": {
    "collapsed": true
   },
   "outputs": [],
   "source": []
  }
 ],
 "metadata": {
  "kernelspec": {
   "display_name": "Python 3",
   "language": "python",
   "name": "python3"
  },
  "language_info": {
   "codemirror_mode": {
    "name": "ipython",
    "version": 3
   },
   "file_extension": ".py",
   "mimetype": "text/x-python",
   "name": "python",
   "nbconvert_exporter": "python",
   "pygments_lexer": "ipython3",
   "version": "3.6.4"
  }
 },
 "nbformat": 4,
 "nbformat_minor": 2
}
