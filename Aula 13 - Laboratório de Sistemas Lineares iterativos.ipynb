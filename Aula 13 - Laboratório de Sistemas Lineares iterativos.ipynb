{
 "cells": [
  {
   "cell_type": "markdown",
   "metadata": {},
   "source": [
    "# Nabson Paiva#\n",
    "\n",
    "### Critérios de parada ###\n",
    "\n",
    "Antes de implementarmos os métodos iterativos, temos que implementar um método para o critério de parada. No nosso caso, usaremos a _norma infinita_. A norma infinita é dada por:\n",
    "\n",
    "$$\\lVert v \\rVert_{\\infty} = \\max_{1\\leq i\\leq n}|v_i|$$ \n",
    "\n",
    "E a distância entre duas soluções iteradas $x^k$ e $x^{k-1}$ pode ser dada por:\n",
    "\n",
    "$$ \\frac{\\lVert x^k - x^{k-1} \\rVert_{\\infty}}{\\lVert x^k\\rVert_{\\infty}} = \\frac{\\max\\limits_{1\\leq i\\leq n}|x_i^{k} - x_i^{k-1}|}{\\max\\limits_{1\\leq i\\leq n}|x_i^k|} \\leq \\epsilon$$\n",
    "\n",
    "Faça uma função para retornar a distância usando a norma infinita de dois vetores:"
   ]
  },
  {
   "cell_type": "code",
   "execution_count": 1,
   "metadata": {},
   "outputs": [],
   "source": [
    "import numpy as np"
   ]
  },
  {
   "cell_type": "code",
   "execution_count": 2,
   "metadata": {},
   "outputs": [],
   "source": [
    "def normaInfinita(v1,v2):\n",
    "    return (np.abs(v2-v1)).max()/np.abs(v2).max()"
   ]
  },
  {
   "cell_type": "code",
   "execution_count": 3,
   "metadata": {},
   "outputs": [],
   "source": [
    "A = np.array([[10,3,-2],[2,8,-1],[1,1,5]],dtype='float64')\n",
    "b = np.array([57,20,-4],dtype='float64')\n",
    "# x ~= [5.0, 1.0 -2.0]"
   ]
  },
  {
   "cell_type": "markdown",
   "metadata": {},
   "source": [
    "## Jacobi ##\n",
    "\n",
    "Para resolver o método de Jacobi, se deve decompor a matriz $A$ em três matrizes compostas dos seus elementos, $D$ (Diagonal), $E$ (triangular inferior) e $F$ (triangular superior).\n",
    "\n",
    "De posse destes elementos, deve-se utilizar esta fórmula de iteração:\n",
    "\n",
    "$$ x^{k+1}=-D^{-1}(E+F)x+D^{-1}b $$\n",
    "\n",
    "Lembrando que para D ter inversa, nenhum elemento da diagonal principal de A pode ser nulo.\n",
    "\n",
    "Desta forma, eu posso utilizar a forma matricial acima para computar as respostas. Implemente o método de Jacobi matricial abaixo:"
   ]
  },
  {
   "cell_type": "code",
   "execution_count": 4,
   "metadata": {},
   "outputs": [],
   "source": [
    "def jacobim(A,b,niter=100,minimo = 0.000001):\n",
    "    Di = np.zeros(A.shape)\n",
    "    F = np.zeros(A.shape)\n",
    "    E = np.zeros(A.shape)\n",
    "    x0 = np.zeros(len(b))\n",
    "    x = np.zeros(len(b))\n",
    "    for i in range(len(A)):\n",
    "        Di[i][i] = 1.0/A[i][i]\n",
    "        F[i,i+1:] = A[i,i+1:]\n",
    "        E[i,:i] = A[i,:i]\n",
    "    J = -Di.dot(E+F)\n",
    "    K = Di.dot(b)\n",
    "    for i in range(niter):\n",
    "        x = J.dot(x0) + K\n",
    "        if (normaInfinita(x0,x) <= minimo):\n",
    "            return x\n",
    "        x0 = x.copy()\n",
    "    return x"
   ]
  },
  {
   "cell_type": "code",
   "execution_count": 5,
   "metadata": {},
   "outputs": [
    {
     "data": {
      "text/plain": [
       "array([ 4.99999964,  1.00000022, -1.99999963])"
      ]
     },
     "execution_count": 5,
     "metadata": {},
     "output_type": "execute_result"
    }
   ],
   "source": [
    "jacobim(A,b)"
   ]
  },
  {
   "cell_type": "markdown",
   "metadata": {},
   "source": [
    "Outra forma de implementar Jacobi é através da fórmula escalar:\n",
    "\n",
    "$$x_i^{k+1}=\\frac{1}{a_{ii}} \\left( \\sum\\limits_{\\substack{j=1 \\\\ i\\neq j}}^{n}{a_{ij}x_j^k+b_i} \\right)$$\n",
    "\n",
    "Implemente a forma escalar do jacobi:"
   ]
  },
  {
   "cell_type": "code",
   "execution_count": 6,
   "metadata": {},
   "outputs": [],
   "source": [
    "def jacobie(A,b,niter=1000,minimo = 0.000001):\n",
    "    t = len(b)\n",
    "    x0 = np.zeros(t,dtype='float64')\n",
    "    x = np.zeros(t,dtype='float64')\n",
    "    for n in range(niter):\n",
    "        for i in range(t):\n",
    "            x[i] = 1.0/A[i,i] * (-sum([A[i,j]*x0[j] for j in range(t) if i != j]) + b[i])\n",
    "        if (normaInfinita(x0,x) <= minimo):\n",
    "            return x\n",
    "        x0 = x.copy()\n",
    "    return x"
   ]
  },
  {
   "cell_type": "code",
   "execution_count": 7,
   "metadata": {},
   "outputs": [
    {
     "data": {
      "text/plain": [
       "array([ 4.99999964,  1.00000022, -1.99999963])"
      ]
     },
     "execution_count": 7,
     "metadata": {},
     "output_type": "execute_result"
    }
   ],
   "source": [
    "jacobie(A,b)"
   ]
  },
  {
   "cell_type": "markdown",
   "metadata": {},
   "source": [
    "Para o método de Jacobi (e o Gauss-Seidel) convergirem para um resultado correto, elas tem que ter condições de convergência:\n",
    "\n",
    "- Condição suficiente: Elementos da diagonal principal estritamente dominantes.\n",
    "\n",
    "$$ |a_{ii}|> \\sum\\limits_{\\substack{j=1 \\\\ j\\neq i}}^{n}{|a_{ij}|,i=1,2,...,n}$$\n",
    "\n",
    "Esta condição se verdadeira garante a convergência. Contudo, mesmo se ela for falsa o sistema ainda pode convergir.\n",
    "\n",
    "- Condição necessária: $\\rho(M)<1$, sendo $\\rho(M)$ o raio espectral, o maior autovalor em módulo.\n",
    "\n",
    "Faça uma função que verifique se um sistema com uma matriz de coeficientes A pode ser solucionado via jacobi, testando primeiro a condição suficiente e, em caso negativo, testando a condição necessária:"
   ]
  },
  {
   "cell_type": "code",
   "execution_count": 8,
   "metadata": {},
   "outputs": [],
   "source": [
    "def podeJacobi(A):\n",
    "    pode = True\n",
    "    t = len(A)\n",
    "    for i in range(t):\n",
    "        if np.abs(A[i,i]) <= np.abs(sum([A[i,j] for j in range(t) if i != j])):\n",
    "            pode = False\n",
    "            break\n",
    "    if (pode or np.abs(np.linalg.eig(A)[0]).max() < 1):\n",
    "        pode = True\n",
    "    return pode"
   ]
  },
  {
   "cell_type": "code",
   "execution_count": 9,
   "metadata": {},
   "outputs": [
    {
     "data": {
      "text/plain": [
       "True"
      ]
     },
     "execution_count": 9,
     "metadata": {},
     "output_type": "execute_result"
    }
   ],
   "source": [
    "podeJacobi(A)"
   ]
  },
  {
   "cell_type": "markdown",
   "metadata": {},
   "source": [
    "## Gauss-Seidel ##\n",
    "\n",
    "Função de iteração:\n",
    "\n",
    "$$ x^{k+1}=D^{-1}(-Ex^{k+1}-Fx^{k}+b)$$\n",
    "\n",
    "Lembrando que multiplicar por $D^{-1}$ é o mesmo que dividir cada linha pelo elemento da diagonal principal desta linha em A\n",
    "\n",
    "A forma mais simples de fazer o Gauss Seidel matricialmente é linha a linha (calculando a formula acima pra cada linha da solução X)\n",
    "\n",
    "Implemente Gauss-Seidel na forma Matricial e na forma escalar (acessando os elementos individualmente das matrizes)\n",
    "\n",
    "Fórmula escalar:\n",
    "\n",
    "$$ x^{k+1}_{i} = \\frac{1}{a_{ii}}(-\\sum\\limits_{\\substack{j=0}}^{i-1}{a_{ij}x^{k+1}_{j}} - \\sum\\limits_{\\substack{j=i+1}}^{n}{a_{ij}x^{k}_{j} + b_{i}}), i=1,2,...,n$$"
   ]
  },
  {
   "cell_type": "code",
   "execution_count": 10,
   "metadata": {},
   "outputs": [],
   "source": [
    "def gaussM(A,b,niter=1000,minimo = 0.000001):\n",
    "    Di = np.zeros(A.shape)\n",
    "    F = np.zeros(A.shape)\n",
    "    E = np.zeros(A.shape)\n",
    "    x0 = np.zeros(len(b))\n",
    "    x = np.zeros(len(b))\n",
    "    for i in range(len(A)):\n",
    "        Di[i][i] = 1.0/A[i][i]\n",
    "        F[i,i+1:] = A[i,i+1:]\n",
    "        E[i,:i] = A[i,:i]\n",
    "    for i in range(niter):\n",
    "        x = Di.dot(-E.dot(x) - F.dot(x0) + b)\n",
    "        if (normaInfinita(x0,x) <= minimo):\n",
    "            return x\n",
    "        x0 = x.copy()\n",
    "    return x\n",
    "\n",
    "def gaussE(A,b,niter=1000,minimo = 0.000001):\n",
    "    t = len(b)\n",
    "    x0 = np.zeros(t,dtype='float64')\n",
    "    x = np.zeros(t,dtype='float64')\n",
    "    for n in range(niter):\n",
    "        for i in range(t):\n",
    "            x[i] = 1.0/A[i,i]*(-sum([A[i,j]*x[j] for j in range(i)])-sum([A[i,j]*x0[j] for j in range(i+1,t)])+b[i])\n",
    "        if (normaInfinita(x0,x) <= minimo):\n",
    "            return x\n",
    "        x0 = x.copy()\n",
    "    return x"
   ]
  },
  {
   "cell_type": "code",
   "execution_count": 11,
   "metadata": {},
   "outputs": [
    {
     "data": {
      "text/plain": [
       "array([ 4.99999964,  1.00000022, -1.99999963])"
      ]
     },
     "execution_count": 11,
     "metadata": {},
     "output_type": "execute_result"
    }
   ],
   "source": [
    "gaussM(A,b)"
   ]
  },
  {
   "cell_type": "code",
   "execution_count": 12,
   "metadata": {},
   "outputs": [
    {
     "data": {
      "text/plain": [
       "array([ 5.00000015,  1.00000002, -2.00000003])"
      ]
     },
     "execution_count": 12,
     "metadata": {},
     "output_type": "execute_result"
    }
   ],
   "source": [
    "gaussE(A,b)"
   ]
  },
  {
   "cell_type": "markdown",
   "metadata": {},
   "source": [
    "## Exercicios ##"
   ]
  },
  {
   "cell_type": "markdown",
   "metadata": {},
   "source": [
    "### 1 - Tente resolver todos os sistemas (de M1 a M5) com Jacobi e Gauss-Seidel, tanto na forma matricial quanto na escalar e, nos casos em que o resultado _divergir_, verifique a condição de convergência dos métodos."
   ]
  },
  {
   "cell_type": "code",
   "execution_count": 13,
   "metadata": {},
   "outputs": [],
   "source": [
    "def resolveIterativo(M,b):\n",
    "    if podeJacobi(M):\n",
    "        print(\"Resultado converge por Jacobi e Gauss-Seidel.\")\n",
    "    else:\n",
    "        print(\"Resultado diverge por Jacobi e Gauss-Seidel.\")\n",
    "    print(\"Solução por Jacobi Matricial:\",jacobim(M,b))\n",
    "    print(\"Solução por Jacobi Escalar:\",jacobie(M,b))\n",
    "    print(\"Solução por Gauss-Seidel Matricial:\",gaussE(M,b))\n",
    "    print(\"Solução por Gauss-Seidel Escalar:\",gaussE(M,b))"
   ]
  },
  {
   "cell_type": "code",
   "execution_count": 14,
   "metadata": {},
   "outputs": [
    {
     "name": "stdout",
     "output_type": "stream",
     "text": [
      "Sistema 1\n",
      "Resultado diverge por Jacobi e Gauss-Seidel.\n",
      "Solução por Jacobi Matricial: [1.25152030e+54 2.13425771e+54 1.87679433e+54 6.93490209e+53]\n",
      "Solução por Jacobi Escalar: [nan nan nan nan]\n",
      "Solução por Gauss-Seidel Matricial: [nan nan nan nan]\n",
      "Solução por Gauss-Seidel Escalar: [nan nan nan nan]\n",
      "\n",
      "Sistema 2\n",
      "Resultado diverge por Jacobi e Gauss-Seidel.\n"
     ]
    },
    {
     "name": "stderr",
     "output_type": "stream",
     "text": [
      "/home/nabson/anaconda3/lib/python3.7/site-packages/ipykernel_launcher.py:7: RuntimeWarning: overflow encountered in double_scalars\n",
      "  import sys\n",
      "/home/nabson/anaconda3/lib/python3.7/site-packages/ipykernel_launcher.py:2: RuntimeWarning: invalid value encountered in double_scalars\n",
      "  \n",
      "/home/nabson/anaconda3/lib/python3.7/site-packages/ipykernel_launcher.py:2: RuntimeWarning: invalid value encountered in subtract\n",
      "  \n",
      "/home/nabson/anaconda3/lib/python3.7/site-packages/ipykernel_launcher.py:7: RuntimeWarning: invalid value encountered in double_scalars\n",
      "  import sys\n",
      "/home/nabson/anaconda3/lib/python3.7/site-packages/ipykernel_launcher.py:24: RuntimeWarning: overflow encountered in double_scalars\n",
      "/home/nabson/anaconda3/lib/python3.7/site-packages/ipykernel_launcher.py:24: RuntimeWarning: invalid value encountered in double_scalars\n"
     ]
    },
    {
     "name": "stdout",
     "output_type": "stream",
     "text": [
      "Solução por Jacobi Matricial: [1.55963841e+52 5.90446286e+52 3.11818759e+51 1.85883743e+51]\n",
      "Solução por Jacobi Escalar: [nan nan nan nan]\n",
      "Solução por Gauss-Seidel Matricial: [nan nan nan nan]\n",
      "Solução por Gauss-Seidel Escalar: [nan nan nan nan]\n",
      "\n",
      "Sistema 3\n",
      "Resultado converge por Jacobi e Gauss-Seidel.\n",
      "Solução por Jacobi Matricial: [-1.00000058e+00  3.45632528e-07  1.99999962e+00]\n",
      "Solução por Jacobi Escalar: [-1.00000058e+00  3.45632528e-07  1.99999962e+00]\n",
      "Solução por Gauss-Seidel Matricial: [-9.99999866e-01 -1.08684894e-08  1.99999997e+00]\n",
      "Solução por Gauss-Seidel Escalar: [-9.99999866e-01 -1.08684894e-08  1.99999997e+00]\n",
      "\n",
      "Sistema 4\n",
      "Resultado diverge por Jacobi e Gauss-Seidel.\n",
      "Solução por Jacobi Matricial: [ 2.80411320e+27 -3.61437233e+27  9.76323471e+26  1.06456711e+27]\n",
      "Solução por Jacobi Escalar: [ 6.67871181e+286 -8.60855090e+286  2.32536372e+286  2.53553848e+286]\n",
      "Solução por Gauss-Seidel Matricial: [ 2.00004163  5.99986782 -0.99997997  0.99994962]\n",
      "Solução por Gauss-Seidel Escalar: [ 2.00004163  5.99986782 -0.99997997  0.99994962]\n",
      "\n",
      "Sistema 5\n",
      "Resultado diverge por Jacobi e Gauss-Seidel.\n",
      "Solução por Jacobi Matricial: [ 2.23142756e+21 -7.48304104e+21  1.02196511e+21  2.18957762e+21]\n",
      "Solução por Jacobi Escalar: [ 1.47560367e+226 -4.94840300e+226  6.75807495e+225  1.44792904e+226]\n",
      "Solução por Gauss-Seidel Matricial: [ 1.85709572e+56  5.78731403e+57 -6.18417871e+56  1.85288463e+57]\n",
      "Solução por Gauss-Seidel Escalar: [ 1.85709572e+56  5.78731403e+57 -6.18417871e+56  1.85288463e+57]\n"
     ]
    }
   ],
   "source": [
    "M1 = np.array([[1,-3,5,6], [-8,4,-1,0],[3,2,-2,7],[1,2,5,-4]],dtype='float')\n",
    "b1 = np.array([17,29,-11,7],dtype='float')\n",
    "print(\"Sistema 1\")\n",
    "resolveIterativo(M1,b1)\n",
    "\n",
    "M2 = np.array([[-2,3,1,5],[5,1,-1,0],[1,6,3,-1],[4,5,2,8]],dtype='float')\n",
    "b2 = np.array([2,-1,0,6],dtype='float')\n",
    "print(\"\\nSistema 2\")\n",
    "resolveIterativo(M2,b2)\n",
    "\n",
    "M3 = np.array([[9,-6,3],[-6,29,-7],[3,-7,18]],dtype='float')\n",
    "b3 = np.array([-3,-8,33],dtype='float')\n",
    "print(\"\\nSistema 3\")\n",
    "resolveIterativo(M3,b3)\n",
    "\n",
    "M4 = np.array([[4,-2,4,10],[-2,2,-1,-7],[4,-1,14,11],[10,-7,11,31]],dtype='float')\n",
    "b4 = np.array([2,2,-1,-2],dtype='float')\n",
    "print(\"\\nSistema 4\")\n",
    "resolveIterativo(M4,b4)\n",
    "\n",
    "M5 = np.array([[16,-4,4,12],[-4,2,-1,-7],[4,-1,26,13],[12,-7,13,25]],dtype='float')\n",
    "b5 = np.array([2,2,-1,-2],dtype='float')\n",
    "print(\"\\nSistema 5\")\n",
    "resolveIterativo(M5,b5)"
   ]
  },
  {
   "cell_type": "markdown",
   "metadata": {},
   "source": [
    "### 2 - Use todos os métodos (Gauss, LU com pivotação, Choleski, Jacobi e Gauss-Seidel) e marquem o tempo com `%timeit -n1` para o seguinte sistema:"
   ]
  },
  {
   "cell_type": "code",
   "execution_count": 15,
   "metadata": {},
   "outputs": [],
   "source": [
    "def resolveTS(A,b): #A Triangular Superior\n",
    "    x = np.zeros(len(A))\n",
    "    for i in range(len(A)-1,-1,-1):\n",
    "        x[i] = (b[i] - (A[i][i+1:]*x[i+1:]).sum())/A[i][i]\n",
    "    return x\n",
    "\n",
    "def resolveTI(A,b): #A Triangular Inferior\n",
    "    x = np.zeros(len(b))\n",
    "    for i in range(len(b)):\n",
    "        x[i] = (b[i] - (A[i][:i]*x[:i]).sum())/A[i][i] # x[<intervalo_fechado>:<intervalo_aberto>]\n",
    "    return x\n",
    "\n",
    "# Eliminação Gaussiana\n",
    "def eliminacaoGaussianaSimples(A0,b):\n",
    "    M = np.zeros(A0.shape)\n",
    "    A = np.concatenate((A0,b.reshape(len(b),1)),axis=1)\n",
    "    for i in range(len(A)-1):\n",
    "        A[i+1:] -= (A[i+1:,i]/A[i][i]).reshape((len(M[i+1:]),1))*A[i]\n",
    "    return resolveTS(A[:,:len(b)],A[:,len(b)])\n",
    "\n",
    "# Decomposição LU com pivotação parcial\n",
    "def LUparcial(A):\n",
    "    t = A.shape[0]\n",
    "    P = np.identity(t)\n",
    "    U = A.copy()\n",
    "    L = np.zeros(A.shape)\n",
    "    for i in range(t):\n",
    "        lp = np.argmax(np.abs(U[i:,i])) + i\n",
    "        U[[i,lp]] = U[[lp,i]]\n",
    "        L[[i,lp]] = L[[lp,i]]\n",
    "        P[[i,lp]] = P[[lp,i]]\n",
    "        L[i][i]=1\n",
    "        for j in range(i+1,t):\n",
    "            u = U[j][i]/U[i][i]\n",
    "            L[j][i] = u\n",
    "            U[j] -= U[i]*u\n",
    "    return L,U,P\n",
    "\n",
    "def resolveLUpar(L,U,P,b):\n",
    "    y = resolveTI(L,np.dot(P,b))\n",
    "    return resolveTS(U,y)\n",
    "\n",
    "def LUpar(A,b):\n",
    "    L,U,P = LUparcial(A)\n",
    "    return resolveLUpar(L,U,P,b)\n",
    "\n",
    "# Método de Cholesky\n",
    "def verificaCholesky(A):\n",
    "    return (A == A.T).all() and (A.diagonal() > 0).all() and (np.linalg.eig(A)[0] > 0).all() and verificaPivot(A)\n",
    "\n",
    "def geraCholesky(A):\n",
    "    L = np.zeros(A.shape)\n",
    "    for j in range(len(A)):\n",
    "        L[j][j] = np.sqrt(A[j][j] - (np.power(L[j][:j],2).sum()))\n",
    "        for i in range(len(A)):\n",
    "            L[i,j] = (A[i,j]- (L[i,:j]*L[j,:j]).sum())/L[j,j]\n",
    "    j = len(A)-1\n",
    "    L[j,j] = np.sqrt(A[j,j]-(L[j][:j]**2).sum())\n",
    "    return L\n",
    "\n",
    "def resolveLU(L,U,b):\n",
    "    y = resolveTI(L,b)\n",
    "    return resolveTS(U,y)\n",
    "\n",
    "def cholesky(A,b):\n",
    "    L = geraCholesky(A)\n",
    "    return resolveLU(L,L.T,b)"
   ]
  },
  {
   "cell_type": "code",
   "execution_count": 16,
   "metadata": {},
   "outputs": [
    {
     "name": "stdout",
     "output_type": "stream",
     "text": [
      "[[ 9.  8. 10. ... 10. 18.  2.]\n",
      " [11.  3.  9. ... 11.  6. 11.]\n",
      " [ 7. 12. 15. ... 13.  7. 13.]\n",
      " ...\n",
      " [10. 16.  1. ... 13.  6.  3.]\n",
      " [ 8.  1.  9. ... 13. 11. 15.]\n",
      " [ 3. 16. 14. ...  9.  1.  6.]]\n"
     ]
    }
   ],
   "source": [
    "# Estou fazendo 100x100 porque é o máximo que meu PC é capaz de processar\n",
    "n = 100\n",
    "MF = np.random.randint(1,20,(n,n))\n",
    "bF = np.random.randint(-1000,1000,n)\n",
    "MF = MF + 0.0\n",
    "bF = bF + 0.0\n",
    "print(MF)"
   ]
  },
  {
   "cell_type": "code",
   "execution_count": 17,
   "metadata": {},
   "outputs": [
    {
     "name": "stdout",
     "output_type": "stream",
     "text": [
      "Resolução por Eliminação Gaussiana:\n",
      "4.96 ms ± 1.52 ms per loop (mean ± std. dev. of 7 runs, 1 loop each)\n",
      "Resolução por Decomposição LU Parcial:\n",
      "48.8 ms ± 20.6 ms per loop (mean ± std. dev. of 7 runs, 1 loop each)\n",
      "Resolução por Cholesky:\n"
     ]
    },
    {
     "name": "stderr",
     "output_type": "stream",
     "text": [
      "/home/nabson/anaconda3/lib/python3.7/site-packages/ipykernel_launcher.py:54: RuntimeWarning: invalid value encountered in sqrt\n"
     ]
    },
    {
     "name": "stdout",
     "output_type": "stream",
     "text": [
      "70.6 ms ± 4.76 ms per loop (mean ± std. dev. of 7 runs, 1 loop each)\n",
      "Resolução por Jacobi:\n"
     ]
    },
    {
     "name": "stderr",
     "output_type": "stream",
     "text": [
      "/home/nabson/anaconda3/lib/python3.7/site-packages/ipykernel_launcher.py:7: RuntimeWarning: overflow encountered in double_scalars\n",
      "  import sys\n",
      "/home/nabson/anaconda3/lib/python3.7/site-packages/ipykernel_launcher.py:2: RuntimeWarning: invalid value encountered in double_scalars\n",
      "  \n"
     ]
    },
    {
     "name": "stdout",
     "output_type": "stream",
     "text": [
      "6.2 s ± 211 ms per loop (mean ± std. dev. of 7 runs, 1 loop each)\n",
      "Resolução por Gauss-Seidel:\n"
     ]
    },
    {
     "name": "stderr",
     "output_type": "stream",
     "text": [
      "/home/nabson/anaconda3/lib/python3.7/site-packages/ipykernel_launcher.py:24: RuntimeWarning: overflow encountered in double_scalars\n",
      "/home/nabson/anaconda3/lib/python3.7/site-packages/ipykernel_launcher.py:24: RuntimeWarning: invalid value encountered in double_scalars\n"
     ]
    },
    {
     "name": "stdout",
     "output_type": "stream",
     "text": [
      "5.88 s ± 109 ms per loop (mean ± std. dev. of 7 runs, 1 loop each)\n"
     ]
    }
   ],
   "source": [
    "print(\"Resolução por Eliminação Gaussiana:\")\n",
    "%timeit -n1 eliminacaoGaussianaSimples(MF,bF)\n",
    "print(\"Resolução por Decomposição LU Parcial:\")\n",
    "%timeit -n1 LUpar(MF,bF)\n",
    "print(\"Resolução por Cholesky:\")\n",
    "%timeit -n1 cholesky(MF,bF)\n",
    "print(\"Resolução por Jacobi:\")\n",
    "%timeit -n1 jacobie(MF,bF)\n",
    "print(\"Resolução por Gauss-Seidel:\")\n",
    "%timeit -n1 gaussE(MF,bF)"
   ]
  }
 ],
 "metadata": {
  "kernelspec": {
   "display_name": "Python 3",
   "language": "python",
   "name": "python3"
  },
  "language_info": {
   "codemirror_mode": {
    "name": "ipython",
    "version": 3
   },
   "file_extension": ".py",
   "mimetype": "text/x-python",
   "name": "python",
   "nbconvert_exporter": "python",
   "pygments_lexer": "ipython3",
   "version": "3.7.2"
  }
 },
 "nbformat": 4,
 "nbformat_minor": 2
}
