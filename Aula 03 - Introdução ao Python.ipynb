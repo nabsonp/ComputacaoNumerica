{
 "cells": [
  {
   "cell_type": "markdown",
   "metadata": {},
   "source": [
    "# Python Básico para Computação Numérica"
   ]
  },
  {
   "cell_type": "markdown",
   "metadata": {},
   "source": [
    "## André Luiz da Costa Carvalho\n",
    "### andre@icomp.ufam.edu.br"
   ]
  },
  {
   "cell_type": "markdown",
   "metadata": {},
   "source": [
    "\n",
    "## Na Aula de Hoje:\n",
    "\n",
    "-  Python básico\n",
    "-  Básico do use de Notebooks Jupyter\n",
    "-  Vetores em Numpy\n",
    "-  Plotando com Matplotlib\n",
    "\n",
    "\n",
    "## Introdução\n",
    "\n",
    "Nesta aula, veremos algumas formas de utilizar Python para computação numérica. Se você já conhece Python, ótimo. Esta aula não focará na linguagem básica. Se não conhece, tudo bem. Para o que veremos nesta aula, basta um conhecimento bem básico.\n",
    "\n",
    "Pré-Requisitos de Software: Python 3.X + Numpy + Matplotlib + Jupyter.\n",
    "\n",
    "#### Como instalar?\n",
    "\n",
    "Jeito mais simples: baixe o Anaconda, que já instalará todos os pacotes necessários https://www.anaconda.com/download/\n",
    "\n",
    "Se quiser, pode ir instalando tudo manualmente também (se vire)\n",
    "\n",
    "#### Para rodar o Jupyter notebook\n",
    "\n",
    "__No lab:__ Vá a um terminal e rode: `jupyter notebook`\n",
    "\n",
    "__Com o Anaconda:__ abra um prompt anaconda e lá rode o mesmo comando (ou escolha no menu)\n",
    "\n",
    "\n",
    "## Python Básico com Notebooks\n",
    "\n",
    "_Tenha certeza que você rodou o jupyter notebook e que usou ele pra rodar o arquivo aulaPython.ipynb_\n",
    "\n",
    "\n",
    "Um notebook python é uma forma simplificada de misturar texto e código Python, simplificando a documentação e explicação de seu funcionamento. A unidade básica em um notebook é a célula.\n",
    "\n",
    "#### Rode a célula abaixo selecionando-a e pressionando Shift+enter:"
   ]
  },
  {
   "cell_type": "markdown",
   "metadata": {},
   "source": [
    "Linguagem markdown que é essa forma de escrever os textos nas células\n",
    "\n",
    "Markdown são células de texto"
   ]
  },
  {
   "cell_type": "raw",
   "metadata": {},
   "source": [
    "Notebook é uma mistura texto+code executável\n",
    "mistura relatório com código\n",
    "roda no navegador"
   ]
  },
  {
   "cell_type": "markdown",
   "metadata": {},
   "source": [
    "Jupyter roda o python iterativo no fundo\n",
    "é como se tivesse usado o comando python3 no terminal"
   ]
  },
  {
   "cell_type": "code",
   "execution_count": 1,
   "metadata": {},
   "outputs": [
    {
     "data": {
      "text/plain": [
       "8"
      ]
     },
     "execution_count": 1,
     "metadata": {},
     "output_type": "execute_result"
    }
   ],
   "source": [
    "4*2"
   ]
  },
  {
   "cell_type": "markdown",
   "metadata": {},
   "source": [
    "Aperte 'a' para criar uma célula acima da atual, e 'b' abaixo. Você também pode usar os menus para isto. Para transformar uma célula em texto (markdown), aperte m. Para transformar em código de novo, aperte y. Ctrl+Shift+- Quebra a célula em duas."
   ]
  },
  {
   "cell_type": "markdown",
   "metadata": {},
   "source": [
    "## Kernels\n",
    "\n",
    "As células de código são interpretadas pelo Python. Após uma célula ser rodada, um número aparece entre os colchetes. Este número indica __a ordem__ em que as células foram executadas.\n",
    "\n",
    "## Python Básico\n",
    "\n",
    "Python é uma linguagem de programação com variáveis com tipos definidos, porém determinados _implicitamente_. Isto significa que o Python infere o tipo de uma variável de acordo com o contexto do seu primeiro uso. Você só vai ver erros de variável em Python se tentar fazer condições com variáveis não previamente criadas."
   ]
  },
  {
   "cell_type": "markdown",
   "metadata": {},
   "source": [
    "variavel definida implicitamente - o tipo nao é especificado\n",
    "o python já vê o tipo pelo dado atribuido\n",
    "as var criadas em uma célula estão disponívis em todas as células\n",
    "Se reiniciar o kernel, tudo o que rodou até agora é perdido"
   ]
  },
  {
   "cell_type": "code",
   "execution_count": 2,
   "metadata": {},
   "outputs": [
    {
     "name": "stdout",
     "output_type": "stream",
     "text": [
      "5 5.0 string\n",
      "5\n"
     ]
    },
    {
     "data": {
      "text/plain": [
       "[5, 5.0, 'string']"
      ]
     },
     "execution_count": 2,
     "metadata": {},
     "output_type": "execute_result"
    }
   ],
   "source": [
    "n = 2+3\n",
    "fl = 2.0 + 3.0\n",
    "st = \"string\"\n",
    "l = [n,fl,st]\n",
    "print(n,fl,st)\n",
    "print(l[0])\n",
    "l"
   ]
  },
  {
   "cell_type": "markdown",
   "metadata": {},
   "source": [
    "Além disto, Python também aceita formatos mais \"estranhos\" de atribuição"
   ]
  },
  {
   "cell_type": "code",
   "execution_count": 3,
   "metadata": {},
   "outputs": [],
   "source": [
    "x,y,a = 1,2,-3 # atribui na ordem\n",
    "x,y = y,x # troca os valores sem uma var auxiliar\n",
    "b = c = 123 # ambos recebem o mesmo valor\n",
    "a+=n # n veio da celula anterior"
   ]
  },
  {
   "cell_type": "markdown",
   "metadata": {},
   "source": [
    "Cada notebook tem um ambiente que guarda os valores das variáveis criadas até então, que existirão enquanto o kernel não for parado.\n",
    "\n",
    "Cada célula, ao ser executada, mostra o conteúdos dos prints imediatamente abaixo da mesma. Se você modificar e rodar de novo, a saída anterior é apagada e a nova é mostrada.\n",
    "\n",
    "#### Exercício\n",
    "\n",
    "Dadas as variaveis a,b e c criadas anteriormente, assuma que são os coeficientes de uma equação de segundo grau e calcule o seu delta na célula abaixo"
   ]
  },
  {
   "cell_type": "code",
   "execution_count": 4,
   "metadata": {},
   "outputs": [
    {
     "data": {
      "text/plain": [
       "14145"
      ]
     },
     "execution_count": 4,
     "metadata": {},
     "output_type": "execute_result"
    }
   ],
   "source": [
    "d = b**2 - 4*a*c\n",
    "d"
   ]
  },
  {
   "cell_type": "markdown",
   "metadata": {},
   "source": [
    "### Estruturas de bloco\n",
    "\n",
    "Em Python, os blocos são indicados unicamente atráves de __identação__. Nada de {}s nem nada. Por isso a identação em códigos Python é essencial (se estiver errada o interpretador vai dar erro). No final de cada comando que pode gerar um bloco, o operador `:` é colocado para indicar que vai começar um novo nível de identação \n",
    "\n",
    "#### Exemplos:"
   ]
  },
  {
   "cell_type": "code",
   "execution_count": 5,
   "metadata": {},
   "outputs": [
    {
     "name": "stdout",
     "output_type": "stream",
     "text": [
      "O Valor esta OK.\n",
      "O Valor esta OK.\n",
      "Iteracao n# 1\n",
      "Iteracao n# 2\n",
      "Iteracao n# 3\n",
      "Iteracao n# 4\n",
      "Iteracao n# 5\n",
      "x ainda nao eh negativo.\r",
      "x ainda nao eh negativo.\r",
      "x ainda nao eh negativo.\r",
      "x ainda nao eh negativo.\r",
      "x ainda nao eh negativo.\r",
      "x ainda nao eh negativo.\r",
      "x ainda nao eh negativo.\r",
      "x ainda nao eh negativo.\r",
      "x ainda nao eh negativo.\r",
      "x ainda nao eh negativo.\r",
      "x ainda nao eh negativo.\r"
     ]
    }
   ],
   "source": [
    "if x < 5 or (x > 10 and x < 20):\n",
    "    print(\"O Valor esta OK.\")\n",
    "\n",
    "if x < 5 or 10 < x < 20:\n",
    "    print(\"O Valor esta OK.\")\n",
    "\n",
    "# for each: iterador de listas\n",
    "for i in [1,2,3,4,5]:\n",
    "    print(\"Iteracao n#\", i)\n",
    "\n",
    "x = 10\n",
    "while x >= 0:\n",
    "    print(\"x ainda nao eh negativo.\",end='\\r')\n",
    "    x = x-1"
   ]
  },
  {
   "cell_type": "markdown",
   "metadata": {},
   "source": [
    "### Exercício\n",
    "\n",
    "Adicione os valores de a,b e c abaixo e verifique quantas raízes reais uma equação de segundo grau com eles tem."
   ]
  },
  {
   "cell_type": "code",
   "execution_count": 6,
   "metadata": {},
   "outputs": [
    {
     "name": "stdout",
     "output_type": "stream",
     "text": [
      "Duas raízes.\n"
     ]
    }
   ],
   "source": [
    "a = 1\n",
    "b = 4\n",
    "c = 1\n",
    "\n",
    "#Checa se estes valores geram duas, uma ou nenhuma raiz real\n",
    "if (a == 0):\n",
    "    print(\"Não é uma raíz de segundo grau.\")\n",
    "else:\n",
    "    d = b**2 - 4*a*c\n",
    "    if (d > 0):\n",
    "        print(\"Duas raízes.\")\n",
    "    elif (d == 0):\n",
    "        print(\"Uma raíz.\")\n",
    "    else:\n",
    "        print(\"Não possui raízes reais.\")"
   ]
  },
  {
   "cell_type": "code",
   "execution_count": 7,
   "metadata": {},
   "outputs": [
    {
     "name": "stdout",
     "output_type": "stream",
     "text": [
      "Valor é 0\n",
      "Valor é 1\n",
      "Valor é 2\n",
      "Outro Intervalo 1\n",
      "Outro Intervalo 2\n",
      "Outro Intervalo 3\n",
      "Outro Intervalo 4\n",
      "Decrescente: 10\n",
      "Decrescente: 8\n",
      "Decrescente: 6\n",
      "Decrescente: 4\n",
      "Decrescente: 2\n"
     ]
    }
   ],
   "source": [
    "for i in range(3):\n",
    "    print(\"Valor é\",i)\n",
    "    \n",
    "for x in range(1,5):\n",
    "    print(\"Outro Intervalo\",x)\n",
    "\n",
    "#Decrescente com passo -2\n",
    "# range(inicio,parada,passo)\n",
    "for j in range(10,1,-2):\n",
    "    print(\"Decrescente:\",j)"
   ]
  },
  {
   "cell_type": "markdown",
   "metadata": {},
   "source": [
    "Altere o código abaixo para arredondar os valores da lista abaixo para o valor inteiro mais próximo."
   ]
  },
  {
   "cell_type": "code",
   "execution_count": 12,
   "metadata": {},
   "outputs": [
    {
     "data": {
      "text/plain": [
       "[2, 1, 3, 5, 1, 1]"
      ]
     },
     "execution_count": 12,
     "metadata": {},
     "output_type": "execute_result"
    }
   ],
   "source": [
    "lista = [1.6,1.3,2.7,4.8,1.3,0.9]\n",
    "for i in range(len(lista)):\n",
    "    if (lista[i]%1 <= 0.5):\n",
    "        lista[i] = int(lista[i])\n",
    "    else:\n",
    "        lista[i] = int(lista[i]) + 1\n",
    "lista\n",
    "#arredonda aqui cara"
   ]
  },
  {
   "cell_type": "markdown",
   "metadata": {},
   "source": [
    "O comando `for` em Python tem uma sintaxe um pouco diferente. Um `for` itera _sobre os elementos de uma lista_. A cada iteração, a variável de controle (o `i`, por exemplo) recebe um dos elementos da lista. Para fazer um for com contadores, pode-se usar a função `range()`, que cria uma lista com elementos em um intervalo dado."
   ]
  },
  {
   "cell_type": "markdown",
   "metadata": {},
   "source": [
    "### Estruturas de dados\n",
    "\n",
    "A estrutura de dados composta mais básica no Python é a lista. Ela funciona como um vetor padrão, porém com muito mais flexibilidade. Cada elemento pode ter um tipo diferente, int, float, string ou até outras listas, e podem ser acessados via `[]`"
   ]
  },
  {
   "cell_type": "markdown",
   "metadata": {},
   "source": [
    "listas em python são mais lentas que vetores em C\n",
    "como as listas podem ser de qualquer tipo, não dá para fazer como C que é só sizeof(dado)*indice\n",
    "é bom pq é muito maleável, mas é mais lenta fazendo malloc no meio e tudo muito louco\n"
   ]
  },
  {
   "cell_type": "code",
   "execution_count": 13,
   "metadata": {},
   "outputs": [
    {
     "name": "stdout",
     "output_type": "stream",
     "text": [
      "3\n",
      "[1, 2.0, 'string', [4, 5, [5, 5.0, 'string']]]\n",
      "5.0\n",
      "4 3\n",
      "True\n"
     ]
    }
   ],
   "source": [
    "l1 = [1,2,3]\n",
    "print(l1[2])\n",
    "l2 = [1, 2.0, \"string\",[4,5,l]] #valor de l vem la de cima\n",
    "\n",
    "print(l2)\n",
    "print(l2[3][2][1])\n",
    "print(len(l2),len(l2[3]))\n",
    "print(2 in l1) #verifica se o elemento pertence a lista"
   ]
  },
  {
   "cell_type": "markdown",
   "metadata": {},
   "source": [
    "O acesso também pode ser feito com o operador de intervalos `:`"
   ]
  },
  {
   "cell_type": "code",
   "execution_count": 14,
   "metadata": {},
   "outputs": [
    {
     "name": "stdout",
     "output_type": "stream",
     "text": [
      "[1, 3, 5, 7, 9, 11, 13, 15, 17, 19, 21, 23, 25, 27, 29, 31, 33, 35, 37, 39, 41, 43, 45, 47, 49, 51, 53, 55, 57, 59, 61, 63, 65, 67, 69, 71, 73, 75, 77, 79, 81, 83, 85, 87, 89, 91, 93, 95, 97, 99]\n",
      "[21, 23, 25, 27, 29, 31, 33, 35, 37, 39]\n",
      "[95, 97, 99]\n"
     ]
    }
   ],
   "source": [
    "nums = list(range(1,100,2))\n",
    "print(nums)\n",
    "print(nums[10:20])\n",
    "print(nums[-3:]) # do antepenultimo até o fim\n",
    "# -1 é o último, -2 é o penúltimo..."
   ]
  },
  {
   "cell_type": "markdown",
   "metadata": {},
   "source": [
    "Outra estrutura impotante em Python são os dicionários: Eles são _hashs_, estruturas que associam uma chave a um conteúdo. Na prática, eles são como listas, contudo ao invés de serem indexados por números, cada elemento tem uma chave, ou nome, que é usada para identificar cada elemento. Dicionários são identificados, na criação, pelo uso de `{}` (o acesso ainda é feito por colchetes."
   ]
  },
  {
   "cell_type": "code",
   "execution_count": 15,
   "metadata": {},
   "outputs": [
    {
     "name": "stdout",
     "output_type": "stream",
     "text": [
      "9876543\n",
      "Andre Luiz: 2345678\n"
     ]
    }
   ],
   "source": [
    "telefones = {\"Jose\":12345678,\"Maria\":66666666,\"Carlos\":9876543}\n",
    "print(telefones[\"Carlos\"])\n",
    "pessoa = {'Nome':\"Andre\",\"Sobrenome\":\"Luiz\",'Telefone Comercial':2345678}\n",
    "print(pessoa['Nome'],pessoa['Sobrenome']+\":\",pessoa['Telefone Comercial'])"
   ]
  },
  {
   "cell_type": "markdown",
   "metadata": {},
   "source": [
    "Para adicionar novos campos ao dicionário, basta fazer novas atribuições. Para verificar se um valor existe, use o operador `in`"
   ]
  },
  {
   "cell_type": "code",
   "execution_count": 16,
   "metadata": {},
   "outputs": [
    {
     "name": "stdout",
     "output_type": "stream",
     "text": [
      "Sem João\n"
     ]
    }
   ],
   "source": [
    "pessoa['Profissao']=\"Professor Universitario\"\n",
    "if(\"Joao\" not in telefones):\n",
    "    print(\"Sem João\")"
   ]
  },
  {
   "cell_type": "markdown",
   "metadata": {},
   "source": [
    "### Funções\n",
    "\n",
    "Funções e procedimentos em Python são feitos através da palavra reservada `def`. Parametros ficam entre parêntesis separados por vírgulas, __sem precisar do tipo__. Funções podem ter um retorno, que funciona como no C `return <valor>`. Contudo, lembre: __Tudo que está no menor nível de identação é considerado como parte da main__"
   ]
  },
  {
   "cell_type": "code",
   "execution_count": 17,
   "metadata": {},
   "outputs": [],
   "source": [
    "def quadrado(x):\n",
    "    return x**2\n",
    "\n",
    "def delta(a,b,c):\n",
    "    return b**2-4*a*c\n",
    "\n",
    "def raizseg(a,b,c):\n",
    "    return ((-b + delta(a,b,c)**(1/2))/2*a,(-b - delta(a,b,c)**(1/2))/2*a)\n"
   ]
  },
  {
   "cell_type": "markdown",
   "metadata": {},
   "source": [
    "Esta última função é estranha né? Ela retorna uma tupla, no caso uma dupla. E como acessar isto?"
   ]
  },
  {
   "cell_type": "code",
   "execution_count": 18,
   "metadata": {},
   "outputs": [
    {
     "name": "stdout",
     "output_type": "stream",
     "text": [
      "(3.0, 2.0)\n",
      "3.0\n",
      "2.0\n"
     ]
    }
   ],
   "source": [
    "r = raizseg(1,-5,6)\n",
    "(x1,x2) = raizseg(1,-5,6)\n",
    "print(r)\n",
    "print(x1)\n",
    "print(x2)"
   ]
  },
  {
   "cell_type": "markdown",
   "metadata": {},
   "source": [
    "### Exercícios\n",
    "\n",
    "1 - Faça uma função norm1 que receba uma lista de valores e os normalize dividindo pelo maior da lista\n",
    "\n",
    "2 - Faça uma função norm2 que receba uma lista de valores e os normalize dividindo pela média da lista"
   ]
  },
  {
   "cell_type": "code",
   "execution_count": 19,
   "metadata": {},
   "outputs": [],
   "source": [
    "def norm1(lista):\n",
    "    m = max(lista)\n",
    "    for i in range(len(lista)):\n",
    "        lista[i] /= m\n",
    "    return lista\n",
    "\n",
    "def norm2(lista):\n",
    "    m = sum(lista)/len(lista)\n",
    "    for i in range(len(lista)):\n",
    "        lista[i] /= m\n",
    "    return lista"
   ]
  },
  {
   "cell_type": "code",
   "execution_count": 20,
   "metadata": {},
   "outputs": [
    {
     "data": {
      "text/plain": [
       "[0.25, 0.5, 0.75, 1.0]"
      ]
     },
     "execution_count": 20,
     "metadata": {},
     "output_type": "execute_result"
    }
   ],
   "source": [
    "norm1([1,2,3,4])"
   ]
  },
  {
   "cell_type": "code",
   "execution_count": 21,
   "metadata": {},
   "outputs": [
    {
     "data": {
      "text/plain": [
       "[0.4, 0.8, 1.2, 1.6]"
      ]
     },
     "execution_count": 21,
     "metadata": {},
     "output_type": "execute_result"
    }
   ],
   "source": [
    "norm2([1,2,3,4])"
   ]
  },
  {
   "cell_type": "markdown",
   "metadata": {},
   "source": [
    "### Compreensões em listas\n",
    "\n",
    "Para terminar o básico, uma parte mais interessante: Compreensão de listas. Compreensões (_Comprehentions_) são listas criadas a partir de uma regra.\n",
    "\n",
    "Por exemplo: Você tem uma lista e você quer gerar uma nova que contenha apenas os elementos positivos, você pode:"
   ]
  },
  {
   "cell_type": "markdown",
   "metadata": {},
   "source": [
    "usa notacao de conjuntos\n",
    "a = {e | e pertence L1 ^ e >= 0}\n",
    "faz dicionários também\n",
    "serve para aumentar a e velocidade de programação"
   ]
  },
  {
   "cell_type": "code",
   "execution_count": 24,
   "metadata": {},
   "outputs": [
    {
     "data": {
      "text/plain": [
       "[1, 4, 6, 8]"
      ]
     },
     "execution_count": 24,
     "metadata": {},
     "output_type": "execute_result"
    }
   ],
   "source": [
    "l1 = [1,-2,-3,4,-5,6,-7,8]\n",
    "\n",
    "l2 = [e for e in l1 if e>=0]\n",
    "l2"
   ]
  },
  {
   "cell_type": "markdown",
   "metadata": {},
   "source": [
    "Ou se você quiser os elementos pares de uma lista sejam elevados ao quadrado:"
   ]
  },
  {
   "cell_type": "code",
   "execution_count": 25,
   "metadata": {},
   "outputs": [
    {
     "name": "stdout",
     "output_type": "stream",
     "text": [
      "[16, 36, 64]\n",
      "[0.0, 0.25, 0.5, 0.75, 1.0] [0.0, 0.015625, 0.125, 0.421875, 1.0]\n"
     ]
    }
   ],
   "source": [
    "l3 = [x**2 for x in l2 if x%2==0]\n",
    "print(l3)\n",
    "\n",
    "\n",
    "def cubo(x):\n",
    "    return x**3\n",
    "n = 5\n",
    "dx = 1.0/(n-1)\n",
    "xlist = [i*dx for i in range(n)]\n",
    "ylist = [cubo(x) for x in xlist]\n",
    "print(xlist,ylist)"
   ]
  },
  {
   "cell_type": "markdown",
   "metadata": {},
   "source": [
    "## Numpy\n",
    "\n",
    "Para usar bibliotecas em Python, você deve usar o comando `import`. Para usar a numpy, basta fazer:"
   ]
  },
  {
   "cell_type": "markdown",
   "metadata": {},
   "source": [
    "numpy = numerical python"
   ]
  },
  {
   "cell_type": "markdown",
   "metadata": {},
   "source": [
    "from numpy import *\n",
    "importa tudo sem precisar de np.\n",
    "mas como algumas funções tem o mesmo nome de funcoes do python, bagunça\n",
    "sendo que np é melho pq é mais rápido"
   ]
  },
  {
   "cell_type": "markdown",
   "metadata": {},
   "source": [
    "fortran - formula translator (1960)\n",
    "fazia coisas matemáticas com implementações MUITO rápidas\n",
    "até outro dia, era o melhor de todos em C\n",
    "\n",
    "cobol é aintigona e ainda usada pq ainda funciona muito bem"
   ]
  },
  {
   "cell_type": "code",
   "execution_count": 26,
   "metadata": {},
   "outputs": [],
   "source": [
    "#! serve para rodar um comando do terminal\n",
    "#!pip3.6 install numpy --user\n",
    "import numpy as np"
   ]
  },
  {
   "cell_type": "markdown",
   "metadata": {},
   "source": [
    " Se você usar apenas `import numpy`, você vai ter que usar o nome da biblioteca antes de todas as funções (tipo `numpy.linspace()`. O `as` gera um apelido pra classe, simplificando.\n",
    " \n",
    " Numpy é a biblioteca básica de computação numérica do Python. Ela disponibiliza objetos para vetores/matrizes/tensores, bem como funções otimizadas para eles (similar ao que o MATLAB faz).\n",
    " \n",
    " ### Arrays\n",
    " \n",
    " Arrays são os arranjos padrão de Python. Podem ser vetores (1d), Matrizes (2d) ou Tensores (3+d), e são indexados por tuplas de inteiros não negativos (negativos acessam o array do fim para o início.\n",
    " \n",
    " Qual a diferença para as listas? Arrays tem um único tipo, e são __extremamente__ melhor otimizados.\n",
    " \n",
    " Usando arrays de numpy:"
   ]
  },
  {
   "cell_type": "markdown",
   "metadata": {},
   "source": [
    "array é um arranjo, não vetor - ele independe o numero de dimensoes\n",
    "pode ter n dimensoes:\n",
    "1D - vetor\n",
    "2D - Matriz\n",
    "3D+ - Tensor\n",
    "\n",
    "sao muito mais otimizados que os vetores de C"
   ]
  },
  {
   "cell_type": "code",
   "execution_count": 27,
   "metadata": {},
   "outputs": [
    {
     "name": "stdout",
     "output_type": "stream",
     "text": [
      "<class 'numpy.ndarray'>\n",
      "(3,)\n",
      "1 2 3\n",
      "[5 2 3]\n",
      "(2, 3)\n",
      "1 2 4\n"
     ]
    }
   ],
   "source": [
    "import numpy as np\n",
    "\n",
    "# Cria um arranjo a partir de um vetor\n",
    "a = np.array([1, 2, 3]) \n",
    "print(type(a))           \n",
    "# retorna tupla com as dimensoes do arranjo\n",
    "# 3 elementos na primeira dimensao e 0 na outra - é um vetor coluna: tem 3 linhas\n",
    "# (colunas,linhas)\n",
    "# o len dá o número de lihas\n",
    "print(a.shape) \n",
    "print(a[0], a[1], a[2])   \n",
    "a[0] = 5                  \n",
    "print(a)                  \n",
    "\n",
    "b = np.array([ [1,2,3],[4,5,6] ])    \n",
    "print(b.shape)                     # E este?\n",
    "print(b[0][0], b[0, 1], b[1, 0])   "
   ]
  },
  {
   "cell_type": "markdown",
   "metadata": {},
   "source": [
    "Usos do np.array():\n",
    "converte parâmetro em arranjo"
   ]
  },
  {
   "cell_type": "code",
   "execution_count": 28,
   "metadata": {},
   "outputs": [
    {
     "data": {
      "text/plain": [
       "array(1)"
      ]
     },
     "execution_count": 28,
     "metadata": {},
     "output_type": "execute_result"
    }
   ],
   "source": [
    "#array de 1 so elemento\n",
    "a = np.array(1)\n",
    "print(a)"
   ]
  },
  {
   "cell_type": "code",
   "execution_count": 29,
   "metadata": {},
   "outputs": [
    {
     "name": "stdout",
     "output_type": "stream",
     "text": [
      "[1 2 3]\n"
     ]
    }
   ],
   "source": [
    "#transforma lista em aranjo d numpy\n",
    "a = np.array([1, 2, 3])   \n",
    "print(a)"
   ]
  },
  {
   "cell_type": "code",
   "execution_count": 31,
   "metadata": {},
   "outputs": [
    {
     "name": "stdout",
     "output_type": "stream",
     "text": [
      "[[1 2 3]\n",
      " [4 5 6]]\n",
      "(2, 3)\n"
     ]
    }
   ],
   "source": [
    "b = np.array([ [1,2,3],[4,5,6] ])   \n",
    "print(b)\n",
    "print(b.shape)"
   ]
  },
  {
   "cell_type": "code",
   "execution_count": 32,
   "metadata": {},
   "outputs": [
    {
     "name": "stdout",
     "output_type": "stream",
     "text": [
      "[list([1, 2, 3]) list([4, 5])]\n",
      "(2,)\n"
     ]
    }
   ],
   "source": [
    "# matriz não precisa ser padrao, olha:\n",
    "# Se tentar acessar o elemento [2,2], vai dar erro\n",
    "# o primeiro parametro diz a dimensao em geral\n",
    "b = np.array([ [1,2,3],[4,5] ])   \n",
    "print(b)\n",
    "print(b.shape)"
   ]
  },
  {
   "cell_type": "markdown",
   "metadata": {},
   "source": [
    "estamos usando `np` no lugar de numpy devido ao comando `as`. Além disto, o numpy dá acesso um monte de funções para a criação de matrizes padrão:"
   ]
  },
  {
   "cell_type": "code",
   "execution_count": 33,
   "metadata": {},
   "outputs": [
    {
     "name": "stdout",
     "output_type": "stream",
     "text": [
      "A:\n",
      "[[0. 0.]\n",
      " [0. 0.]]\n",
      "B:\n",
      "[[1. 1.]]\n",
      "C:\n",
      "[[7 7]\n",
      " [7 7]]\n",
      "D:\n",
      "[[1. 0. 0. 0.]\n",
      " [0. 1. 0. 0.]\n",
      " [0. 0. 1. 0.]\n",
      " [0. 0. 0. 1.]]\n",
      "E:\n",
      "[[0.10399312 0.4354711 ]\n",
      " [0.90754863 0.2685093 ]]\n",
      "F:\n",
      "[0.  0.2 0.4 0.6 0.8 1. ]\n",
      "I:\n",
      "[ 1  3  5  7  9 11 13 15 17 19 21 23 25 27 29 31 33 35 37 39 41 43 45 47\n",
      " 49 51 53 55 57 59 61 63 65 67 69 71 73 75 77 79 81 83 85 87 89 91 93 95\n",
      " 97 99]\n"
     ]
    }
   ],
   "source": [
    "#Matriz toda zerada com o shape passado por parâmetro\n",
    "# se botar só um número n, nao tupla, aí vai ser um vetor de tamanho n\n",
    "a = np.zeros((2,2))   \n",
    "print(\"A:\")\n",
    "print(a)              \n",
    "\n",
    "#Matriz tpreenchida com 1s com o shape passado por parâmetro\n",
    "b = np.ones((1,2))   \n",
    "print(\"B:\")\n",
    "print(b)              \n",
    "\n",
    "#Matriz tpreenchida com segundo parametro com o shape passado por parâmetro\n",
    "c = np.full((2,2), 7)  \n",
    "print(\"C:\") \n",
    "print(c)                         \n",
    "\n",
    "# Matriz identidade com dimensão passada por parametro (é uma quadrada)\n",
    "d = np.eye(4)         \n",
    "print(\"D:\")\n",
    "print(d)              \n",
    "                      \n",
    "# Cria uma matriz preenchida por valores aleatórios com o shape passado por parametro\n",
    "# np.random é um pack de geração de número aleatórios\n",
    "e = np.random.random((2,2))  \n",
    "print(\"E:\")\n",
    "print(e)                     \n",
    "               \n",
    "# no intervalo [0,1], gera 6 pontos linearmente espaçados\n",
    "# o 0 e o 1 fazem parte tb, então se quer n pontos, passa n+1 como parametro\n",
    "f = np.linspace(0,1,6)\n",
    "print(\"F:\")\n",
    "print(f)\n",
    "         \n",
    "# é um aray gerado por um for de 1 a 99 com passo 2\n",
    "# o parametro é o passo, nao o numero de pontos\n",
    "i = np.arange(1,100,2)\n",
    "print(\"I:\")\n",
    "print(i)"
   ]
  },
  {
   "cell_type": "markdown",
   "metadata": {},
   "source": [
    "Assim como com as listas, podemos acessar os arrays de numpy de forma poderosa usando o operador `:`"
   ]
  },
  {
   "cell_type": "code",
   "execution_count": 37,
   "metadata": {},
   "outputs": [
    {
     "name": "stdout",
     "output_type": "stream",
     "text": [
      "[5 6 7 8] (4,)\n",
      "[[ 5  6  7  8]\n",
      " [ 9 10 11 12]] (2, 4)\n",
      "[ 2  6 10] (3,)\n",
      "[[ 2]\n",
      " [ 6]\n",
      " [10]] (3, 1)\n"
     ]
    }
   ],
   "source": [
    "a = np.array([[1,2,3,4], [5,6,7,8], [9,10,11,12]])\n",
    "\n",
    "row_r1 = a[1, :]   \n",
    "# no caso, o : é um inter valo abert 1:3 = [1,3) = [1,2]\n",
    "row_r2 = a[1:3, :] \n",
    "print(row_r1, row_r1.shape)  \n",
    "print(row_r2, row_r2.shape)  # Qual a diferenca entre row_r1 e row_r2\n",
    "\n",
    "# Fica mais fácil de ver com colunas\n",
    "# ele já inverte e tranforma em um vetor normal as colunas para não ficar estranho e precisar transpor\n",
    "col_r1 = a[:, 1]\n",
    "# assim gera um vetor coluna de verdade\n",
    "col_r2 = a[:, 1:2]\n",
    "print(col_r1, col_r1.shape)\n",
    "print(col_r2, col_r2.shape)"
   ]
  },
  {
   "cell_type": "code",
   "execution_count": 39,
   "metadata": {},
   "outputs": [
    {
     "data": {
      "text/plain": [
       "array([[ 9, 10, 11, 12],\n",
       "       [ 1,  2,  3,  4],\n",
       "       [ 5,  6,  7,  8]])"
      ]
     },
     "execution_count": 39,
     "metadata": {},
     "output_type": "execute_result"
    }
   ],
   "source": [
    "# troca a ordem das linhas da matriz\n",
    "# passa o índice de cada uma para dizer a ordem que quer\n",
    "a[(2,0,1),:]"
   ]
  },
  {
   "cell_type": "markdown",
   "metadata": {},
   "source": [
    "Além disso, você pode usar também indexação booleana para escolher elementos"
   ]
  },
  {
   "cell_type": "code",
   "execution_count": 40,
   "metadata": {},
   "outputs": [
    {
     "data": {
      "text/plain": [
       "array([ 2,  4,  6,  8, 10, 12])"
      ]
     },
     "execution_count": 40,
     "metadata": {},
     "output_type": "execute_result"
    }
   ],
   "source": [
    "# pega todos os elementos de a que satisfazem a condição passada\n",
    "a[a%2==0]"
   ]
  },
  {
   "cell_type": "markdown",
   "metadata": {},
   "source": [
    "Operações em Numpy são lindas: Basta fazer as operações que você está acostumado (quase):"
   ]
  },
  {
   "cell_type": "code",
   "execution_count": 41,
   "metadata": {},
   "outputs": [
    {
     "name": "stdout",
     "output_type": "stream",
     "text": [
      "[[ 6.  8.]\n",
      " [10. 12.]]\n",
      "[[ 6.  8.]\n",
      " [10. 12.]]\n",
      "[[-4. -4.]\n",
      " [-4. -4.]]\n",
      "[[ 5. 12.]\n",
      " [21. 32.]]\n",
      "[[0.2        0.33333333]\n",
      " [0.42857143 0.5       ]]\n",
      "[[1.         1.41421356]\n",
      " [1.73205081 2.        ]]\n"
     ]
    }
   ],
   "source": [
    "x = np.array([[1,2],[3,4]], dtype=np.float64)\n",
    "y = np.array([[5,6],[7,8]], dtype=np.float64)\n",
    "\n",
    "\n",
    "print(x + y)\n",
    "print(np.add(x, y)) # Sao Equivalentes\n",
    "\n",
    "print(x - y)\n",
    "\n",
    "# multiplica elemento por elemento com índices iguais\n",
    "print(x * y) # PRODUTO ESCALAR\n",
    "\n",
    "print(x / y)\n",
    "\n",
    "print(np.sqrt(x))"
   ]
  },
  {
   "cell_type": "markdown",
   "metadata": {},
   "source": [
    "Como dá para ver no comentário, `*` é o produto escalar, ao invés de multiplicação matricial. Para multiplicar duas matrizes, você deve usar a função `dot()`, que pode ser usada de duas formas, `numpy.dot(m1,m1)` ou `m1.dot(m2)`:"
   ]
  },
  {
   "cell_type": "code",
   "execution_count": 42,
   "metadata": {},
   "outputs": [
    {
     "name": "stdout",
     "output_type": "stream",
     "text": [
      "219\n",
      "219\n",
      "[29 67]\n",
      "[29 67]\n",
      "[[19 22]\n",
      " [43 50]]\n",
      "[[19 22]\n",
      " [43 50]]\n"
     ]
    }
   ],
   "source": [
    "x = np.array([[1,2],[3,4]])\n",
    "y = np.array([[5,6],[7,8]])\n",
    "\n",
    "v = np.array([9,10])\n",
    "w = np.array([11, 12])\n",
    "\n",
    "#Produto interno\n",
    "print(v.dot(w))\n",
    "print(np.dot(v, w))\n",
    "\n",
    "#Matriz x vetor\n",
    "print(x.dot(v))\n",
    "print(np.dot(x, v))\n",
    "\n",
    "#Matriz x Matriz\n",
    "print(x.dot(y))\n",
    "print(np.dot(x, y))"
   ]
  },
  {
   "cell_type": "markdown",
   "metadata": {},
   "source": [
    "Além disto, numpy dá diversas funções úteis sobre seus arrays:"
   ]
  },
  {
   "cell_type": "code",
   "execution_count": 43,
   "metadata": {},
   "outputs": [
    {
     "name": "stdout",
     "output_type": "stream",
     "text": [
      "10\n",
      "9.5\n",
      "5\n",
      "8\n",
      "[[5 7]\n",
      " [6 8]]\n"
     ]
    }
   ],
   "source": [
    "print(x.sum())\n",
    "print(v.mean())\n",
    "print(y.min())\n",
    "print(y.max())\n",
    "print(y.T) # transposta"
   ]
  },
  {
   "cell_type": "markdown",
   "metadata": {},
   "source": [
    "### Exercícios\n",
    "\n",
    "1 - Faça uma função norm1 que receba um arranjo numpy e o normalize dividindo pelo maior da lista\n",
    "\n",
    "2 - Faça uma função norm2 que receba uma arranjo numpy e os normalize dividindo pela média da lista"
   ]
  },
  {
   "cell_type": "code",
   "execution_count": 44,
   "metadata": {},
   "outputs": [
    {
     "name": "stdout",
     "output_type": "stream",
     "text": [
      "[[0.25 0.5 ]\n",
      " [0.75 1.  ]]\n",
      "[[0.4 0.8]\n",
      " [1.2 1.6]]\n"
     ]
    }
   ],
   "source": [
    "def norm1(m):\n",
    "    #todos os elementos sao uma porcentagem do maior e ficam entre 0 e 1\n",
    "    # bom se o maior nao for muito grande\n",
    "    return m/m.max()\n",
    "\n",
    "def norm2(m):\n",
    "    # ruim se o desvio padrão for muito alto\n",
    "    return m/m.mean()\n",
    "\n",
    "print(norm1(x))\n",
    "print(norm2(x))\n",
    "    "
   ]
  },
  {
   "cell_type": "markdown",
   "metadata": {},
   "source": [
    "### Por que usar Numpy?\n",
    "\n",
    "A maioria das funções de Numpy pode ser feita sobre listas, com menos complicações.... Então por que usar Numpy?\n",
    "\n",
    "__VETORIZAÇÃO__\n",
    "\n",
    "Numpy utiliza de diversas operações otimizadas, que funcionam sobre grandes pedaços de vetores/matrizes ao invés de ser elemento por elemento. Ou seja, apesar da lógica ser a mesma, numpy faz operações de lote com vários elementos ao mesmo tempo, acelerando o processamento.\n",
    "\n",
    "Por isto é importante se manter utilizando numpy quando for trabalhar com arranjos (multiplicar um arranjo por uma lista, por exemplo, não é vetorizável)\n",
    "\n",
    "Então mesmo quando for utilizar funções simples como log ou seno, é melhor utilizar as versões de numpy para manter a vetorização:"
   ]
  },
  {
   "cell_type": "markdown",
   "metadata": {},
   "source": [
    "tem otimizações ótimas que aceleram muito\n",
    "mas em geral, python é mais lento pq faz muita coisa que está escondida de nós\n",
    "a vetorização implementa o que quer de um jeito MUITO rápido"
   ]
  },
  {
   "cell_type": "markdown",
   "metadata": {},
   "source": [
    "NUNCA processar uma matriz coluna por coluna\n",
    "por linhas, é mais que o dobro o tempo\n",
    "pq ao pegar um elemento, a mem carrega mais elementos da linha pra cache para tornar mais veloz\n",
    "acesso a elementos de matriz: 2*i + j"
   ]
  },
  {
   "cell_type": "markdown",
   "metadata": {},
   "source": [
    "gcc -O[1...15] otimiza o seu cod em C\n",
    "a partir de O2 pode mudar muito sua lógica as mudanças que ele vai fazer"
   ]
  },
  {
   "cell_type": "code",
   "execution_count": 45,
   "metadata": {},
   "outputs": [
    {
     "data": {
      "text/plain": [
       "array([0.        , 0.17364818, 0.34202014, 0.5       , 0.64278761,\n",
       "       0.76604444, 0.8660254 , 0.93969262, 0.98480775, 1.        ])"
      ]
     },
     "execution_count": 45,
     "metadata": {},
     "output_type": "execute_result"
    }
   ],
   "source": [
    "# Funções matemáticas também é melhor usar as do np\n",
    "# np.sqrt() =/ sqrt()\n",
    "# no e python\n",
    "a = np.linspace(0,0.5,10)\n",
    "a = np.sin(a*np.pi)\n",
    "a"
   ]
  },
  {
   "cell_type": "markdown",
   "metadata": {},
   "source": [
    "Funções também podem ser vetorizáveis, ou seja, rodar tanto pra escalares quanto para vetores de forma otimizada. Contudo, isto só serve para funções sem blocos condicionais ou repetições de saída."
   ]
  },
  {
   "cell_type": "markdown",
   "metadata": {},
   "source": [
    "### Pedindo Ajuda\n",
    "\n",
    "Muitas vezes em Python, seja em notebooks ou em modo iterativo, você pode ficar com muita dúvida sobre como as coisas funcionam. Nestas horas, geralmente o rapaz corre pro google/stackoverflow. Contudo, o Python tem funções de Help embutidas:"
   ]
  },
  {
   "cell_type": "code",
   "execution_count": 46,
   "metadata": {},
   "outputs": [
    {
     "name": "stdout",
     "output_type": "stream",
     "text": [
      "Help on ufunc object:\n",
      "\n",
      "sqrt = class ufunc(builtins.object)\n",
      " |  Functions that operate element by element on whole arrays.\n",
      " |  \n",
      " |  To see the documentation for a specific ufunc, use `info`.  For\n",
      " |  example, ``np.info(np.sin)``.  Because ufuncs are written in C\n",
      " |  (for speed) and linked into Python with NumPy's ufunc facility,\n",
      " |  Python's help() function finds this page whenever help() is called\n",
      " |  on a ufunc.\n",
      " |  \n",
      " |  A detailed explanation of ufuncs can be found in the docs for :ref:`ufuncs`.\n",
      " |  \n",
      " |  Calling ufuncs:\n",
      " |  ===============\n",
      " |  \n",
      " |  op(*x[, out], where=True, **kwargs)\n",
      " |  Apply `op` to the arguments `*x` elementwise, broadcasting the arguments.\n",
      " |  \n",
      " |  The broadcasting rules are:\n",
      " |  \n",
      " |  * Dimensions of length 1 may be prepended to either array.\n",
      " |  * Arrays may be repeated along dimensions of length 1.\n",
      " |  \n",
      " |  Parameters\n",
      " |  ----------\n",
      " |  *x : array_like\n",
      " |      Input arrays.\n",
      " |  out : ndarray, None, or tuple of ndarray and None, optional\n",
      " |      Alternate array object(s) in which to put the result; if provided, it\n",
      " |      must have a shape that the inputs broadcast to. A tuple of arrays\n",
      " |      (possible only as a keyword argument) must have length equal to the\n",
      " |      number of outputs; use `None` for outputs to be allocated by the ufunc.\n",
      " |  where : array_like, optional\n",
      " |      Values of True indicate to calculate the ufunc at that position, values\n",
      " |      of False indicate to leave the value in the output alone.\n",
      " |  **kwargs\n",
      " |      For other keyword-only arguments, see the :ref:`ufunc docs <ufuncs.kwargs>`.\n",
      " |  \n",
      " |  Returns\n",
      " |  -------\n",
      " |  r : ndarray or tuple of ndarray\n",
      " |      `r` will have the shape that the arrays in `x` broadcast to; if `out` is\n",
      " |      provided, `r` will be equal to `out`. If the function has more than one\n",
      " |      output, then the result will be a tuple of arrays.\n",
      " |  \n",
      " |  Methods defined here:\n",
      " |  \n",
      " |  __call__(self, /, *args, **kwargs)\n",
      " |      Call self as a function.\n",
      " |  \n",
      " |  __repr__(self, /)\n",
      " |      Return repr(self).\n",
      " |  \n",
      " |  __str__(self, /)\n",
      " |      Return str(self).\n",
      " |  \n",
      " |  accumulate(...)\n",
      " |      accumulate(array, axis=0, dtype=None, out=None)\n",
      " |      \n",
      " |      Accumulate the result of applying the operator to all elements.\n",
      " |      \n",
      " |      For a one-dimensional array, accumulate produces results equivalent to::\n",
      " |      \n",
      " |        r = np.empty(len(A))\n",
      " |        t = op.identity        # op = the ufunc being applied to A's  elements\n",
      " |        for i in range(len(A)):\n",
      " |            t = op(t, A[i])\n",
      " |            r[i] = t\n",
      " |        return r\n",
      " |      \n",
      " |      For example, add.accumulate() is equivalent to np.cumsum().\n",
      " |      \n",
      " |      For a multi-dimensional array, accumulate is applied along only one\n",
      " |      axis (axis zero by default; see Examples below) so repeated use is\n",
      " |      necessary if one wants to accumulate over multiple axes.\n",
      " |      \n",
      " |      Parameters\n",
      " |      ----------\n",
      " |      array : array_like\n",
      " |          The array to act on.\n",
      " |      axis : int, optional\n",
      " |          The axis along which to apply the accumulation; default is zero.\n",
      " |      dtype : data-type code, optional\n",
      " |          The data-type used to represent the intermediate results. Defaults\n",
      " |          to the data-type of the output array if such is provided, or the\n",
      " |          the data-type of the input array if no output array is provided.\n",
      " |      out : ndarray, None, or tuple of ndarray and None, optional\n",
      " |          A location into which the result is stored. If not provided or `None`,\n",
      " |          a freshly-allocated array is returned. For consistency with\n",
      " |          :ref:`ufunc.__call__`, if given as a keyword, this may be wrapped in a\n",
      " |          1-element tuple.\n",
      " |      \n",
      " |          .. versionchanged:: 1.13.0\n",
      " |             Tuples are allowed for keyword argument.\n",
      " |      \n",
      " |      Returns\n",
      " |      -------\n",
      " |      r : ndarray\n",
      " |          The accumulated values. If `out` was supplied, `r` is a reference to\n",
      " |          `out`.\n",
      " |      \n",
      " |      Examples\n",
      " |      --------\n",
      " |      1-D array examples:\n",
      " |      \n",
      " |      >>> np.add.accumulate([2, 3, 5])\n",
      " |      array([ 2,  5, 10])\n",
      " |      >>> np.multiply.accumulate([2, 3, 5])\n",
      " |      array([ 2,  6, 30])\n",
      " |      \n",
      " |      2-D array examples:\n",
      " |      \n",
      " |      >>> I = np.eye(2)\n",
      " |      >>> I\n",
      " |      array([[ 1.,  0.],\n",
      " |             [ 0.,  1.]])\n",
      " |      \n",
      " |      Accumulate along axis 0 (rows), down columns:\n",
      " |      \n",
      " |      >>> np.add.accumulate(I, 0)\n",
      " |      array([[ 1.,  0.],\n",
      " |             [ 1.,  1.]])\n",
      " |      >>> np.add.accumulate(I) # no axis specified = axis zero\n",
      " |      array([[ 1.,  0.],\n",
      " |             [ 1.,  1.]])\n",
      " |      \n",
      " |      Accumulate along axis 1 (columns), through rows:\n",
      " |      \n",
      " |      >>> np.add.accumulate(I, 1)\n",
      " |      array([[ 1.,  1.],\n",
      " |             [ 0.,  1.]])\n",
      " |  \n",
      " |  at(...)\n",
      " |      at(a, indices, b=None)\n",
      " |      \n",
      " |      Performs unbuffered in place operation on operand 'a' for elements\n",
      " |      specified by 'indices'. For addition ufunc, this method is equivalent to\n",
      " |      `a[indices] += b`, except that results are accumulated for elements that\n",
      " |      are indexed more than once. For example, `a[[0,0]] += 1` will only\n",
      " |      increment the first element once because of buffering, whereas\n",
      " |      `add.at(a, [0,0], 1)` will increment the first element twice.\n",
      " |      \n",
      " |      .. versionadded:: 1.8.0\n",
      " |      \n",
      " |      Parameters\n",
      " |      ----------\n",
      " |      a : array_like\n",
      " |          The array to perform in place operation on.\n",
      " |      indices : array_like or tuple\n",
      " |          Array like index object or slice object for indexing into first\n",
      " |          operand. If first operand has multiple dimensions, indices can be a\n",
      " |          tuple of array like index objects or slice objects.\n",
      " |      b : array_like\n",
      " |          Second operand for ufuncs requiring two operands. Operand must be\n",
      " |          broadcastable over first operand after indexing or slicing.\n",
      " |      \n",
      " |      Examples\n",
      " |      --------\n",
      " |      Set items 0 and 1 to their negative values:\n",
      " |      \n",
      " |      >>> a = np.array([1, 2, 3, 4])\n",
      " |      >>> np.negative.at(a, [0, 1])\n",
      " |      >>> print(a)\n",
      " |      array([-1, -2, 3, 4])\n",
      " |      \n",
      " |      ::\n",
      " |      \n",
      " |      Increment items 0 and 1, and increment item 2 twice:\n",
      " |      \n",
      " |      >>> a = np.array([1, 2, 3, 4])\n",
      " |      >>> np.add.at(a, [0, 1, 2, 2], 1)\n",
      " |      >>> print(a)\n",
      " |      array([2, 3, 5, 4])\n",
      " |      \n",
      " |      ::\n",
      " |      \n",
      " |      Add items 0 and 1 in first array to second array,\n",
      " |      and store results in first array:\n",
      " |      \n",
      " |      >>> a = np.array([1, 2, 3, 4])\n",
      " |      >>> b = np.array([1, 2])\n",
      " |      >>> np.add.at(a, [0, 1], b)\n",
      " |      >>> print(a)\n",
      " |      array([2, 4, 3, 4])\n",
      " |  \n",
      " |  outer(...)\n",
      " |      outer(A, B, **kwargs)\n",
      " |      \n",
      " |      Apply the ufunc `op` to all pairs (a, b) with a in `A` and b in `B`.\n",
      " |      \n",
      " |      Let ``M = A.ndim``, ``N = B.ndim``. Then the result, `C`, of\n",
      " |      ``op.outer(A, B)`` is an array of dimension M + N such that:\n",
      " |      \n",
      " |      .. math:: C[i_0, ..., i_{M-1}, j_0, ..., j_{N-1}] =\n",
      " |         op(A[i_0, ..., i_{M-1}], B[j_0, ..., j_{N-1}])\n",
      " |      \n",
      " |      For `A` and `B` one-dimensional, this is equivalent to::\n",
      " |      \n",
      " |        r = empty(len(A),len(B))\n",
      " |        for i in range(len(A)):\n",
      " |            for j in range(len(B)):\n",
      " |                r[i,j] = op(A[i], B[j]) # op = ufunc in question\n",
      " |      \n",
      " |      Parameters\n",
      " |      ----------\n",
      " |      A : array_like\n",
      " |          First array\n",
      " |      B : array_like\n",
      " |          Second array\n",
      " |      kwargs : any\n",
      " |          Arguments to pass on to the ufunc. Typically `dtype` or `out`.\n",
      " |      \n",
      " |      Returns\n",
      " |      -------\n",
      " |      r : ndarray\n",
      " |          Output array\n",
      " |      \n",
      " |      See Also\n",
      " |      --------\n",
      " |      numpy.outer\n",
      " |      \n",
      " |      Examples\n",
      " |      --------\n",
      " |      >>> np.multiply.outer([1, 2, 3], [4, 5, 6])\n",
      " |      array([[ 4,  5,  6],\n",
      " |             [ 8, 10, 12],\n",
      " |             [12, 15, 18]])\n",
      " |      \n",
      " |      A multi-dimensional example:\n",
      " |      \n",
      " |      >>> A = np.array([[1, 2, 3], [4, 5, 6]])\n",
      " |      >>> A.shape\n",
      " |      (2, 3)\n",
      " |      >>> B = np.array([[1, 2, 3, 4]])\n",
      " |      >>> B.shape\n",
      " |      (1, 4)\n",
      " |      >>> C = np.multiply.outer(A, B)\n",
      " |      >>> C.shape; C\n",
      " |      (2, 3, 1, 4)\n",
      " |      array([[[[ 1,  2,  3,  4]],\n",
      " |              [[ 2,  4,  6,  8]],\n",
      " |              [[ 3,  6,  9, 12]]],\n",
      " |             [[[ 4,  8, 12, 16]],\n",
      " |              [[ 5, 10, 15, 20]],\n",
      " |              [[ 6, 12, 18, 24]]]])\n",
      " |  \n",
      " |  reduce(...)\n",
      " |      reduce(a, axis=0, dtype=None, out=None, keepdims=False)\n",
      " |      \n",
      " |      Reduces `a`'s dimension by one, by applying ufunc along one axis.\n",
      " |      \n",
      " |      Let :math:`a.shape = (N_0, ..., N_i, ..., N_{M-1})`.  Then\n",
      " |      :math:`ufunc.reduce(a, axis=i)[k_0, ..,k_{i-1}, k_{i+1}, .., k_{M-1}]` =\n",
      " |      the result of iterating `j` over :math:`range(N_i)`, cumulatively applying\n",
      " |      ufunc to each :math:`a[k_0, ..,k_{i-1}, j, k_{i+1}, .., k_{M-1}]`.\n",
      " |      For a one-dimensional array, reduce produces results equivalent to:\n",
      " |      ::\n",
      " |      \n",
      " |       r = op.identity # op = ufunc\n",
      " |       for i in range(len(A)):\n",
      " |         r = op(r, A[i])\n",
      " |       return r\n",
      " |      \n",
      " |      For example, add.reduce() is equivalent to sum().\n",
      " |      \n",
      " |      Parameters\n",
      " |      ----------\n",
      " |      a : array_like\n",
      " |          The array to act on.\n",
      " |      axis : None or int or tuple of ints, optional\n",
      " |          Axis or axes along which a reduction is performed.\n",
      " |          The default (`axis` = 0) is perform a reduction over the first\n",
      " |          dimension of the input array. `axis` may be negative, in\n",
      " |          which case it counts from the last to the first axis.\n",
      " |      \n",
      " |          .. versionadded:: 1.7.0\n",
      " |      \n",
      " |          If this is `None`, a reduction is performed over all the axes.\n",
      " |          If this is a tuple of ints, a reduction is performed on multiple\n",
      " |          axes, instead of a single axis or all the axes as before.\n",
      " |      \n",
      " |          For operations which are either not commutative or not associative,\n",
      " |          doing a reduction over multiple axes is not well-defined. The\n",
      " |          ufuncs do not currently raise an exception in this case, but will\n",
      " |          likely do so in the future.\n",
      " |      dtype : data-type code, optional\n",
      " |          The type used to represent the intermediate results. Defaults\n",
      " |          to the data-type of the output array if this is provided, or\n",
      " |          the data-type of the input array if no output array is provided.\n",
      " |      out : ndarray, None, or tuple of ndarray and None, optional\n",
      " |          A location into which the result is stored. If not provided or `None`,\n",
      " |          a freshly-allocated array is returned. For consistency with\n",
      " |          :ref:`ufunc.__call__`, if given as a keyword, this may be wrapped in a\n",
      " |          1-element tuple.\n",
      " |      \n",
      " |          .. versionchanged:: 1.13.0\n",
      " |             Tuples are allowed for keyword argument.\n",
      " |      keepdims : bool, optional\n",
      " |          If this is set to True, the axes which are reduced are left\n",
      " |          in the result as dimensions with size one. With this option,\n",
      " |          the result will broadcast correctly against the original `arr`.\n",
      " |      \n",
      " |          .. versionadded:: 1.7.0\n",
      " |      \n",
      " |      Returns\n",
      " |      -------\n",
      " |      r : ndarray\n",
      " |          The reduced array. If `out` was supplied, `r` is a reference to it.\n",
      " |      \n",
      " |      Examples\n",
      " |      --------\n",
      " |      >>> np.multiply.reduce([2,3,5])\n",
      " |      30\n",
      " |      \n",
      " |      A multi-dimensional array example:\n",
      " |      \n",
      " |      >>> X = np.arange(8).reshape((2,2,2))\n",
      " |      >>> X\n",
      " |      array([[[0, 1],\n",
      " |              [2, 3]],\n",
      " |             [[4, 5],\n",
      " |              [6, 7]]])\n",
      " |      >>> np.add.reduce(X, 0)\n",
      " |      array([[ 4,  6],\n",
      " |             [ 8, 10]])\n",
      " |      >>> np.add.reduce(X) # confirm: default axis value is 0\n",
      " |      array([[ 4,  6],\n",
      " |             [ 8, 10]])\n",
      " |      >>> np.add.reduce(X, 1)\n",
      " |      array([[ 2,  4],\n",
      " |             [10, 12]])\n",
      " |      >>> np.add.reduce(X, 2)\n",
      " |      array([[ 1,  5],\n",
      " |             [ 9, 13]])\n",
      " |  \n",
      " |  reduceat(...)\n",
      " |      reduceat(a, indices, axis=0, dtype=None, out=None)\n",
      " |      \n",
      " |      Performs a (local) reduce with specified slices over a single axis.\n",
      " |      \n",
      " |      For i in ``range(len(indices))``, `reduceat` computes\n",
      " |      ``ufunc.reduce(a[indices[i]:indices[i+1]])``, which becomes the i-th\n",
      " |      generalized \"row\" parallel to `axis` in the final result (i.e., in a\n",
      " |      2-D array, for example, if `axis = 0`, it becomes the i-th row, but if\n",
      " |      `axis = 1`, it becomes the i-th column).  There are three exceptions to this:\n",
      " |      \n",
      " |      * when ``i = len(indices) - 1`` (so for the last index),\n",
      " |        ``indices[i+1] = a.shape[axis]``.\n",
      " |      * if ``indices[i] >= indices[i + 1]``, the i-th generalized \"row\" is\n",
      " |        simply ``a[indices[i]]``.\n",
      " |      * if ``indices[i] >= len(a)`` or ``indices[i] < 0``, an error is raised.\n",
      " |      \n",
      " |      The shape of the output depends on the size of `indices`, and may be\n",
      " |      larger than `a` (this happens if ``len(indices) > a.shape[axis]``).\n",
      " |      \n",
      " |      Parameters\n",
      " |      ----------\n",
      " |      a : array_like\n",
      " |          The array to act on.\n",
      " |      indices : array_like\n",
      " |          Paired indices, comma separated (not colon), specifying slices to\n",
      " |          reduce.\n",
      " |      axis : int, optional\n",
      " |          The axis along which to apply the reduceat.\n",
      " |      dtype : data-type code, optional\n",
      " |          The type used to represent the intermediate results. Defaults\n",
      " |          to the data type of the output array if this is provided, or\n",
      " |          the data type of the input array if no output array is provided.\n",
      " |      out : ndarray, None, or tuple of ndarray and None, optional\n",
      " |          A location into which the result is stored. If not provided or `None`,\n",
      " |          a freshly-allocated array is returned. For consistency with\n",
      " |          :ref:`ufunc.__call__`, if given as a keyword, this may be wrapped in a\n",
      " |          1-element tuple.\n",
      " |      \n",
      " |          .. versionchanged:: 1.13.0\n",
      " |             Tuples are allowed for keyword argument.\n",
      " |      \n",
      " |      Returns\n",
      " |      -------\n",
      " |      r : ndarray\n",
      " |          The reduced values. If `out` was supplied, `r` is a reference to\n",
      " |          `out`.\n",
      " |      \n",
      " |      Notes\n",
      " |      -----\n",
      " |      A descriptive example:\n",
      " |      \n",
      " |      If `a` is 1-D, the function `ufunc.accumulate(a)` is the same as\n",
      " |      ``ufunc.reduceat(a, indices)[::2]`` where `indices` is\n",
      " |      ``range(len(array) - 1)`` with a zero placed\n",
      " |      in every other element:\n",
      " |      ``indices = zeros(2 * len(a) - 1)``, ``indices[1::2] = range(1, len(a))``.\n",
      " |      \n",
      " |      Don't be fooled by this attribute's name: `reduceat(a)` is not\n",
      " |      necessarily smaller than `a`.\n",
      " |      \n",
      " |      Examples\n",
      " |      --------\n",
      " |      To take the running sum of four successive values:\n",
      " |      \n",
      " |      >>> np.add.reduceat(np.arange(8),[0,4, 1,5, 2,6, 3,7])[::2]\n",
      " |      array([ 6, 10, 14, 18])\n",
      " |      \n",
      " |      A 2-D example:\n",
      " |      \n",
      " |      >>> x = np.linspace(0, 15, 16).reshape(4,4)\n",
      " |      >>> x\n",
      " |      array([[  0.,   1.,   2.,   3.],\n",
      " |             [  4.,   5.,   6.,   7.],\n",
      " |             [  8.,   9.,  10.,  11.],\n",
      " |             [ 12.,  13.,  14.,  15.]])\n",
      " |      \n",
      " |      ::\n",
      " |      \n",
      " |       # reduce such that the result has the following five rows:\n",
      " |       # [row1 + row2 + row3]\n",
      " |       # [row4]\n",
      " |       # [row2]\n",
      " |       # [row3]\n",
      " |       # [row1 + row2 + row3 + row4]\n",
      " |      \n",
      " |      >>> np.add.reduceat(x, [0, 3, 1, 2, 0])\n",
      " |      array([[ 12.,  15.,  18.,  21.],\n",
      " |             [ 12.,  13.,  14.,  15.],\n",
      " |             [  4.,   5.,   6.,   7.],\n",
      " |             [  8.,   9.,  10.,  11.],\n",
      " |             [ 24.,  28.,  32.,  36.]])\n",
      " |      \n",
      " |      ::\n",
      " |      \n",
      " |       # reduce such that result has the following two columns:\n",
      " |       # [col1 * col2 * col3, col4]\n",
      " |      \n",
      " |      >>> np.multiply.reduceat(x, [0, 3], 1)\n",
      " |      array([[    0.,     3.],\n",
      " |             [  120.,     7.],\n",
      " |             [  720.,    11.],\n",
      " |             [ 2184.,    15.]])\n",
      " |  \n",
      " |  ----------------------------------------------------------------------\n",
      " |  Data descriptors defined here:\n",
      " |  \n",
      " |  identity\n",
      " |      The identity value.\n",
      " |      \n",
      " |      Data attribute containing the identity element for the ufunc, if it has one.\n",
      " |      If it does not, the attribute value is None.\n",
      " |      \n",
      " |      Examples\n",
      " |      --------\n",
      " |      >>> np.add.identity\n",
      " |      0\n",
      " |      >>> np.multiply.identity\n",
      " |      1\n",
      " |      >>> np.power.identity\n",
      " |      1\n",
      " |      >>> print(np.exp.identity)\n",
      " |      None\n",
      " |  \n",
      " |  nargs\n",
      " |      The number of arguments.\n",
      " |      \n",
      " |      Data attribute containing the number of arguments the ufunc takes, including\n",
      " |      optional ones.\n",
      " |      \n",
      " |      Notes\n",
      " |      -----\n",
      " |      Typically this value will be one more than what you might expect because all\n",
      " |      ufuncs take  the optional \"out\" argument.\n",
      " |      \n",
      " |      Examples\n",
      " |      --------\n",
      " |      >>> np.add.nargs\n",
      " |      3\n",
      " |      >>> np.multiply.nargs\n",
      " |      3\n",
      " |      >>> np.power.nargs\n",
      " |      3\n",
      " |      >>> np.exp.nargs\n",
      " |      2\n",
      " |  \n",
      " |  nin\n",
      " |      The number of inputs.\n",
      " |      \n",
      " |      Data attribute containing the number of arguments the ufunc treats as input.\n",
      " |      \n",
      " |      Examples\n",
      " |      --------\n",
      " |      >>> np.add.nin\n",
      " |      2\n",
      " |      >>> np.multiply.nin\n",
      " |      2\n",
      " |      >>> np.power.nin\n",
      " |      2\n",
      " |      >>> np.exp.nin\n",
      " |      1\n",
      " |  \n",
      " |  nout\n",
      " |      The number of outputs.\n",
      " |      \n",
      " |      Data attribute containing the number of arguments the ufunc treats as output.\n",
      " |      \n",
      " |      Notes\n",
      " |      -----\n",
      " |      Since all ufuncs can take output arguments, this will always be (at least) 1.\n",
      " |      \n",
      " |      Examples\n",
      " |      --------\n",
      " |      >>> np.add.nout\n",
      " |      1\n",
      " |      >>> np.multiply.nout\n",
      " |      1\n",
      " |      >>> np.power.nout\n",
      " |      1\n",
      " |      >>> np.exp.nout\n",
      " |      1\n",
      " |  \n",
      " |  ntypes\n",
      " |      The number of types.\n",
      " |      \n",
      " |      The number of numerical NumPy types - of which there are 18 total - on which\n",
      " |      the ufunc can operate.\n",
      " |      \n",
      " |      See Also\n",
      " |      --------\n",
      " |      numpy.ufunc.types\n",
      " |      \n",
      " |      Examples\n",
      " |      --------\n",
      " |      >>> np.add.ntypes\n",
      " |      18\n",
      " |      >>> np.multiply.ntypes\n",
      " |      18\n",
      " |      >>> np.power.ntypes\n",
      " |      17\n",
      " |      >>> np.exp.ntypes\n",
      " |      7\n",
      " |      >>> np.remainder.ntypes\n",
      " |      14\n",
      " |  \n",
      " |  signature\n",
      " |      Definition of the core elements a generalized ufunc operates on.\n",
      " |      \n",
      " |      The signature determines how the dimensions of each input/output array\n",
      " |      are split into core and loop dimensions:\n",
      " |      \n",
      " |      1. Each dimension in the signature is matched to a dimension of the\n",
      " |         corresponding passed-in array, starting from the end of the shape tuple.\n",
      " |      2. Core dimensions assigned to the same label in the signature must have\n",
      " |         exactly matching sizes, no broadcasting is performed.\n",
      " |      3. The core dimensions are removed from all inputs and the remaining\n",
      " |         dimensions are broadcast together, defining the loop dimensions.\n",
      " |      \n",
      " |      Notes\n",
      " |      -----\n",
      " |      Generalized ufuncs are used internally in many linalg functions, and in\n",
      " |      the testing suite; the examples below are taken from these.\n",
      " |      For ufuncs that operate on scalars, the signature is `None`, which is\n",
      " |      equivalent to '()' for every argument.\n",
      " |      \n",
      " |      Examples\n",
      " |      --------\n",
      " |      >>> np.core.umath_tests.matrix_multiply.signature\n",
      " |      '(m,n),(n,p)->(m,p)'\n",
      " |      >>> np.linalg._umath_linalg.det.signature\n",
      " |      '(m,m)->()'\n",
      " |      >>> np.add.signature is None\n",
      " |      True  # equivalent to '(),()->()'\n",
      " |  \n",
      " |  types\n",
      " |      Returns a list with types grouped input->output.\n",
      " |      \n",
      " |      Data attribute listing the data-type \"Domain-Range\" groupings the ufunc can\n",
      " |      deliver. The data-types are given using the character codes.\n",
      " |      \n",
      " |      See Also\n",
      " |      --------\n",
      " |      numpy.ufunc.ntypes\n",
      " |      \n",
      " |      Examples\n",
      " |      --------\n",
      " |      >>> np.add.types\n",
      " |      ['??->?', 'bb->b', 'BB->B', 'hh->h', 'HH->H', 'ii->i', 'II->I', 'll->l',\n",
      " |      'LL->L', 'qq->q', 'QQ->Q', 'ff->f', 'dd->d', 'gg->g', 'FF->F', 'DD->D',\n",
      " |      'GG->G', 'OO->O']\n",
      " |      \n",
      " |      >>> np.multiply.types\n",
      " |      ['??->?', 'bb->b', 'BB->B', 'hh->h', 'HH->H', 'ii->i', 'II->I', 'll->l',\n",
      " |      'LL->L', 'qq->q', 'QQ->Q', 'ff->f', 'dd->d', 'gg->g', 'FF->F', 'DD->D',\n",
      " |      'GG->G', 'OO->O']\n",
      " |      \n",
      " |      >>> np.power.types\n",
      " |      ['bb->b', 'BB->B', 'hh->h', 'HH->H', 'ii->i', 'II->I', 'll->l', 'LL->L',\n",
      " |      'qq->q', 'QQ->Q', 'ff->f', 'dd->d', 'gg->g', 'FF->F', 'DD->D', 'GG->G',\n",
      " |      'OO->O']\n",
      " |      \n",
      " |      >>> np.exp.types\n",
      " |      ['f->f', 'd->d', 'g->g', 'F->F', 'D->D', 'G->G', 'O->O']\n",
      " |      \n",
      " |      >>> np.remainder.types\n",
      " |      ['bb->b', 'BB->B', 'hh->h', 'HH->H', 'ii->i', 'II->I', 'll->l', 'LL->L',\n",
      " |      'qq->q', 'QQ->Q', 'ff->f', 'dd->d', 'gg->g', 'OO->O']\n",
      "\n"
     ]
    }
   ],
   "source": [
    "# Acessa a documentação das coisas do np\n",
    "help(np.sqrt)\n",
    "#np. <aperte tab depois do np>\n",
    "# mostra as opções"
   ]
  },
  {
   "cell_type": "code",
   "execution_count": null,
   "metadata": {},
   "outputs": [],
   "source": []
  }
 ],
 "metadata": {
  "kernelspec": {
   "display_name": "Python 3",
   "language": "python",
   "name": "python3"
  },
  "language_info": {
   "codemirror_mode": {
    "name": "ipython",
    "version": 3
   },
   "file_extension": ".py",
   "mimetype": "text/x-python",
   "name": "python",
   "nbconvert_exporter": "python",
   "pygments_lexer": "ipython3",
   "version": "3.6.4"
  }
 },
 "nbformat": 4,
 "nbformat_minor": 2
}
